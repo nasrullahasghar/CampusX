{
 "cells": [
  {
   "cell_type": "markdown",
   "id": "cc095582",
   "metadata": {},
   "source": [
    "# **Lasso(L1) and ElasticNet Regressions**"
   ]
  },
  {
   "cell_type": "code",
   "execution_count": 3,
   "id": "5c5c56b5",
   "metadata": {},
   "outputs": [],
   "source": [
    "from sklearn.datasets import load_diabetes\n",
    "from sklearn.linear_model import Lasso , Ridge , ElasticNet , LinearRegression\n",
    "from sklearn.metrics import r2_score\n",
    "from sklearn.model_selection import train_test_split"
   ]
  },
  {
   "cell_type": "code",
   "execution_count": 4,
   "id": "98e01050",
   "metadata": {},
   "outputs": [],
   "source": [
    "X,y = load_diabetes(return_X_y=True)\n",
    "X_train,X_test,y_train,y_test = train_test_split(X,y,test_size=0.2,random_state=2)"
   ]
  },
  {
   "cell_type": "code",
   "execution_count": 5,
   "id": "056a9199",
   "metadata": {},
   "outputs": [
    {
     "data": {
      "text/plain": [
       "0.4399387660024645"
      ]
     },
     "execution_count": 5,
     "metadata": {},
     "output_type": "execute_result"
    }
   ],
   "source": [
    "# Linear Regression\n",
    "reg = LinearRegression()\n",
    "reg.fit(X_train,y_train)\n",
    "y_pred = reg.predict(X_test)\n",
    "r2_score(y_test,y_pred)\n",
    "0.4399387660024645\n"
   ]
  },
  {
   "cell_type": "code",
   "execution_count": 6,
   "id": "a2a07857",
   "metadata": {},
   "outputs": [
    {
     "data": {
      "text/plain": [
       "0.4519973816947852"
      ]
     },
     "execution_count": 6,
     "metadata": {},
     "output_type": "execute_result"
    }
   ],
   "source": [
    "# Ridge \n",
    "reg = Ridge(alpha=0.1)\n",
    "reg.fit(X_train,y_train)\n",
    "y_pred = reg.predict(X_test)\n",
    "r2_score(y_test,y_pred)\n",
    "0.4519973816947852"
   ]
  },
  {
   "cell_type": "code",
   "execution_count": 7,
   "id": "bb48dc79",
   "metadata": {},
   "outputs": [
    {
     "data": {
      "text/plain": [
       "0.4411227990495632"
      ]
     },
     "execution_count": 7,
     "metadata": {},
     "output_type": "execute_result"
    }
   ],
   "source": [
    "# Lasso\n",
    "reg = Lasso(alpha=0.01)\n",
    "reg.fit(X_train,y_train)\n",
    "y_pred = reg.predict(X_test)\n",
    "r2_score(y_test,y_pred)\n",
    "0.4411227990495632"
   ]
  },
  {
   "cell_type": "code",
   "execution_count": 8,
   "id": "7e35db61",
   "metadata": {},
   "outputs": [
    {
     "data": {
      "text/plain": [
       "0.4531474541554823"
      ]
     },
     "execution_count": 8,
     "metadata": {},
     "output_type": "execute_result"
    }
   ],
   "source": [
    "# ElasticNet\n",
    "reg = ElasticNet(alpha=0.005,l1_ratio=0.9)\n",
    "reg.fit(X_train,y_train)\n",
    "y_pred = reg.predict(X_test)\n",
    "r2_score(y_test,y_pred)"
   ]
  }
 ],
 "metadata": {
  "kernelspec": {
   "display_name": "python_ml",
   "language": "python",
   "name": "python3"
  },
  "language_info": {
   "codemirror_mode": {
    "name": "ipython",
    "version": 3
   },
   "file_extension": ".py",
   "mimetype": "text/x-python",
   "name": "python",
   "nbconvert_exporter": "python",
   "pygments_lexer": "ipython3",
   "version": "3.12.3"
  }
 },
 "nbformat": 4,
 "nbformat_minor": 5
}
