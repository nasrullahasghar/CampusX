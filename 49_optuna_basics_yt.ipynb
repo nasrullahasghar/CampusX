{
  "cells": [
    {
      "cell_type": "code",
      "execution_count": 1,
      "metadata": {
        "colab": {
          "base_uri": "https://localhost:8080/",
          "height": 206
        },
        "id": "fT-y3-gHShSh",
        "outputId": "142e2083-40c3-4ee4-e474-faf13bd206b3"
      },
      "outputs": [
        {
          "data": {
            "text/html": [
              "<div>\n",
              "<style scoped>\n",
              "    .dataframe tbody tr th:only-of-type {\n",
              "        vertical-align: middle;\n",
              "    }\n",
              "\n",
              "    .dataframe tbody tr th {\n",
              "        vertical-align: top;\n",
              "    }\n",
              "\n",
              "    .dataframe thead th {\n",
              "        text-align: right;\n",
              "    }\n",
              "</style>\n",
              "<table border=\"1\" class=\"dataframe\">\n",
              "  <thead>\n",
              "    <tr style=\"text-align: right;\">\n",
              "      <th></th>\n",
              "      <th>Pregnancies</th>\n",
              "      <th>Glucose</th>\n",
              "      <th>BloodPressure</th>\n",
              "      <th>SkinThickness</th>\n",
              "      <th>Insulin</th>\n",
              "      <th>BMI</th>\n",
              "      <th>DiabetesPedigreeFunction</th>\n",
              "      <th>Age</th>\n",
              "      <th>Outcome</th>\n",
              "    </tr>\n",
              "  </thead>\n",
              "  <tbody>\n",
              "    <tr>\n",
              "      <th>0</th>\n",
              "      <td>6</td>\n",
              "      <td>148</td>\n",
              "      <td>72</td>\n",
              "      <td>35</td>\n",
              "      <td>0</td>\n",
              "      <td>33.6</td>\n",
              "      <td>0.627</td>\n",
              "      <td>50</td>\n",
              "      <td>1</td>\n",
              "    </tr>\n",
              "    <tr>\n",
              "      <th>1</th>\n",
              "      <td>1</td>\n",
              "      <td>85</td>\n",
              "      <td>66</td>\n",
              "      <td>29</td>\n",
              "      <td>0</td>\n",
              "      <td>26.6</td>\n",
              "      <td>0.351</td>\n",
              "      <td>31</td>\n",
              "      <td>0</td>\n",
              "    </tr>\n",
              "    <tr>\n",
              "      <th>2</th>\n",
              "      <td>8</td>\n",
              "      <td>183</td>\n",
              "      <td>64</td>\n",
              "      <td>0</td>\n",
              "      <td>0</td>\n",
              "      <td>23.3</td>\n",
              "      <td>0.672</td>\n",
              "      <td>32</td>\n",
              "      <td>1</td>\n",
              "    </tr>\n",
              "    <tr>\n",
              "      <th>3</th>\n",
              "      <td>1</td>\n",
              "      <td>89</td>\n",
              "      <td>66</td>\n",
              "      <td>23</td>\n",
              "      <td>94</td>\n",
              "      <td>28.1</td>\n",
              "      <td>0.167</td>\n",
              "      <td>21</td>\n",
              "      <td>0</td>\n",
              "    </tr>\n",
              "    <tr>\n",
              "      <th>4</th>\n",
              "      <td>0</td>\n",
              "      <td>137</td>\n",
              "      <td>40</td>\n",
              "      <td>35</td>\n",
              "      <td>168</td>\n",
              "      <td>43.1</td>\n",
              "      <td>2.288</td>\n",
              "      <td>33</td>\n",
              "      <td>1</td>\n",
              "    </tr>\n",
              "  </tbody>\n",
              "</table>\n",
              "</div>"
            ],
            "text/plain": [
              "   Pregnancies  Glucose  BloodPressure  SkinThickness  Insulin   BMI  \\\n",
              "0            6      148             72             35        0  33.6   \n",
              "1            1       85             66             29        0  26.6   \n",
              "2            8      183             64              0        0  23.3   \n",
              "3            1       89             66             23       94  28.1   \n",
              "4            0      137             40             35      168  43.1   \n",
              "\n",
              "   DiabetesPedigreeFunction  Age  Outcome  \n",
              "0                     0.627   50        1  \n",
              "1                     0.351   31        0  \n",
              "2                     0.672   32        1  \n",
              "3                     0.167   21        0  \n",
              "4                     2.288   33        1  "
            ]
          },
          "execution_count": 1,
          "metadata": {},
          "output_type": "execute_result"
        }
      ],
      "source": [
        "# Import necessary libraries\n",
        "import optuna\n",
        "from sklearn.datasets import load_diabetes\n",
        "from sklearn.model_selection import train_test_split\n",
        "from sklearn.preprocessing import StandardScaler\n",
        "\n",
        "# Load the Pima Indian Diabetes dataset from sklearn\n",
        "# Note: Scikit-learn's built-in 'load_diabetes' is a regression dataset.\n",
        "# We will load the actual diabetes dataset from an external source\n",
        "import pandas as pd\n",
        "\n",
        "# Load the Pima Indian Diabetes dataset (from UCI repository)\n",
        "url = \"https://raw.githubusercontent.com/jbrownlee/Datasets/master/pima-indians-diabetes.data.csv\"\n",
        "columns = ['Pregnancies', 'Glucose', 'BloodPressure', 'SkinThickness', 'Insulin', 'BMI',\n",
        "           'DiabetesPedigreeFunction', 'Age', 'Outcome']\n",
        "\n",
        "# Load the dataset\n",
        "df = pd.read_csv(url, names=columns)\n",
        "\n",
        "df.head()"
      ]
    },
    {
      "cell_type": "code",
      "execution_count": 2,
      "metadata": {
        "colab": {
          "base_uri": "https://localhost:8080/"
        },
        "id": "tZ_ggrcuTcgI",
        "outputId": "3f1e3a6c-aa89-44cb-afaa-17bec97e3eea"
      },
      "outputs": [
        {
          "name": "stdout",
          "output_type": "stream",
          "text": [
            "Pregnancies                 0\n",
            "Glucose                     0\n",
            "BloodPressure               0\n",
            "SkinThickness               0\n",
            "Insulin                     0\n",
            "BMI                         0\n",
            "DiabetesPedigreeFunction    0\n",
            "Age                         0\n",
            "Outcome                     0\n",
            "dtype: int64\n"
          ]
        }
      ],
      "source": [
        "import numpy as np\n",
        "\n",
        "# Replace zero values with NaN in columns where zero is not a valid value\n",
        "cols_with_missing_vals = ['Glucose', 'BloodPressure', 'SkinThickness', 'Insulin', 'BMI']\n",
        "df[cols_with_missing_vals] = df[cols_with_missing_vals].replace(0, np.nan)\n",
        "\n",
        "# Impute the missing values with the mean of the respective column\n",
        "df.fillna(df.mean(), inplace=True)\n",
        "\n",
        "# Check if there are any remaining missing values\n",
        "print(df.isnull().sum())\n"
      ]
    },
    {
      "cell_type": "code",
      "execution_count": 3,
      "metadata": {
        "colab": {
          "base_uri": "https://localhost:8080/"
        },
        "id": "3arW9ktITIHB",
        "outputId": "b23d4539-5825-4847-9546-186a40d0f8c4"
      },
      "outputs": [
        {
          "name": "stdout",
          "output_type": "stream",
          "text": [
            "Training set shape: (537, 8)\n",
            "Test set shape: (231, 8)\n"
          ]
        }
      ],
      "source": [
        "# Split into features (X) and target (y)\n",
        "X = df.drop('Outcome', axis=1)\n",
        "y = df['Outcome']\n",
        "\n",
        "# Split data into training and test sets (70% train, 30% test)\n",
        "X_train, X_test, y_train, y_test = train_test_split(X, y, test_size=0.3, random_state=42)\n",
        "\n",
        "# Optional: Scale the data for better model performance\n",
        "scaler = StandardScaler()\n",
        "X_train = scaler.fit_transform(X_train)\n",
        "X_test = scaler.transform(X_test)\n",
        "\n",
        "# Check the shape of the data\n",
        "print(f'Training set shape: {X_train.shape}')\n",
        "print(f'Test set shape: {X_test.shape}')\n"
      ]
    },
    {
      "cell_type": "code",
      "execution_count": 4,
      "metadata": {
        "id": "vAbA51fJTrb-"
      },
      "outputs": [],
      "source": [
        "from sklearn.ensemble import RandomForestClassifier\n",
        "from sklearn.model_selection import cross_val_score\n",
        "\n",
        "# Define the objective function\n",
        "def objective(trial):\n",
        "    # Suggest values for the hyperparameters\n",
        "    n_estimators = trial.suggest_int('n_estimators', 50, 200)\n",
        "    max_depth = trial.suggest_int('max_depth', 3, 20)\n",
        "\n",
        "    # Create the RandomForestClassifier with suggested hyperparameters\n",
        "    model = RandomForestClassifier(\n",
        "        n_estimators=n_estimators,\n",
        "        max_depth=max_depth,\n",
        "        random_state=42\n",
        "    )\n",
        "\n",
        "    # Perform 3-fold cross-validation and calculate accuracy\n",
        "    score = cross_val_score(model, X_train, y_train, cv=3, scoring='accuracy').mean()\n",
        "\n",
        "    return score  # Return the accuracy score for Optuna to maximize\n"
      ]
    },
    {
      "cell_type": "code",
      "execution_count": 5,
      "metadata": {
        "colab": {
          "base_uri": "https://localhost:8080/"
        },
        "id": "xN9Zi4k4UbBF",
        "outputId": "064439aa-1328-43d5-979d-ba1ecdc2f653"
      },
      "outputs": [
        {
          "name": "stderr",
          "output_type": "stream",
          "text": [
            "[I 2025-09-14 11:33:03,033] A new study created in memory with name: no-name-2e481d2c-d91d-4918-85d9-f649a72efc1d\n",
            "[I 2025-09-14 11:33:05,212] Trial 0 finished with value: 0.7690875232774674 and parameters: {'n_estimators': 161, 'max_depth': 10}. Best is trial 0 with value: 0.7690875232774674.\n",
            "[I 2025-09-14 11:33:06,715] Trial 1 finished with value: 0.7672253258845437 and parameters: {'n_estimators': 107, 'max_depth': 11}. Best is trial 0 with value: 0.7690875232774674.\n",
            "[I 2025-09-14 11:33:08,997] Trial 2 finished with value: 0.7728119180633147 and parameters: {'n_estimators': 168, 'max_depth': 14}. Best is trial 2 with value: 0.7728119180633147.\n",
            "[I 2025-09-14 11:33:11,499] Trial 3 finished with value: 0.7560521415270017 and parameters: {'n_estimators': 200, 'max_depth': 6}. Best is trial 2 with value: 0.7728119180633147.\n",
            "[I 2025-09-14 11:33:13,791] Trial 4 finished with value: 0.7579143389199254 and parameters: {'n_estimators': 162, 'max_depth': 4}. Best is trial 2 with value: 0.7728119180633147.\n",
            "[I 2025-09-14 11:33:14,716] Trial 5 finished with value: 0.7597765363128491 and parameters: {'n_estimators': 68, 'max_depth': 3}. Best is trial 2 with value: 0.7728119180633147.\n",
            "[I 2025-09-14 11:33:15,560] Trial 6 finished with value: 0.756052141527002 and parameters: {'n_estimators': 71, 'max_depth': 3}. Best is trial 2 with value: 0.7728119180633147.\n",
            "[I 2025-09-14 11:33:17,459] Trial 7 finished with value: 0.7672253258845437 and parameters: {'n_estimators': 144, 'max_depth': 16}. Best is trial 2 with value: 0.7728119180633147.\n",
            "[I 2025-09-14 11:33:18,720] Trial 8 finished with value: 0.7597765363128491 and parameters: {'n_estimators': 89, 'max_depth': 4}. Best is trial 2 with value: 0.7728119180633147.\n",
            "[I 2025-09-14 11:33:22,121] Trial 9 finished with value: 0.7728119180633147 and parameters: {'n_estimators': 196, 'max_depth': 7}. Best is trial 2 with value: 0.7728119180633147.\n",
            "[I 2025-09-14 11:33:24,411] Trial 10 finished with value: 0.7783985102420856 and parameters: {'n_estimators': 129, 'max_depth': 18}. Best is trial 10 with value: 0.7783985102420856.\n",
            "[I 2025-09-14 11:33:26,868] Trial 11 finished with value: 0.7765363128491621 and parameters: {'n_estimators': 128, 'max_depth': 20}. Best is trial 10 with value: 0.7783985102420856.\n",
            "[I 2025-09-14 11:33:28,692] Trial 12 finished with value: 0.7765363128491619 and parameters: {'n_estimators': 122, 'max_depth': 20}. Best is trial 10 with value: 0.7783985102420856.\n",
            "[I 2025-09-14 11:33:31,362] Trial 13 finished with value: 0.7765363128491621 and parameters: {'n_estimators': 128, 'max_depth': 20}. Best is trial 10 with value: 0.7783985102420856.\n",
            "[I 2025-09-14 11:33:33,053] Trial 14 finished with value: 0.7728119180633147 and parameters: {'n_estimators': 105, 'max_depth': 16}. Best is trial 10 with value: 0.7783985102420856.\n",
            "[I 2025-09-14 11:33:35,069] Trial 15 finished with value: 0.7746741154562383 and parameters: {'n_estimators': 137, 'max_depth': 18}. Best is trial 10 with value: 0.7783985102420856.\n",
            "[I 2025-09-14 11:33:36,603] Trial 16 finished with value: 0.7690875232774674 and parameters: {'n_estimators': 101, 'max_depth': 14}. Best is trial 10 with value: 0.7783985102420856.\n",
            "[I 2025-09-14 11:33:38,770] Trial 17 finished with value: 0.7672253258845437 and parameters: {'n_estimators': 146, 'max_depth': 18}. Best is trial 10 with value: 0.7783985102420856.\n",
            "[I 2025-09-14 11:33:41,516] Trial 18 finished with value: 0.7672253258845437 and parameters: {'n_estimators': 179, 'max_depth': 18}. Best is trial 10 with value: 0.7783985102420856.\n",
            "[I 2025-09-14 11:33:42,899] Trial 19 finished with value: 0.7728119180633147 and parameters: {'n_estimators': 120, 'max_depth': 14}. Best is trial 10 with value: 0.7783985102420856.\n",
            "[I 2025-09-14 11:33:43,990] Trial 20 finished with value: 0.7616387337057727 and parameters: {'n_estimators': 84, 'max_depth': 16}. Best is trial 10 with value: 0.7783985102420856.\n",
            "[I 2025-09-14 11:33:45,759] Trial 21 finished with value: 0.7765363128491619 and parameters: {'n_estimators': 135, 'max_depth': 20}. Best is trial 10 with value: 0.7783985102420856.\n",
            "[I 2025-09-14 11:33:47,359] Trial 22 finished with value: 0.7802607076350093 and parameters: {'n_estimators': 121, 'max_depth': 20}. Best is trial 22 with value: 0.7802607076350093.\n",
            "[I 2025-09-14 11:33:48,773] Trial 23 finished with value: 0.7783985102420856 and parameters: {'n_estimators': 116, 'max_depth': 18}. Best is trial 22 with value: 0.7802607076350093.\n",
            "[I 2025-09-14 11:33:50,082] Trial 24 finished with value: 0.7765363128491621 and parameters: {'n_estimators': 111, 'max_depth': 18}. Best is trial 22 with value: 0.7802607076350093.\n",
            "[I 2025-09-14 11:33:50,795] Trial 25 finished with value: 0.7783985102420857 and parameters: {'n_estimators': 55, 'max_depth': 17}. Best is trial 22 with value: 0.7802607076350093.\n",
            "[I 2025-09-14 11:33:51,460] Trial 26 finished with value: 0.7765363128491621 and parameters: {'n_estimators': 54, 'max_depth': 16}. Best is trial 22 with value: 0.7802607076350093.\n",
            "[I 2025-09-14 11:33:52,627] Trial 27 finished with value: 0.7653631284916201 and parameters: {'n_estimators': 94, 'max_depth': 15}. Best is trial 22 with value: 0.7802607076350093.\n",
            "[I 2025-09-14 11:33:53,379] Trial 28 finished with value: 0.7635009310986964 and parameters: {'n_estimators': 54, 'max_depth': 12}. Best is trial 22 with value: 0.7802607076350093.\n",
            "[I 2025-09-14 11:33:54,288] Trial 29 finished with value: 0.7728119180633147 and parameters: {'n_estimators': 75, 'max_depth': 9}. Best is trial 22 with value: 0.7802607076350093.\n",
            "[I 2025-09-14 11:33:56,141] Trial 30 finished with value: 0.7653631284916201 and parameters: {'n_estimators': 150, 'max_depth': 12}. Best is trial 22 with value: 0.7802607076350093.\n",
            "[I 2025-09-14 11:33:57,506] Trial 31 finished with value: 0.7783985102420856 and parameters: {'n_estimators': 114, 'max_depth': 19}. Best is trial 22 with value: 0.7802607076350093.\n",
            "[I 2025-09-14 11:33:59,034] Trial 32 finished with value: 0.7709497206703911 and parameters: {'n_estimators': 99, 'max_depth': 17}. Best is trial 22 with value: 0.7802607076350093.\n",
            "[I 2025-09-14 11:34:01,182] Trial 33 finished with value: 0.7728119180633147 and parameters: {'n_estimators': 156, 'max_depth': 19}. Best is trial 22 with value: 0.7802607076350093.\n",
            "[I 2025-09-14 11:34:03,024] Trial 34 finished with value: 0.7746741154562384 and parameters: {'n_estimators': 137, 'max_depth': 17}. Best is trial 22 with value: 0.7802607076350093.\n",
            "[I 2025-09-14 11:34:05,296] Trial 35 finished with value: 0.7709497206703911 and parameters: {'n_estimators': 177, 'max_depth': 19}. Best is trial 22 with value: 0.7802607076350093.\n",
            "[I 2025-09-14 11:34:06,287] Trial 36 finished with value: 0.7709497206703911 and parameters: {'n_estimators': 80, 'max_depth': 13}. Best is trial 22 with value: 0.7802607076350093.\n",
            "[I 2025-09-14 11:34:07,679] Trial 37 finished with value: 0.7690875232774674 and parameters: {'n_estimators': 116, 'max_depth': 10}. Best is trial 22 with value: 0.7802607076350093.\n",
            "[I 2025-09-14 11:34:08,486] Trial 38 finished with value: 0.7728119180633147 and parameters: {'n_estimators': 64, 'max_depth': 17}. Best is trial 22 with value: 0.7802607076350093.\n",
            "[I 2025-09-14 11:34:10,399] Trial 39 finished with value: 0.7690875232774674 and parameters: {'n_estimators': 165, 'max_depth': 15}. Best is trial 22 with value: 0.7802607076350093.\n",
            "[I 2025-09-14 11:34:11,562] Trial 40 finished with value: 0.7746741154562384 and parameters: {'n_estimators': 91, 'max_depth': 19}. Best is trial 22 with value: 0.7802607076350093.\n",
            "[I 2025-09-14 11:34:13,103] Trial 41 finished with value: 0.7783985102420856 and parameters: {'n_estimators': 113, 'max_depth': 19}. Best is trial 22 with value: 0.7802607076350093.\n",
            "[I 2025-09-14 11:34:14,787] Trial 42 finished with value: 0.7765363128491621 and parameters: {'n_estimators': 126, 'max_depth': 17}. Best is trial 22 with value: 0.7802607076350093.\n",
            "[I 2025-09-14 11:34:15,945] Trial 43 finished with value: 0.7746741154562384 and parameters: {'n_estimators': 107, 'max_depth': 19}. Best is trial 22 with value: 0.7802607076350093.\n",
            "[I 2025-09-14 11:34:17,519] Trial 44 finished with value: 0.7765363128491619 and parameters: {'n_estimators': 135, 'max_depth': 20}. Best is trial 22 with value: 0.7802607076350093.\n",
            "[I 2025-09-14 11:34:18,276] Trial 45 finished with value: 0.7746741154562384 and parameters: {'n_estimators': 63, 'max_depth': 18}. Best is trial 22 with value: 0.7802607076350093.\n",
            "[I 2025-09-14 11:34:19,779] Trial 46 finished with value: 0.7802607076350093 and parameters: {'n_estimators': 118, 'max_depth': 15}. Best is trial 22 with value: 0.7802607076350093.\n",
            "[I 2025-09-14 11:34:21,214] Trial 47 finished with value: 0.7858472998137803 and parameters: {'n_estimators': 121, 'max_depth': 15}. Best is trial 47 with value: 0.7858472998137803.\n",
            "[I 2025-09-14 11:34:22,814] Trial 48 finished with value: 0.7728119180633147 and parameters: {'n_estimators': 130, 'max_depth': 15}. Best is trial 47 with value: 0.7858472998137803.\n",
            "[I 2025-09-14 11:34:24,552] Trial 49 finished with value: 0.7690875232774674 and parameters: {'n_estimators': 153, 'max_depth': 13}. Best is trial 47 with value: 0.7858472998137803.\n"
          ]
        }
      ],
      "source": [
        "# Create a study object and optimize the objective function\n",
        "study = optuna.create_study(direction='maximize', sampler=optuna.samplers.TPESampler())  # We aim to maximize accuracy\n",
        "study.optimize(objective, n_trials=50)  # Run 50 trials to find the best hyperparameters\n"
      ]
    },
    {
      "cell_type": "code",
      "execution_count": 6,
      "metadata": {
        "colab": {
          "base_uri": "https://localhost:8080/"
        },
        "id": "7UAUdw33fCgH",
        "outputId": "193d6c2b-eacd-4775-e22b-591b9534412d"
      },
      "outputs": [
        {
          "name": "stdout",
          "output_type": "stream",
          "text": [
            "Best trial accuracy: 0.7858472998137803\n",
            "Best hyperparameters: {'n_estimators': 121, 'max_depth': 15}\n"
          ]
        }
      ],
      "source": [
        "\n",
        "# Print the best result\n",
        "print(f'Best trial accuracy: {study.best_trial.value}')\n",
        "print(f'Best hyperparameters: {study.best_trial.params}')"
      ]
    },
    {
      "cell_type": "code",
      "execution_count": 7,
      "metadata": {
        "colab": {
          "base_uri": "https://localhost:8080/"
        },
        "id": "tb1zm_lAUtnC",
        "outputId": "440b2cc9-bf83-47fe-ae95-2661f508e651"
      },
      "outputs": [
        {
          "name": "stdout",
          "output_type": "stream",
          "text": [
            "Test Accuracy with best hyperparameters: 0.76\n"
          ]
        }
      ],
      "source": [
        "from sklearn.metrics import accuracy_score\n",
        "\n",
        "# Train a RandomForestClassifier using the best hyperparameters from Optuna\n",
        "best_model = RandomForestClassifier(**study.best_trial.params, random_state=42)\n",
        "\n",
        "# Fit the model to the training data\n",
        "best_model.fit(X_train, y_train)\n",
        "\n",
        "# Make predictions on the test set\n",
        "y_pred = best_model.predict(X_test)\n",
        "\n",
        "# Calculate the accuracy on the test set\n",
        "test_accuracy = accuracy_score(y_test, y_pred)\n",
        "\n",
        "# Print the test accuracy\n",
        "print(f'Test Accuracy with best hyperparameters: {test_accuracy:.2f}')\n"
      ]
    },
    {
      "cell_type": "markdown",
      "metadata": {
        "id": "o2xS9eSIuInj"
      },
      "source": [
        "## Samplers in Optuna"
      ]
    },
    {
      "cell_type": "code",
      "execution_count": 8,
      "metadata": {
        "id": "HV7qYl2LzwnJ"
      },
      "outputs": [],
      "source": [
        "from sklearn.ensemble import RandomForestClassifier\n",
        "from sklearn.model_selection import cross_val_score\n",
        "\n",
        "# Define the objective function\n",
        "def objective(trial):\n",
        "    # Suggest values for the hyperparameters\n",
        "    n_estimators = trial.suggest_int('n_estimators', 50, 200)\n",
        "    max_depth = trial.suggest_int('max_depth', 3, 20)\n",
        "\n",
        "    # Create the RandomForestClassifier with suggested hyperparameters\n",
        "    model = RandomForestClassifier(\n",
        "        n_estimators=n_estimators,\n",
        "        max_depth=max_depth,\n",
        "        random_state=42\n",
        "    )\n",
        "\n",
        "    # Perform 3-fold cross-validation and calculate accuracy\n",
        "    score = cross_val_score(model, X_train, y_train, cv=3, scoring='accuracy').mean()\n",
        "\n",
        "    return score  # Return the accuracy score for Optuna to maximize\n"
      ]
    },
    {
      "cell_type": "code",
      "execution_count": 9,
      "metadata": {
        "colab": {
          "base_uri": "https://localhost:8080/"
        },
        "id": "69ySFwlocrsv",
        "outputId": "b2c7591f-fb34-4d76-afc9-171cd86b8121"
      },
      "outputs": [
        {
          "name": "stderr",
          "output_type": "stream",
          "text": [
            "[I 2025-09-14 11:34:25,457] A new study created in memory with name: no-name-50f7b8bb-8372-403b-8c51-28162b04cf94\n",
            "[I 2025-09-14 11:34:26,617] Trial 0 finished with value: 0.7672253258845437 and parameters: {'n_estimators': 65, 'max_depth': 9}. Best is trial 0 with value: 0.7672253258845437.\n",
            "[I 2025-09-14 11:34:27,986] Trial 1 finished with value: 0.7709497206703911 and parameters: {'n_estimators': 80, 'max_depth': 8}. Best is trial 1 with value: 0.7709497206703911.\n",
            "[I 2025-09-14 11:34:29,856] Trial 2 finished with value: 0.7690875232774674 and parameters: {'n_estimators': 145, 'max_depth': 16}. Best is trial 1 with value: 0.7709497206703911.\n",
            "[I 2025-09-14 11:34:31,678] Trial 3 finished with value: 0.7653631284916201 and parameters: {'n_estimators': 149, 'max_depth': 5}. Best is trial 1 with value: 0.7709497206703911.\n",
            "[I 2025-09-14 11:34:33,987] Trial 4 finished with value: 0.7672253258845437 and parameters: {'n_estimators': 155, 'max_depth': 11}. Best is trial 1 with value: 0.7709497206703911.\n",
            "[I 2025-09-14 11:34:35,362] Trial 5 finished with value: 0.7690875232774674 and parameters: {'n_estimators': 104, 'max_depth': 16}. Best is trial 1 with value: 0.7709497206703911.\n",
            "[I 2025-09-14 11:34:36,072] Trial 6 finished with value: 0.7672253258845437 and parameters: {'n_estimators': 54, 'max_depth': 9}. Best is trial 1 with value: 0.7709497206703911.\n",
            "[I 2025-09-14 11:34:37,485] Trial 7 finished with value: 0.7783985102420856 and parameters: {'n_estimators': 123, 'max_depth': 19}. Best is trial 7 with value: 0.7783985102420856.\n",
            "[I 2025-09-14 11:34:38,770] Trial 8 finished with value: 0.7802607076350093 and parameters: {'n_estimators': 116, 'max_depth': 19}. Best is trial 8 with value: 0.7802607076350093.\n",
            "[I 2025-09-14 11:34:40,208] Trial 9 finished with value: 0.7672253258845437 and parameters: {'n_estimators': 109, 'max_depth': 5}. Best is trial 8 with value: 0.7802607076350093.\n",
            "[I 2025-09-14 11:34:41,496] Trial 10 finished with value: 0.7690875232774674 and parameters: {'n_estimators': 94, 'max_depth': 12}. Best is trial 8 with value: 0.7802607076350093.\n",
            "[I 2025-09-14 11:34:43,592] Trial 11 finished with value: 0.7597765363128491 and parameters: {'n_estimators': 186, 'max_depth': 9}. Best is trial 8 with value: 0.7802607076350093.\n",
            "[I 2025-09-14 11:34:44,664] Trial 12 finished with value: 0.7690875232774674 and parameters: {'n_estimators': 94, 'max_depth': 18}. Best is trial 8 with value: 0.7802607076350093.\n",
            "[I 2025-09-14 11:34:45,615] Trial 13 finished with value: 0.7597765363128491 and parameters: {'n_estimators': 78, 'max_depth': 6}. Best is trial 8 with value: 0.7802607076350093.\n",
            "[I 2025-09-14 11:34:46,724] Trial 14 finished with value: 0.7709497206703911 and parameters: {'n_estimators': 94, 'max_depth': 13}. Best is trial 8 with value: 0.7802607076350093.\n",
            "[I 2025-09-14 11:34:47,634] Trial 15 finished with value: 0.7746741154562384 and parameters: {'n_estimators': 76, 'max_depth': 16}. Best is trial 8 with value: 0.7802607076350093.\n",
            "[I 2025-09-14 11:34:49,885] Trial 16 finished with value: 0.7728119180633147 and parameters: {'n_estimators': 122, 'max_depth': 17}. Best is trial 8 with value: 0.7802607076350093.\n",
            "[I 2025-09-14 11:34:51,978] Trial 17 finished with value: 0.7746741154562384 and parameters: {'n_estimators': 177, 'max_depth': 7}. Best is trial 8 with value: 0.7802607076350093.\n",
            "[I 2025-09-14 11:34:54,974] Trial 18 finished with value: 0.7616387337057727 and parameters: {'n_estimators': 198, 'max_depth': 9}. Best is trial 8 with value: 0.7802607076350093.\n",
            "[I 2025-09-14 11:34:56,860] Trial 19 finished with value: 0.7672253258845437 and parameters: {'n_estimators': 97, 'max_depth': 13}. Best is trial 8 with value: 0.7802607076350093.\n",
            "[I 2025-09-14 11:34:58,331] Trial 20 finished with value: 0.7728119180633147 and parameters: {'n_estimators': 105, 'max_depth': 17}. Best is trial 8 with value: 0.7802607076350093.\n",
            "[I 2025-09-14 11:34:59,893] Trial 21 finished with value: 0.7783985102420856 and parameters: {'n_estimators': 124, 'max_depth': 7}. Best is trial 8 with value: 0.7802607076350093.\n",
            "[I 2025-09-14 11:35:02,739] Trial 22 finished with value: 0.7635009310986964 and parameters: {'n_estimators': 156, 'max_depth': 8}. Best is trial 8 with value: 0.7802607076350093.\n",
            "[I 2025-09-14 11:35:05,665] Trial 23 finished with value: 0.7728119180633147 and parameters: {'n_estimators': 147, 'max_depth': 16}. Best is trial 8 with value: 0.7802607076350093.\n",
            "[I 2025-09-14 11:35:08,468] Trial 24 finished with value: 0.7653631284916201 and parameters: {'n_estimators': 147, 'max_depth': 9}. Best is trial 8 with value: 0.7802607076350093.\n",
            "[I 2025-09-14 11:35:11,275] Trial 25 finished with value: 0.7616387337057727 and parameters: {'n_estimators': 182, 'max_depth': 8}. Best is trial 8 with value: 0.7802607076350093.\n",
            "[I 2025-09-14 11:35:12,674] Trial 26 finished with value: 0.7746741154562384 and parameters: {'n_estimators': 76, 'max_depth': 20}. Best is trial 8 with value: 0.7802607076350093.\n",
            "[I 2025-09-14 11:35:14,358] Trial 27 finished with value: 0.7597765363128491 and parameters: {'n_estimators': 83, 'max_depth': 10}. Best is trial 8 with value: 0.7802607076350093.\n",
            "[I 2025-09-14 11:35:17,283] Trial 28 finished with value: 0.7635009310986964 and parameters: {'n_estimators': 137, 'max_depth': 9}. Best is trial 8 with value: 0.7802607076350093.\n",
            "[I 2025-09-14 11:35:19,945] Trial 29 finished with value: 0.7597765363128491 and parameters: {'n_estimators': 154, 'max_depth': 4}. Best is trial 8 with value: 0.7802607076350093.\n",
            "[I 2025-09-14 11:35:21,912] Trial 30 finished with value: 0.7635009310986964 and parameters: {'n_estimators': 104, 'max_depth': 10}. Best is trial 8 with value: 0.7802607076350093.\n",
            "[I 2025-09-14 11:35:23,281] Trial 31 finished with value: 0.7523277467411545 and parameters: {'n_estimators': 70, 'max_depth': 3}. Best is trial 8 with value: 0.7802607076350093.\n",
            "[I 2025-09-14 11:35:25,948] Trial 32 finished with value: 0.7709497206703911 and parameters: {'n_estimators': 143, 'max_depth': 11}. Best is trial 8 with value: 0.7802607076350093.\n",
            "[I 2025-09-14 11:35:26,941] Trial 33 finished with value: 0.7597765363128491 and parameters: {'n_estimators': 80, 'max_depth': 6}. Best is trial 8 with value: 0.7802607076350093.\n",
            "[I 2025-09-14 11:35:29,852] Trial 34 finished with value: 0.7746741154562384 and parameters: {'n_estimators': 174, 'max_depth': 12}. Best is trial 8 with value: 0.7802607076350093.\n",
            "[I 2025-09-14 11:35:31,132] Trial 35 finished with value: 0.7765363128491621 and parameters: {'n_estimators': 64, 'max_depth': 5}. Best is trial 8 with value: 0.7802607076350093.\n",
            "[I 2025-09-14 11:35:34,654] Trial 36 finished with value: 0.7765363128491621 and parameters: {'n_estimators': 169, 'max_depth': 12}. Best is trial 8 with value: 0.7802607076350093.\n",
            "[I 2025-09-14 11:35:37,881] Trial 37 finished with value: 0.7653631284916201 and parameters: {'n_estimators': 137, 'max_depth': 6}. Best is trial 8 with value: 0.7802607076350093.\n",
            "[I 2025-09-14 11:35:39,402] Trial 38 finished with value: 0.7616387337057727 and parameters: {'n_estimators': 118, 'max_depth': 4}. Best is trial 8 with value: 0.7802607076350093.\n",
            "[I 2025-09-14 11:35:40,385] Trial 39 finished with value: 0.7541899441340782 and parameters: {'n_estimators': 69, 'max_depth': 3}. Best is trial 8 with value: 0.7802607076350093.\n",
            "[I 2025-09-14 11:35:42,418] Trial 40 finished with value: 0.7728119180633147 and parameters: {'n_estimators': 151, 'max_depth': 15}. Best is trial 8 with value: 0.7802607076350093.\n",
            "[I 2025-09-14 11:35:44,365] Trial 41 finished with value: 0.7690875232774674 and parameters: {'n_estimators': 148, 'max_depth': 15}. Best is trial 8 with value: 0.7802607076350093.\n",
            "[I 2025-09-14 11:35:45,959] Trial 42 finished with value: 0.7802607076350093 and parameters: {'n_estimators': 121, 'max_depth': 20}. Best is trial 8 with value: 0.7802607076350093.\n",
            "[I 2025-09-14 11:35:48,171] Trial 43 finished with value: 0.7653631284916201 and parameters: {'n_estimators': 147, 'max_depth': 6}. Best is trial 8 with value: 0.7802607076350093.\n",
            "[I 2025-09-14 11:35:49,394] Trial 44 finished with value: 0.7616387337057727 and parameters: {'n_estimators': 88, 'max_depth': 14}. Best is trial 8 with value: 0.7802607076350093.\n",
            "[I 2025-09-14 11:35:51,899] Trial 45 finished with value: 0.7765363128491621 and parameters: {'n_estimators': 195, 'max_depth': 15}. Best is trial 8 with value: 0.7802607076350093.\n",
            "[I 2025-09-14 11:35:54,081] Trial 46 finished with value: 0.7635009310986964 and parameters: {'n_estimators': 178, 'max_depth': 8}. Best is trial 8 with value: 0.7802607076350093.\n",
            "[I 2025-09-14 11:35:57,228] Trial 47 finished with value: 0.7653631284916201 and parameters: {'n_estimators': 200, 'max_depth': 12}. Best is trial 8 with value: 0.7802607076350093.\n",
            "[I 2025-09-14 11:35:59,539] Trial 48 finished with value: 0.7690875232774674 and parameters: {'n_estimators': 140, 'max_depth': 16}. Best is trial 8 with value: 0.7802607076350093.\n",
            "[I 2025-09-14 11:36:00,516] Trial 49 finished with value: 0.7672253258845437 and parameters: {'n_estimators': 62, 'max_depth': 11}. Best is trial 8 with value: 0.7802607076350093.\n"
          ]
        }
      ],
      "source": [
        "study = optuna.create_study(direction='maximize', sampler=optuna.samplers.RandomSampler())  # We aim to maximize accuracy\n",
        "study.optimize(objective, n_trials=50)  # Run 50 trials to find the best hyperparameters"
      ]
    },
    {
      "cell_type": "code",
      "execution_count": 10,
      "metadata": {
        "colab": {
          "base_uri": "https://localhost:8080/"
        },
        "id": "xsHAu8b1uxK1",
        "outputId": "c9a6014d-5661-40b1-9ab6-11b85b17907b"
      },
      "outputs": [
        {
          "name": "stdout",
          "output_type": "stream",
          "text": [
            "Best trial accuracy: 0.7802607076350093\n",
            "Best hyperparameters: {'n_estimators': 116, 'max_depth': 19}\n"
          ]
        }
      ],
      "source": [
        "\n",
        "# Print the best result\n",
        "print(f'Best trial accuracy: {study.best_trial.value}')\n",
        "print(f'Best hyperparameters: {study.best_trial.params}')"
      ]
    },
    {
      "cell_type": "code",
      "execution_count": 11,
      "metadata": {
        "colab": {
          "base_uri": "https://localhost:8080/"
        },
        "id": "KFdBA3pyvAII",
        "outputId": "f66d0b58-ba82-488b-ad9d-adb07c3ee001"
      },
      "outputs": [
        {
          "name": "stdout",
          "output_type": "stream",
          "text": [
            "Test Accuracy with best hyperparameters: 0.74\n"
          ]
        }
      ],
      "source": [
        "from sklearn.metrics import accuracy_score\n",
        "\n",
        "# Train a RandomForestClassifier using the best hyperparameters from Optuna\n",
        "best_model = RandomForestClassifier(**study.best_trial.params, random_state=42)\n",
        "\n",
        "# Fit the model to the training data\n",
        "best_model.fit(X_train, y_train)\n",
        "\n",
        "# Make predictions on the test set\n",
        "y_pred = best_model.predict(X_test)\n",
        "\n",
        "# Calculate the accuracy on the test set\n",
        "test_accuracy = accuracy_score(y_test, y_pred)\n",
        "\n",
        "# Print the test accuracy\n",
        "print(f'Test Accuracy with best hyperparameters: {test_accuracy:.2f}')\n"
      ]
    },
    {
      "cell_type": "code",
      "execution_count": 12,
      "metadata": {
        "id": "lcdVExqJvOLC"
      },
      "outputs": [],
      "source": [
        "search_space = {\n",
        "    'n_estimators': [50, 100, 150, 200],\n",
        "    'max_depth': [5, 10, 15, 20]\n",
        "}"
      ]
    },
    {
      "cell_type": "code",
      "execution_count": 13,
      "metadata": {
        "colab": {
          "base_uri": "https://localhost:8080/"
        },
        "id": "4QKZcma6vYVT",
        "outputId": "1d336045-2ba0-4af8-cb1c-ec69232791cf"
      },
      "outputs": [
        {
          "name": "stderr",
          "output_type": "stream",
          "text": [
            "[I 2025-09-14 11:36:01,372] A new study created in memory with name: no-name-3070ae3c-2884-4397-ae31-a55d200dbfee\n",
            "[I 2025-09-14 11:36:02,735] Trial 0 finished with value: 0.7690875232774674 and parameters: {'n_estimators': 100, 'max_depth': 5}. Best is trial 0 with value: 0.7690875232774674.\n",
            "[I 2025-09-14 11:36:04,880] Trial 1 finished with value: 0.7672253258845437 and parameters: {'n_estimators': 150, 'max_depth': 10}. Best is trial 0 with value: 0.7690875232774674.\n",
            "[I 2025-09-14 11:36:05,955] Trial 2 finished with value: 0.7728119180633147 and parameters: {'n_estimators': 50, 'max_depth': 15}. Best is trial 2 with value: 0.7728119180633147.\n",
            "[I 2025-09-14 11:36:08,062] Trial 3 finished with value: 0.7653631284916201 and parameters: {'n_estimators': 100, 'max_depth': 15}. Best is trial 2 with value: 0.7728119180633147.\n",
            "[I 2025-09-14 11:36:09,364] Trial 4 finished with value: 0.7690875232774674 and parameters: {'n_estimators': 100, 'max_depth': 20}. Best is trial 2 with value: 0.7728119180633147.\n",
            "[I 2025-09-14 11:36:10,358] Trial 5 finished with value: 0.7579143389199254 and parameters: {'n_estimators': 50, 'max_depth': 10}. Best is trial 2 with value: 0.7728119180633147.\n",
            "[I 2025-09-14 11:36:13,157] Trial 6 finished with value: 0.7653631284916201 and parameters: {'n_estimators': 150, 'max_depth': 5}. Best is trial 2 with value: 0.7728119180633147.\n",
            "[I 2025-09-14 11:36:16,094] Trial 7 finished with value: 0.7728119180633147 and parameters: {'n_estimators': 150, 'max_depth': 20}. Best is trial 2 with value: 0.7728119180633147.\n",
            "[I 2025-09-14 11:36:17,958] Trial 8 finished with value: 0.7728119180633147 and parameters: {'n_estimators': 150, 'max_depth': 15}. Best is trial 2 with value: 0.7728119180633147.\n",
            "[I 2025-09-14 11:36:20,143] Trial 9 finished with value: 0.7709497206703911 and parameters: {'n_estimators': 200, 'max_depth': 10}. Best is trial 2 with value: 0.7728119180633147.\n",
            "[I 2025-09-14 11:36:22,513] Trial 10 finished with value: 0.7728119180633147 and parameters: {'n_estimators': 200, 'max_depth': 20}. Best is trial 2 with value: 0.7728119180633147.\n",
            "[I 2025-09-14 11:36:25,005] Trial 11 finished with value: 0.7728119180633147 and parameters: {'n_estimators': 200, 'max_depth': 15}. Best is trial 2 with value: 0.7728119180633147.\n",
            "[I 2025-09-14 11:36:27,359] Trial 12 finished with value: 0.7690875232774674 and parameters: {'n_estimators': 200, 'max_depth': 5}. Best is trial 2 with value: 0.7728119180633147.\n",
            "[I 2025-09-14 11:36:27,949] Trial 13 finished with value: 0.7746741154562384 and parameters: {'n_estimators': 50, 'max_depth': 5}. Best is trial 13 with value: 0.7746741154562384.\n",
            "[I 2025-09-14 11:36:29,237] Trial 14 finished with value: 0.7616387337057727 and parameters: {'n_estimators': 100, 'max_depth': 10}. Best is trial 13 with value: 0.7746741154562384.\n",
            "[I 2025-09-14 11:36:29,823] Trial 15 finished with value: 0.7709497206703911 and parameters: {'n_estimators': 50, 'max_depth': 20}. Best is trial 13 with value: 0.7746741154562384.\n"
          ]
        }
      ],
      "source": [
        "# Create a study and optimize it using GridSampler\n",
        "study = optuna.create_study(direction='maximize', sampler=optuna.samplers.GridSampler(search_space))\n",
        "study.optimize(objective)"
      ]
    },
    {
      "cell_type": "code",
      "execution_count": 14,
      "metadata": {
        "colab": {
          "base_uri": "https://localhost:8080/"
        },
        "id": "UVQrXK77vojx",
        "outputId": "2ce9b4fc-38b1-418b-82c9-a441c58ee7be"
      },
      "outputs": [
        {
          "name": "stdout",
          "output_type": "stream",
          "text": [
            "Best trial accuracy: 0.7746741154562384\n",
            "Best hyperparameters: {'n_estimators': 50, 'max_depth': 5}\n"
          ]
        }
      ],
      "source": [
        "\n",
        "# Print the best result\n",
        "print(f'Best trial accuracy: {study.best_trial.value}')\n",
        "print(f'Best hyperparameters: {study.best_trial.params}')"
      ]
    },
    {
      "cell_type": "code",
      "execution_count": 15,
      "metadata": {
        "colab": {
          "base_uri": "https://localhost:8080/"
        },
        "id": "oIZKJsSVwaYj",
        "outputId": "a562e64a-6f9d-44b6-847d-e72618874ba3"
      },
      "outputs": [
        {
          "name": "stdout",
          "output_type": "stream",
          "text": [
            "Test Accuracy with best hyperparameters: 0.74\n"
          ]
        }
      ],
      "source": [
        "from sklearn.metrics import accuracy_score\n",
        "\n",
        "# Train a RandomForestClassifier using the best hyperparameters from Optuna\n",
        "best_model = RandomForestClassifier(**study.best_trial.params, random_state=42)\n",
        "\n",
        "# Fit the model to the training data\n",
        "best_model.fit(X_train, y_train)\n",
        "\n",
        "# Make predictions on the test set\n",
        "y_pred = best_model.predict(X_test)\n",
        "\n",
        "# Calculate the accuracy on the test set\n",
        "test_accuracy = accuracy_score(y_test, y_pred)\n",
        "\n",
        "# Print the test accuracy\n",
        "print(f'Test Accuracy with best hyperparameters: {test_accuracy:.2f}')\n"
      ]
    },
    {
      "cell_type": "markdown",
      "metadata": {
        "id": "K4LmndX54oSU"
      },
      "source": [
        "## Optuna Visualizations"
      ]
    },
    {
      "cell_type": "code",
      "execution_count": 16,
      "metadata": {
        "id": "RxNsmlcR4nZi"
      },
      "outputs": [],
      "source": [
        "# For visualizations\n",
        "from optuna.visualization import plot_optimization_history, plot_parallel_coordinate, plot_slice, plot_contour, plot_param_importances"
      ]
    },
    {
      "cell_type": "code",
      "execution_count": 17,
      "metadata": {
        "colab": {
          "base_uri": "https://localhost:8080/",
          "height": 542
        },
        "id": "tL5Gc3uxymq8",
        "outputId": "f294758b-8adb-47c2-8e08-a8f012577c8e"
      },
      "outputs": [
        {
          "data": {
            "application/vnd.plotly.v1+json": {
              "config": {
                "plotlyServerURL": "https://plot.ly"
              },
              "data": [
                {
                  "mode": "markers",
                  "name": "Objective Value",
                  "type": "scatter",
                  "x": [
                    0,
                    1,
                    2,
                    3,
                    4,
                    5,
                    6,
                    7,
                    8,
                    9,
                    10,
                    11,
                    12,
                    13,
                    14,
                    15
                  ],
                  "y": [
                    0.7690875232774674,
                    0.7672253258845437,
                    0.7728119180633147,
                    0.7653631284916201,
                    0.7690875232774674,
                    0.7579143389199254,
                    0.7653631284916201,
                    0.7728119180633147,
                    0.7728119180633147,
                    0.7709497206703911,
                    0.7728119180633147,
                    0.7728119180633147,
                    0.7690875232774674,
                    0.7746741154562384,
                    0.7616387337057727,
                    0.7709497206703911
                  ]
                },
                {
                  "mode": "lines",
                  "name": "Best Value",
                  "type": "scatter",
                  "x": [
                    0,
                    1,
                    2,
                    3,
                    4,
                    5,
                    6,
                    7,
                    8,
                    9,
                    10,
                    11,
                    12,
                    13,
                    14,
                    15
                  ],
                  "y": [
                    0.7690875232774674,
                    0.7690875232774674,
                    0.7728119180633147,
                    0.7728119180633147,
                    0.7728119180633147,
                    0.7728119180633147,
                    0.7728119180633147,
                    0.7728119180633147,
                    0.7728119180633147,
                    0.7728119180633147,
                    0.7728119180633147,
                    0.7728119180633147,
                    0.7728119180633147,
                    0.7746741154562384,
                    0.7746741154562384,
                    0.7746741154562384
                  ]
                },
                {
                  "marker": {
                    "color": "#cccccc"
                  },
                  "mode": "markers",
                  "name": "Infeasible Trial",
                  "showlegend": false,
                  "type": "scatter",
                  "x": [],
                  "y": []
                }
              ],
              "layout": {
                "template": {
                  "data": {
                    "bar": [
                      {
                        "error_x": {
                          "color": "#2a3f5f"
                        },
                        "error_y": {
                          "color": "#2a3f5f"
                        },
                        "marker": {
                          "line": {
                            "color": "#E5ECF6",
                            "width": 0.5
                          },
                          "pattern": {
                            "fillmode": "overlay",
                            "size": 10,
                            "solidity": 0.2
                          }
                        },
                        "type": "bar"
                      }
                    ],
                    "barpolar": [
                      {
                        "marker": {
                          "line": {
                            "color": "#E5ECF6",
                            "width": 0.5
                          },
                          "pattern": {
                            "fillmode": "overlay",
                            "size": 10,
                            "solidity": 0.2
                          }
                        },
                        "type": "barpolar"
                      }
                    ],
                    "carpet": [
                      {
                        "aaxis": {
                          "endlinecolor": "#2a3f5f",
                          "gridcolor": "white",
                          "linecolor": "white",
                          "minorgridcolor": "white",
                          "startlinecolor": "#2a3f5f"
                        },
                        "baxis": {
                          "endlinecolor": "#2a3f5f",
                          "gridcolor": "white",
                          "linecolor": "white",
                          "minorgridcolor": "white",
                          "startlinecolor": "#2a3f5f"
                        },
                        "type": "carpet"
                      }
                    ],
                    "choropleth": [
                      {
                        "colorbar": {
                          "outlinewidth": 0,
                          "ticks": ""
                        },
                        "type": "choropleth"
                      }
                    ],
                    "contour": [
                      {
                        "colorbar": {
                          "outlinewidth": 0,
                          "ticks": ""
                        },
                        "colorscale": [
                          [
                            0,
                            "#0d0887"
                          ],
                          [
                            0.1111111111111111,
                            "#46039f"
                          ],
                          [
                            0.2222222222222222,
                            "#7201a8"
                          ],
                          [
                            0.3333333333333333,
                            "#9c179e"
                          ],
                          [
                            0.4444444444444444,
                            "#bd3786"
                          ],
                          [
                            0.5555555555555556,
                            "#d8576b"
                          ],
                          [
                            0.6666666666666666,
                            "#ed7953"
                          ],
                          [
                            0.7777777777777778,
                            "#fb9f3a"
                          ],
                          [
                            0.8888888888888888,
                            "#fdca26"
                          ],
                          [
                            1,
                            "#f0f921"
                          ]
                        ],
                        "type": "contour"
                      }
                    ],
                    "contourcarpet": [
                      {
                        "colorbar": {
                          "outlinewidth": 0,
                          "ticks": ""
                        },
                        "type": "contourcarpet"
                      }
                    ],
                    "heatmap": [
                      {
                        "colorbar": {
                          "outlinewidth": 0,
                          "ticks": ""
                        },
                        "colorscale": [
                          [
                            0,
                            "#0d0887"
                          ],
                          [
                            0.1111111111111111,
                            "#46039f"
                          ],
                          [
                            0.2222222222222222,
                            "#7201a8"
                          ],
                          [
                            0.3333333333333333,
                            "#9c179e"
                          ],
                          [
                            0.4444444444444444,
                            "#bd3786"
                          ],
                          [
                            0.5555555555555556,
                            "#d8576b"
                          ],
                          [
                            0.6666666666666666,
                            "#ed7953"
                          ],
                          [
                            0.7777777777777778,
                            "#fb9f3a"
                          ],
                          [
                            0.8888888888888888,
                            "#fdca26"
                          ],
                          [
                            1,
                            "#f0f921"
                          ]
                        ],
                        "type": "heatmap"
                      }
                    ],
                    "heatmapgl": [
                      {
                        "colorbar": {
                          "outlinewidth": 0,
                          "ticks": ""
                        },
                        "colorscale": [
                          [
                            0,
                            "#0d0887"
                          ],
                          [
                            0.1111111111111111,
                            "#46039f"
                          ],
                          [
                            0.2222222222222222,
                            "#7201a8"
                          ],
                          [
                            0.3333333333333333,
                            "#9c179e"
                          ],
                          [
                            0.4444444444444444,
                            "#bd3786"
                          ],
                          [
                            0.5555555555555556,
                            "#d8576b"
                          ],
                          [
                            0.6666666666666666,
                            "#ed7953"
                          ],
                          [
                            0.7777777777777778,
                            "#fb9f3a"
                          ],
                          [
                            0.8888888888888888,
                            "#fdca26"
                          ],
                          [
                            1,
                            "#f0f921"
                          ]
                        ],
                        "type": "heatmapgl"
                      }
                    ],
                    "histogram": [
                      {
                        "marker": {
                          "pattern": {
                            "fillmode": "overlay",
                            "size": 10,
                            "solidity": 0.2
                          }
                        },
                        "type": "histogram"
                      }
                    ],
                    "histogram2d": [
                      {
                        "colorbar": {
                          "outlinewidth": 0,
                          "ticks": ""
                        },
                        "colorscale": [
                          [
                            0,
                            "#0d0887"
                          ],
                          [
                            0.1111111111111111,
                            "#46039f"
                          ],
                          [
                            0.2222222222222222,
                            "#7201a8"
                          ],
                          [
                            0.3333333333333333,
                            "#9c179e"
                          ],
                          [
                            0.4444444444444444,
                            "#bd3786"
                          ],
                          [
                            0.5555555555555556,
                            "#d8576b"
                          ],
                          [
                            0.6666666666666666,
                            "#ed7953"
                          ],
                          [
                            0.7777777777777778,
                            "#fb9f3a"
                          ],
                          [
                            0.8888888888888888,
                            "#fdca26"
                          ],
                          [
                            1,
                            "#f0f921"
                          ]
                        ],
                        "type": "histogram2d"
                      }
                    ],
                    "histogram2dcontour": [
                      {
                        "colorbar": {
                          "outlinewidth": 0,
                          "ticks": ""
                        },
                        "colorscale": [
                          [
                            0,
                            "#0d0887"
                          ],
                          [
                            0.1111111111111111,
                            "#46039f"
                          ],
                          [
                            0.2222222222222222,
                            "#7201a8"
                          ],
                          [
                            0.3333333333333333,
                            "#9c179e"
                          ],
                          [
                            0.4444444444444444,
                            "#bd3786"
                          ],
                          [
                            0.5555555555555556,
                            "#d8576b"
                          ],
                          [
                            0.6666666666666666,
                            "#ed7953"
                          ],
                          [
                            0.7777777777777778,
                            "#fb9f3a"
                          ],
                          [
                            0.8888888888888888,
                            "#fdca26"
                          ],
                          [
                            1,
                            "#f0f921"
                          ]
                        ],
                        "type": "histogram2dcontour"
                      }
                    ],
                    "mesh3d": [
                      {
                        "colorbar": {
                          "outlinewidth": 0,
                          "ticks": ""
                        },
                        "type": "mesh3d"
                      }
                    ],
                    "parcoords": [
                      {
                        "line": {
                          "colorbar": {
                            "outlinewidth": 0,
                            "ticks": ""
                          }
                        },
                        "type": "parcoords"
                      }
                    ],
                    "pie": [
                      {
                        "automargin": true,
                        "type": "pie"
                      }
                    ],
                    "scatter": [
                      {
                        "fillpattern": {
                          "fillmode": "overlay",
                          "size": 10,
                          "solidity": 0.2
                        },
                        "type": "scatter"
                      }
                    ],
                    "scatter3d": [
                      {
                        "line": {
                          "colorbar": {
                            "outlinewidth": 0,
                            "ticks": ""
                          }
                        },
                        "marker": {
                          "colorbar": {
                            "outlinewidth": 0,
                            "ticks": ""
                          }
                        },
                        "type": "scatter3d"
                      }
                    ],
                    "scattercarpet": [
                      {
                        "marker": {
                          "colorbar": {
                            "outlinewidth": 0,
                            "ticks": ""
                          }
                        },
                        "type": "scattercarpet"
                      }
                    ],
                    "scattergeo": [
                      {
                        "marker": {
                          "colorbar": {
                            "outlinewidth": 0,
                            "ticks": ""
                          }
                        },
                        "type": "scattergeo"
                      }
                    ],
                    "scattergl": [
                      {
                        "marker": {
                          "colorbar": {
                            "outlinewidth": 0,
                            "ticks": ""
                          }
                        },
                        "type": "scattergl"
                      }
                    ],
                    "scattermapbox": [
                      {
                        "marker": {
                          "colorbar": {
                            "outlinewidth": 0,
                            "ticks": ""
                          }
                        },
                        "type": "scattermapbox"
                      }
                    ],
                    "scatterpolar": [
                      {
                        "marker": {
                          "colorbar": {
                            "outlinewidth": 0,
                            "ticks": ""
                          }
                        },
                        "type": "scatterpolar"
                      }
                    ],
                    "scatterpolargl": [
                      {
                        "marker": {
                          "colorbar": {
                            "outlinewidth": 0,
                            "ticks": ""
                          }
                        },
                        "type": "scatterpolargl"
                      }
                    ],
                    "scatterternary": [
                      {
                        "marker": {
                          "colorbar": {
                            "outlinewidth": 0,
                            "ticks": ""
                          }
                        },
                        "type": "scatterternary"
                      }
                    ],
                    "surface": [
                      {
                        "colorbar": {
                          "outlinewidth": 0,
                          "ticks": ""
                        },
                        "colorscale": [
                          [
                            0,
                            "#0d0887"
                          ],
                          [
                            0.1111111111111111,
                            "#46039f"
                          ],
                          [
                            0.2222222222222222,
                            "#7201a8"
                          ],
                          [
                            0.3333333333333333,
                            "#9c179e"
                          ],
                          [
                            0.4444444444444444,
                            "#bd3786"
                          ],
                          [
                            0.5555555555555556,
                            "#d8576b"
                          ],
                          [
                            0.6666666666666666,
                            "#ed7953"
                          ],
                          [
                            0.7777777777777778,
                            "#fb9f3a"
                          ],
                          [
                            0.8888888888888888,
                            "#fdca26"
                          ],
                          [
                            1,
                            "#f0f921"
                          ]
                        ],
                        "type": "surface"
                      }
                    ],
                    "table": [
                      {
                        "cells": {
                          "fill": {
                            "color": "#EBF0F8"
                          },
                          "line": {
                            "color": "white"
                          }
                        },
                        "header": {
                          "fill": {
                            "color": "#C8D4E3"
                          },
                          "line": {
                            "color": "white"
                          }
                        },
                        "type": "table"
                      }
                    ]
                  },
                  "layout": {
                    "annotationdefaults": {
                      "arrowcolor": "#2a3f5f",
                      "arrowhead": 0,
                      "arrowwidth": 1
                    },
                    "autotypenumbers": "strict",
                    "coloraxis": {
                      "colorbar": {
                        "outlinewidth": 0,
                        "ticks": ""
                      }
                    },
                    "colorscale": {
                      "diverging": [
                        [
                          0,
                          "#8e0152"
                        ],
                        [
                          0.1,
                          "#c51b7d"
                        ],
                        [
                          0.2,
                          "#de77ae"
                        ],
                        [
                          0.3,
                          "#f1b6da"
                        ],
                        [
                          0.4,
                          "#fde0ef"
                        ],
                        [
                          0.5,
                          "#f7f7f7"
                        ],
                        [
                          0.6,
                          "#e6f5d0"
                        ],
                        [
                          0.7,
                          "#b8e186"
                        ],
                        [
                          0.8,
                          "#7fbc41"
                        ],
                        [
                          0.9,
                          "#4d9221"
                        ],
                        [
                          1,
                          "#276419"
                        ]
                      ],
                      "sequential": [
                        [
                          0,
                          "#0d0887"
                        ],
                        [
                          0.1111111111111111,
                          "#46039f"
                        ],
                        [
                          0.2222222222222222,
                          "#7201a8"
                        ],
                        [
                          0.3333333333333333,
                          "#9c179e"
                        ],
                        [
                          0.4444444444444444,
                          "#bd3786"
                        ],
                        [
                          0.5555555555555556,
                          "#d8576b"
                        ],
                        [
                          0.6666666666666666,
                          "#ed7953"
                        ],
                        [
                          0.7777777777777778,
                          "#fb9f3a"
                        ],
                        [
                          0.8888888888888888,
                          "#fdca26"
                        ],
                        [
                          1,
                          "#f0f921"
                        ]
                      ],
                      "sequentialminus": [
                        [
                          0,
                          "#0d0887"
                        ],
                        [
                          0.1111111111111111,
                          "#46039f"
                        ],
                        [
                          0.2222222222222222,
                          "#7201a8"
                        ],
                        [
                          0.3333333333333333,
                          "#9c179e"
                        ],
                        [
                          0.4444444444444444,
                          "#bd3786"
                        ],
                        [
                          0.5555555555555556,
                          "#d8576b"
                        ],
                        [
                          0.6666666666666666,
                          "#ed7953"
                        ],
                        [
                          0.7777777777777778,
                          "#fb9f3a"
                        ],
                        [
                          0.8888888888888888,
                          "#fdca26"
                        ],
                        [
                          1,
                          "#f0f921"
                        ]
                      ]
                    },
                    "colorway": [
                      "#636efa",
                      "#EF553B",
                      "#00cc96",
                      "#ab63fa",
                      "#FFA15A",
                      "#19d3f3",
                      "#FF6692",
                      "#B6E880",
                      "#FF97FF",
                      "#FECB52"
                    ],
                    "font": {
                      "color": "#2a3f5f"
                    },
                    "geo": {
                      "bgcolor": "white",
                      "lakecolor": "white",
                      "landcolor": "#E5ECF6",
                      "showlakes": true,
                      "showland": true,
                      "subunitcolor": "white"
                    },
                    "hoverlabel": {
                      "align": "left"
                    },
                    "hovermode": "closest",
                    "mapbox": {
                      "style": "light"
                    },
                    "paper_bgcolor": "white",
                    "plot_bgcolor": "#E5ECF6",
                    "polar": {
                      "angularaxis": {
                        "gridcolor": "white",
                        "linecolor": "white",
                        "ticks": ""
                      },
                      "bgcolor": "#E5ECF6",
                      "radialaxis": {
                        "gridcolor": "white",
                        "linecolor": "white",
                        "ticks": ""
                      }
                    },
                    "scene": {
                      "xaxis": {
                        "backgroundcolor": "#E5ECF6",
                        "gridcolor": "white",
                        "gridwidth": 2,
                        "linecolor": "white",
                        "showbackground": true,
                        "ticks": "",
                        "zerolinecolor": "white"
                      },
                      "yaxis": {
                        "backgroundcolor": "#E5ECF6",
                        "gridcolor": "white",
                        "gridwidth": 2,
                        "linecolor": "white",
                        "showbackground": true,
                        "ticks": "",
                        "zerolinecolor": "white"
                      },
                      "zaxis": {
                        "backgroundcolor": "#E5ECF6",
                        "gridcolor": "white",
                        "gridwidth": 2,
                        "linecolor": "white",
                        "showbackground": true,
                        "ticks": "",
                        "zerolinecolor": "white"
                      }
                    },
                    "shapedefaults": {
                      "line": {
                        "color": "#2a3f5f"
                      }
                    },
                    "ternary": {
                      "aaxis": {
                        "gridcolor": "white",
                        "linecolor": "white",
                        "ticks": ""
                      },
                      "baxis": {
                        "gridcolor": "white",
                        "linecolor": "white",
                        "ticks": ""
                      },
                      "bgcolor": "#E5ECF6",
                      "caxis": {
                        "gridcolor": "white",
                        "linecolor": "white",
                        "ticks": ""
                      }
                    },
                    "title": {
                      "x": 0.05
                    },
                    "xaxis": {
                      "automargin": true,
                      "gridcolor": "white",
                      "linecolor": "white",
                      "ticks": "",
                      "title": {
                        "standoff": 15
                      },
                      "zerolinecolor": "white",
                      "zerolinewidth": 2
                    },
                    "yaxis": {
                      "automargin": true,
                      "gridcolor": "white",
                      "linecolor": "white",
                      "ticks": "",
                      "title": {
                        "standoff": 15
                      },
                      "zerolinecolor": "white",
                      "zerolinewidth": 2
                    }
                  }
                },
                "title": {
                  "text": "Optimization History Plot"
                },
                "xaxis": {
                  "title": {
                    "text": "Trial"
                  }
                },
                "yaxis": {
                  "title": {
                    "text": "Objective Value"
                  }
                }
              }
            }
          },
          "metadata": {},
          "output_type": "display_data"
        }
      ],
      "source": [
        "# 1. Optimization History\n",
        "plot_optimization_history(study).show()"
      ]
    },
    {
      "cell_type": "code",
      "execution_count": 18,
      "metadata": {
        "colab": {
          "base_uri": "https://localhost:8080/",
          "height": 542
        },
        "id": "0VPz89RB4yQ7",
        "outputId": "fe6cae2c-f2bb-44f8-fd24-7df67b88c9a5"
      },
      "outputs": [
        {
          "data": {
            "application/vnd.plotly.v1+json": {
              "config": {
                "plotlyServerURL": "https://plot.ly"
              },
              "data": [
                {
                  "dimensions": [
                    {
                      "label": "Objective Value",
                      "range": [
                        0.7579143389199254,
                        0.7746741154562384
                      ],
                      "values": [
                        0.7690875232774674,
                        0.7672253258845437,
                        0.7728119180633147,
                        0.7653631284916201,
                        0.7690875232774674,
                        0.7579143389199254,
                        0.7653631284916201,
                        0.7728119180633147,
                        0.7728119180633147,
                        0.7709497206703911,
                        0.7728119180633147,
                        0.7728119180633147,
                        0.7690875232774674,
                        0.7746741154562384,
                        0.7616387337057727,
                        0.7709497206703911
                      ]
                    },
                    {
                      "label": "max_depth",
                      "range": [
                        5,
                        20
                      ],
                      "values": [
                        5,
                        10,
                        15,
                        15,
                        20,
                        10,
                        5,
                        20,
                        15,
                        10,
                        20,
                        15,
                        5,
                        5,
                        10,
                        20
                      ]
                    },
                    {
                      "label": "n_estimators",
                      "range": [
                        50,
                        200
                      ],
                      "values": [
                        100,
                        150,
                        50,
                        100,
                        100,
                        50,
                        150,
                        150,
                        150,
                        200,
                        200,
                        200,
                        200,
                        50,
                        100,
                        50
                      ]
                    }
                  ],
                  "labelangle": 30,
                  "labelside": "bottom",
                  "line": {
                    "color": [
                      0.7690875232774674,
                      0.7672253258845437,
                      0.7728119180633147,
                      0.7653631284916201,
                      0.7690875232774674,
                      0.7579143389199254,
                      0.7653631284916201,
                      0.7728119180633147,
                      0.7728119180633147,
                      0.7709497206703911,
                      0.7728119180633147,
                      0.7728119180633147,
                      0.7690875232774674,
                      0.7746741154562384,
                      0.7616387337057727,
                      0.7709497206703911
                    ],
                    "colorbar": {
                      "title": {
                        "text": "Objective Value"
                      }
                    },
                    "colorscale": [
                      [
                        0,
                        "rgb(247,251,255)"
                      ],
                      [
                        0.125,
                        "rgb(222,235,247)"
                      ],
                      [
                        0.25,
                        "rgb(198,219,239)"
                      ],
                      [
                        0.375,
                        "rgb(158,202,225)"
                      ],
                      [
                        0.5,
                        "rgb(107,174,214)"
                      ],
                      [
                        0.625,
                        "rgb(66,146,198)"
                      ],
                      [
                        0.75,
                        "rgb(33,113,181)"
                      ],
                      [
                        0.875,
                        "rgb(8,81,156)"
                      ],
                      [
                        1,
                        "rgb(8,48,107)"
                      ]
                    ],
                    "reversescale": false,
                    "showscale": true
                  },
                  "type": "parcoords"
                }
              ],
              "layout": {
                "template": {
                  "data": {
                    "bar": [
                      {
                        "error_x": {
                          "color": "#2a3f5f"
                        },
                        "error_y": {
                          "color": "#2a3f5f"
                        },
                        "marker": {
                          "line": {
                            "color": "#E5ECF6",
                            "width": 0.5
                          },
                          "pattern": {
                            "fillmode": "overlay",
                            "size": 10,
                            "solidity": 0.2
                          }
                        },
                        "type": "bar"
                      }
                    ],
                    "barpolar": [
                      {
                        "marker": {
                          "line": {
                            "color": "#E5ECF6",
                            "width": 0.5
                          },
                          "pattern": {
                            "fillmode": "overlay",
                            "size": 10,
                            "solidity": 0.2
                          }
                        },
                        "type": "barpolar"
                      }
                    ],
                    "carpet": [
                      {
                        "aaxis": {
                          "endlinecolor": "#2a3f5f",
                          "gridcolor": "white",
                          "linecolor": "white",
                          "minorgridcolor": "white",
                          "startlinecolor": "#2a3f5f"
                        },
                        "baxis": {
                          "endlinecolor": "#2a3f5f",
                          "gridcolor": "white",
                          "linecolor": "white",
                          "minorgridcolor": "white",
                          "startlinecolor": "#2a3f5f"
                        },
                        "type": "carpet"
                      }
                    ],
                    "choropleth": [
                      {
                        "colorbar": {
                          "outlinewidth": 0,
                          "ticks": ""
                        },
                        "type": "choropleth"
                      }
                    ],
                    "contour": [
                      {
                        "colorbar": {
                          "outlinewidth": 0,
                          "ticks": ""
                        },
                        "colorscale": [
                          [
                            0,
                            "#0d0887"
                          ],
                          [
                            0.1111111111111111,
                            "#46039f"
                          ],
                          [
                            0.2222222222222222,
                            "#7201a8"
                          ],
                          [
                            0.3333333333333333,
                            "#9c179e"
                          ],
                          [
                            0.4444444444444444,
                            "#bd3786"
                          ],
                          [
                            0.5555555555555556,
                            "#d8576b"
                          ],
                          [
                            0.6666666666666666,
                            "#ed7953"
                          ],
                          [
                            0.7777777777777778,
                            "#fb9f3a"
                          ],
                          [
                            0.8888888888888888,
                            "#fdca26"
                          ],
                          [
                            1,
                            "#f0f921"
                          ]
                        ],
                        "type": "contour"
                      }
                    ],
                    "contourcarpet": [
                      {
                        "colorbar": {
                          "outlinewidth": 0,
                          "ticks": ""
                        },
                        "type": "contourcarpet"
                      }
                    ],
                    "heatmap": [
                      {
                        "colorbar": {
                          "outlinewidth": 0,
                          "ticks": ""
                        },
                        "colorscale": [
                          [
                            0,
                            "#0d0887"
                          ],
                          [
                            0.1111111111111111,
                            "#46039f"
                          ],
                          [
                            0.2222222222222222,
                            "#7201a8"
                          ],
                          [
                            0.3333333333333333,
                            "#9c179e"
                          ],
                          [
                            0.4444444444444444,
                            "#bd3786"
                          ],
                          [
                            0.5555555555555556,
                            "#d8576b"
                          ],
                          [
                            0.6666666666666666,
                            "#ed7953"
                          ],
                          [
                            0.7777777777777778,
                            "#fb9f3a"
                          ],
                          [
                            0.8888888888888888,
                            "#fdca26"
                          ],
                          [
                            1,
                            "#f0f921"
                          ]
                        ],
                        "type": "heatmap"
                      }
                    ],
                    "heatmapgl": [
                      {
                        "colorbar": {
                          "outlinewidth": 0,
                          "ticks": ""
                        },
                        "colorscale": [
                          [
                            0,
                            "#0d0887"
                          ],
                          [
                            0.1111111111111111,
                            "#46039f"
                          ],
                          [
                            0.2222222222222222,
                            "#7201a8"
                          ],
                          [
                            0.3333333333333333,
                            "#9c179e"
                          ],
                          [
                            0.4444444444444444,
                            "#bd3786"
                          ],
                          [
                            0.5555555555555556,
                            "#d8576b"
                          ],
                          [
                            0.6666666666666666,
                            "#ed7953"
                          ],
                          [
                            0.7777777777777778,
                            "#fb9f3a"
                          ],
                          [
                            0.8888888888888888,
                            "#fdca26"
                          ],
                          [
                            1,
                            "#f0f921"
                          ]
                        ],
                        "type": "heatmapgl"
                      }
                    ],
                    "histogram": [
                      {
                        "marker": {
                          "pattern": {
                            "fillmode": "overlay",
                            "size": 10,
                            "solidity": 0.2
                          }
                        },
                        "type": "histogram"
                      }
                    ],
                    "histogram2d": [
                      {
                        "colorbar": {
                          "outlinewidth": 0,
                          "ticks": ""
                        },
                        "colorscale": [
                          [
                            0,
                            "#0d0887"
                          ],
                          [
                            0.1111111111111111,
                            "#46039f"
                          ],
                          [
                            0.2222222222222222,
                            "#7201a8"
                          ],
                          [
                            0.3333333333333333,
                            "#9c179e"
                          ],
                          [
                            0.4444444444444444,
                            "#bd3786"
                          ],
                          [
                            0.5555555555555556,
                            "#d8576b"
                          ],
                          [
                            0.6666666666666666,
                            "#ed7953"
                          ],
                          [
                            0.7777777777777778,
                            "#fb9f3a"
                          ],
                          [
                            0.8888888888888888,
                            "#fdca26"
                          ],
                          [
                            1,
                            "#f0f921"
                          ]
                        ],
                        "type": "histogram2d"
                      }
                    ],
                    "histogram2dcontour": [
                      {
                        "colorbar": {
                          "outlinewidth": 0,
                          "ticks": ""
                        },
                        "colorscale": [
                          [
                            0,
                            "#0d0887"
                          ],
                          [
                            0.1111111111111111,
                            "#46039f"
                          ],
                          [
                            0.2222222222222222,
                            "#7201a8"
                          ],
                          [
                            0.3333333333333333,
                            "#9c179e"
                          ],
                          [
                            0.4444444444444444,
                            "#bd3786"
                          ],
                          [
                            0.5555555555555556,
                            "#d8576b"
                          ],
                          [
                            0.6666666666666666,
                            "#ed7953"
                          ],
                          [
                            0.7777777777777778,
                            "#fb9f3a"
                          ],
                          [
                            0.8888888888888888,
                            "#fdca26"
                          ],
                          [
                            1,
                            "#f0f921"
                          ]
                        ],
                        "type": "histogram2dcontour"
                      }
                    ],
                    "mesh3d": [
                      {
                        "colorbar": {
                          "outlinewidth": 0,
                          "ticks": ""
                        },
                        "type": "mesh3d"
                      }
                    ],
                    "parcoords": [
                      {
                        "line": {
                          "colorbar": {
                            "outlinewidth": 0,
                            "ticks": ""
                          }
                        },
                        "type": "parcoords"
                      }
                    ],
                    "pie": [
                      {
                        "automargin": true,
                        "type": "pie"
                      }
                    ],
                    "scatter": [
                      {
                        "fillpattern": {
                          "fillmode": "overlay",
                          "size": 10,
                          "solidity": 0.2
                        },
                        "type": "scatter"
                      }
                    ],
                    "scatter3d": [
                      {
                        "line": {
                          "colorbar": {
                            "outlinewidth": 0,
                            "ticks": ""
                          }
                        },
                        "marker": {
                          "colorbar": {
                            "outlinewidth": 0,
                            "ticks": ""
                          }
                        },
                        "type": "scatter3d"
                      }
                    ],
                    "scattercarpet": [
                      {
                        "marker": {
                          "colorbar": {
                            "outlinewidth": 0,
                            "ticks": ""
                          }
                        },
                        "type": "scattercarpet"
                      }
                    ],
                    "scattergeo": [
                      {
                        "marker": {
                          "colorbar": {
                            "outlinewidth": 0,
                            "ticks": ""
                          }
                        },
                        "type": "scattergeo"
                      }
                    ],
                    "scattergl": [
                      {
                        "marker": {
                          "colorbar": {
                            "outlinewidth": 0,
                            "ticks": ""
                          }
                        },
                        "type": "scattergl"
                      }
                    ],
                    "scattermapbox": [
                      {
                        "marker": {
                          "colorbar": {
                            "outlinewidth": 0,
                            "ticks": ""
                          }
                        },
                        "type": "scattermapbox"
                      }
                    ],
                    "scatterpolar": [
                      {
                        "marker": {
                          "colorbar": {
                            "outlinewidth": 0,
                            "ticks": ""
                          }
                        },
                        "type": "scatterpolar"
                      }
                    ],
                    "scatterpolargl": [
                      {
                        "marker": {
                          "colorbar": {
                            "outlinewidth": 0,
                            "ticks": ""
                          }
                        },
                        "type": "scatterpolargl"
                      }
                    ],
                    "scatterternary": [
                      {
                        "marker": {
                          "colorbar": {
                            "outlinewidth": 0,
                            "ticks": ""
                          }
                        },
                        "type": "scatterternary"
                      }
                    ],
                    "surface": [
                      {
                        "colorbar": {
                          "outlinewidth": 0,
                          "ticks": ""
                        },
                        "colorscale": [
                          [
                            0,
                            "#0d0887"
                          ],
                          [
                            0.1111111111111111,
                            "#46039f"
                          ],
                          [
                            0.2222222222222222,
                            "#7201a8"
                          ],
                          [
                            0.3333333333333333,
                            "#9c179e"
                          ],
                          [
                            0.4444444444444444,
                            "#bd3786"
                          ],
                          [
                            0.5555555555555556,
                            "#d8576b"
                          ],
                          [
                            0.6666666666666666,
                            "#ed7953"
                          ],
                          [
                            0.7777777777777778,
                            "#fb9f3a"
                          ],
                          [
                            0.8888888888888888,
                            "#fdca26"
                          ],
                          [
                            1,
                            "#f0f921"
                          ]
                        ],
                        "type": "surface"
                      }
                    ],
                    "table": [
                      {
                        "cells": {
                          "fill": {
                            "color": "#EBF0F8"
                          },
                          "line": {
                            "color": "white"
                          }
                        },
                        "header": {
                          "fill": {
                            "color": "#C8D4E3"
                          },
                          "line": {
                            "color": "white"
                          }
                        },
                        "type": "table"
                      }
                    ]
                  },
                  "layout": {
                    "annotationdefaults": {
                      "arrowcolor": "#2a3f5f",
                      "arrowhead": 0,
                      "arrowwidth": 1
                    },
                    "autotypenumbers": "strict",
                    "coloraxis": {
                      "colorbar": {
                        "outlinewidth": 0,
                        "ticks": ""
                      }
                    },
                    "colorscale": {
                      "diverging": [
                        [
                          0,
                          "#8e0152"
                        ],
                        [
                          0.1,
                          "#c51b7d"
                        ],
                        [
                          0.2,
                          "#de77ae"
                        ],
                        [
                          0.3,
                          "#f1b6da"
                        ],
                        [
                          0.4,
                          "#fde0ef"
                        ],
                        [
                          0.5,
                          "#f7f7f7"
                        ],
                        [
                          0.6,
                          "#e6f5d0"
                        ],
                        [
                          0.7,
                          "#b8e186"
                        ],
                        [
                          0.8,
                          "#7fbc41"
                        ],
                        [
                          0.9,
                          "#4d9221"
                        ],
                        [
                          1,
                          "#276419"
                        ]
                      ],
                      "sequential": [
                        [
                          0,
                          "#0d0887"
                        ],
                        [
                          0.1111111111111111,
                          "#46039f"
                        ],
                        [
                          0.2222222222222222,
                          "#7201a8"
                        ],
                        [
                          0.3333333333333333,
                          "#9c179e"
                        ],
                        [
                          0.4444444444444444,
                          "#bd3786"
                        ],
                        [
                          0.5555555555555556,
                          "#d8576b"
                        ],
                        [
                          0.6666666666666666,
                          "#ed7953"
                        ],
                        [
                          0.7777777777777778,
                          "#fb9f3a"
                        ],
                        [
                          0.8888888888888888,
                          "#fdca26"
                        ],
                        [
                          1,
                          "#f0f921"
                        ]
                      ],
                      "sequentialminus": [
                        [
                          0,
                          "#0d0887"
                        ],
                        [
                          0.1111111111111111,
                          "#46039f"
                        ],
                        [
                          0.2222222222222222,
                          "#7201a8"
                        ],
                        [
                          0.3333333333333333,
                          "#9c179e"
                        ],
                        [
                          0.4444444444444444,
                          "#bd3786"
                        ],
                        [
                          0.5555555555555556,
                          "#d8576b"
                        ],
                        [
                          0.6666666666666666,
                          "#ed7953"
                        ],
                        [
                          0.7777777777777778,
                          "#fb9f3a"
                        ],
                        [
                          0.8888888888888888,
                          "#fdca26"
                        ],
                        [
                          1,
                          "#f0f921"
                        ]
                      ]
                    },
                    "colorway": [
                      "#636efa",
                      "#EF553B",
                      "#00cc96",
                      "#ab63fa",
                      "#FFA15A",
                      "#19d3f3",
                      "#FF6692",
                      "#B6E880",
                      "#FF97FF",
                      "#FECB52"
                    ],
                    "font": {
                      "color": "#2a3f5f"
                    },
                    "geo": {
                      "bgcolor": "white",
                      "lakecolor": "white",
                      "landcolor": "#E5ECF6",
                      "showlakes": true,
                      "showland": true,
                      "subunitcolor": "white"
                    },
                    "hoverlabel": {
                      "align": "left"
                    },
                    "hovermode": "closest",
                    "mapbox": {
                      "style": "light"
                    },
                    "paper_bgcolor": "white",
                    "plot_bgcolor": "#E5ECF6",
                    "polar": {
                      "angularaxis": {
                        "gridcolor": "white",
                        "linecolor": "white",
                        "ticks": ""
                      },
                      "bgcolor": "#E5ECF6",
                      "radialaxis": {
                        "gridcolor": "white",
                        "linecolor": "white",
                        "ticks": ""
                      }
                    },
                    "scene": {
                      "xaxis": {
                        "backgroundcolor": "#E5ECF6",
                        "gridcolor": "white",
                        "gridwidth": 2,
                        "linecolor": "white",
                        "showbackground": true,
                        "ticks": "",
                        "zerolinecolor": "white"
                      },
                      "yaxis": {
                        "backgroundcolor": "#E5ECF6",
                        "gridcolor": "white",
                        "gridwidth": 2,
                        "linecolor": "white",
                        "showbackground": true,
                        "ticks": "",
                        "zerolinecolor": "white"
                      },
                      "zaxis": {
                        "backgroundcolor": "#E5ECF6",
                        "gridcolor": "white",
                        "gridwidth": 2,
                        "linecolor": "white",
                        "showbackground": true,
                        "ticks": "",
                        "zerolinecolor": "white"
                      }
                    },
                    "shapedefaults": {
                      "line": {
                        "color": "#2a3f5f"
                      }
                    },
                    "ternary": {
                      "aaxis": {
                        "gridcolor": "white",
                        "linecolor": "white",
                        "ticks": ""
                      },
                      "baxis": {
                        "gridcolor": "white",
                        "linecolor": "white",
                        "ticks": ""
                      },
                      "bgcolor": "#E5ECF6",
                      "caxis": {
                        "gridcolor": "white",
                        "linecolor": "white",
                        "ticks": ""
                      }
                    },
                    "title": {
                      "x": 0.05
                    },
                    "xaxis": {
                      "automargin": true,
                      "gridcolor": "white",
                      "linecolor": "white",
                      "ticks": "",
                      "title": {
                        "standoff": 15
                      },
                      "zerolinecolor": "white",
                      "zerolinewidth": 2
                    },
                    "yaxis": {
                      "automargin": true,
                      "gridcolor": "white",
                      "linecolor": "white",
                      "ticks": "",
                      "title": {
                        "standoff": 15
                      },
                      "zerolinecolor": "white",
                      "zerolinewidth": 2
                    }
                  }
                },
                "title": {
                  "text": "Parallel Coordinate Plot"
                }
              }
            }
          },
          "metadata": {},
          "output_type": "display_data"
        }
      ],
      "source": [
        "# 2. Parallel Coordinates Plot\n",
        "plot_parallel_coordinate(study).show()"
      ]
    },
    {
      "cell_type": "code",
      "execution_count": 19,
      "metadata": {
        "colab": {
          "base_uri": "https://localhost:8080/",
          "height": 542
        },
        "id": "JO1GGlRv43tJ",
        "outputId": "23c9ff04-02a8-471e-903b-3073d49b8fd7"
      },
      "outputs": [
        {
          "data": {
            "application/vnd.plotly.v1+json": {
              "config": {
                "plotlyServerURL": "https://plot.ly"
              },
              "data": [
                {
                  "marker": {
                    "color": [
                      0,
                      1,
                      2,
                      3,
                      4,
                      5,
                      6,
                      7,
                      8,
                      9,
                      10,
                      11,
                      12,
                      13,
                      14,
                      15
                    ],
                    "colorbar": {
                      "title": {
                        "text": "Trial"
                      },
                      "x": 1,
                      "xpad": 40
                    },
                    "colorscale": [
                      [
                        0,
                        "rgb(247,251,255)"
                      ],
                      [
                        0.125,
                        "rgb(222,235,247)"
                      ],
                      [
                        0.25,
                        "rgb(198,219,239)"
                      ],
                      [
                        0.375,
                        "rgb(158,202,225)"
                      ],
                      [
                        0.5,
                        "rgb(107,174,214)"
                      ],
                      [
                        0.625,
                        "rgb(66,146,198)"
                      ],
                      [
                        0.75,
                        "rgb(33,113,181)"
                      ],
                      [
                        0.875,
                        "rgb(8,81,156)"
                      ],
                      [
                        1,
                        "rgb(8,48,107)"
                      ]
                    ],
                    "line": {
                      "color": "Grey",
                      "width": 0.5
                    },
                    "showscale": true
                  },
                  "mode": "markers",
                  "name": "Feasible Trial",
                  "showlegend": false,
                  "type": "scatter",
                  "x": [
                    5,
                    10,
                    15,
                    15,
                    20,
                    10,
                    5,
                    20,
                    15,
                    10,
                    20,
                    15,
                    5,
                    5,
                    10,
                    20
                  ],
                  "xaxis": "x",
                  "y": [
                    0.7690875232774674,
                    0.7672253258845437,
                    0.7728119180633147,
                    0.7653631284916201,
                    0.7690875232774674,
                    0.7579143389199254,
                    0.7653631284916201,
                    0.7728119180633147,
                    0.7728119180633147,
                    0.7709497206703911,
                    0.7728119180633147,
                    0.7728119180633147,
                    0.7690875232774674,
                    0.7746741154562384,
                    0.7616387337057727,
                    0.7709497206703911
                  ],
                  "yaxis": "y"
                },
                {
                  "marker": {
                    "color": [
                      0,
                      1,
                      2,
                      3,
                      4,
                      5,
                      6,
                      7,
                      8,
                      9,
                      10,
                      11,
                      12,
                      13,
                      14,
                      15
                    ],
                    "colorbar": {
                      "title": {
                        "text": "Trial"
                      },
                      "x": 1,
                      "xpad": 40
                    },
                    "colorscale": [
                      [
                        0,
                        "rgb(247,251,255)"
                      ],
                      [
                        0.125,
                        "rgb(222,235,247)"
                      ],
                      [
                        0.25,
                        "rgb(198,219,239)"
                      ],
                      [
                        0.375,
                        "rgb(158,202,225)"
                      ],
                      [
                        0.5,
                        "rgb(107,174,214)"
                      ],
                      [
                        0.625,
                        "rgb(66,146,198)"
                      ],
                      [
                        0.75,
                        "rgb(33,113,181)"
                      ],
                      [
                        0.875,
                        "rgb(8,81,156)"
                      ],
                      [
                        1,
                        "rgb(8,48,107)"
                      ]
                    ],
                    "line": {
                      "color": "Grey",
                      "width": 0.5
                    },
                    "showscale": false
                  },
                  "mode": "markers",
                  "name": "Feasible Trial",
                  "showlegend": false,
                  "type": "scatter",
                  "x": [
                    100,
                    150,
                    50,
                    100,
                    100,
                    50,
                    150,
                    150,
                    150,
                    200,
                    200,
                    200,
                    200,
                    50,
                    100,
                    50
                  ],
                  "xaxis": "x2",
                  "y": [
                    0.7690875232774674,
                    0.7672253258845437,
                    0.7728119180633147,
                    0.7653631284916201,
                    0.7690875232774674,
                    0.7579143389199254,
                    0.7653631284916201,
                    0.7728119180633147,
                    0.7728119180633147,
                    0.7709497206703911,
                    0.7728119180633147,
                    0.7728119180633147,
                    0.7690875232774674,
                    0.7746741154562384,
                    0.7616387337057727,
                    0.7709497206703911
                  ],
                  "yaxis": "y2"
                }
              ],
              "layout": {
                "template": {
                  "data": {
                    "bar": [
                      {
                        "error_x": {
                          "color": "#2a3f5f"
                        },
                        "error_y": {
                          "color": "#2a3f5f"
                        },
                        "marker": {
                          "line": {
                            "color": "#E5ECF6",
                            "width": 0.5
                          },
                          "pattern": {
                            "fillmode": "overlay",
                            "size": 10,
                            "solidity": 0.2
                          }
                        },
                        "type": "bar"
                      }
                    ],
                    "barpolar": [
                      {
                        "marker": {
                          "line": {
                            "color": "#E5ECF6",
                            "width": 0.5
                          },
                          "pattern": {
                            "fillmode": "overlay",
                            "size": 10,
                            "solidity": 0.2
                          }
                        },
                        "type": "barpolar"
                      }
                    ],
                    "carpet": [
                      {
                        "aaxis": {
                          "endlinecolor": "#2a3f5f",
                          "gridcolor": "white",
                          "linecolor": "white",
                          "minorgridcolor": "white",
                          "startlinecolor": "#2a3f5f"
                        },
                        "baxis": {
                          "endlinecolor": "#2a3f5f",
                          "gridcolor": "white",
                          "linecolor": "white",
                          "minorgridcolor": "white",
                          "startlinecolor": "#2a3f5f"
                        },
                        "type": "carpet"
                      }
                    ],
                    "choropleth": [
                      {
                        "colorbar": {
                          "outlinewidth": 0,
                          "ticks": ""
                        },
                        "type": "choropleth"
                      }
                    ],
                    "contour": [
                      {
                        "colorbar": {
                          "outlinewidth": 0,
                          "ticks": ""
                        },
                        "colorscale": [
                          [
                            0,
                            "#0d0887"
                          ],
                          [
                            0.1111111111111111,
                            "#46039f"
                          ],
                          [
                            0.2222222222222222,
                            "#7201a8"
                          ],
                          [
                            0.3333333333333333,
                            "#9c179e"
                          ],
                          [
                            0.4444444444444444,
                            "#bd3786"
                          ],
                          [
                            0.5555555555555556,
                            "#d8576b"
                          ],
                          [
                            0.6666666666666666,
                            "#ed7953"
                          ],
                          [
                            0.7777777777777778,
                            "#fb9f3a"
                          ],
                          [
                            0.8888888888888888,
                            "#fdca26"
                          ],
                          [
                            1,
                            "#f0f921"
                          ]
                        ],
                        "type": "contour"
                      }
                    ],
                    "contourcarpet": [
                      {
                        "colorbar": {
                          "outlinewidth": 0,
                          "ticks": ""
                        },
                        "type": "contourcarpet"
                      }
                    ],
                    "heatmap": [
                      {
                        "colorbar": {
                          "outlinewidth": 0,
                          "ticks": ""
                        },
                        "colorscale": [
                          [
                            0,
                            "#0d0887"
                          ],
                          [
                            0.1111111111111111,
                            "#46039f"
                          ],
                          [
                            0.2222222222222222,
                            "#7201a8"
                          ],
                          [
                            0.3333333333333333,
                            "#9c179e"
                          ],
                          [
                            0.4444444444444444,
                            "#bd3786"
                          ],
                          [
                            0.5555555555555556,
                            "#d8576b"
                          ],
                          [
                            0.6666666666666666,
                            "#ed7953"
                          ],
                          [
                            0.7777777777777778,
                            "#fb9f3a"
                          ],
                          [
                            0.8888888888888888,
                            "#fdca26"
                          ],
                          [
                            1,
                            "#f0f921"
                          ]
                        ],
                        "type": "heatmap"
                      }
                    ],
                    "heatmapgl": [
                      {
                        "colorbar": {
                          "outlinewidth": 0,
                          "ticks": ""
                        },
                        "colorscale": [
                          [
                            0,
                            "#0d0887"
                          ],
                          [
                            0.1111111111111111,
                            "#46039f"
                          ],
                          [
                            0.2222222222222222,
                            "#7201a8"
                          ],
                          [
                            0.3333333333333333,
                            "#9c179e"
                          ],
                          [
                            0.4444444444444444,
                            "#bd3786"
                          ],
                          [
                            0.5555555555555556,
                            "#d8576b"
                          ],
                          [
                            0.6666666666666666,
                            "#ed7953"
                          ],
                          [
                            0.7777777777777778,
                            "#fb9f3a"
                          ],
                          [
                            0.8888888888888888,
                            "#fdca26"
                          ],
                          [
                            1,
                            "#f0f921"
                          ]
                        ],
                        "type": "heatmapgl"
                      }
                    ],
                    "histogram": [
                      {
                        "marker": {
                          "pattern": {
                            "fillmode": "overlay",
                            "size": 10,
                            "solidity": 0.2
                          }
                        },
                        "type": "histogram"
                      }
                    ],
                    "histogram2d": [
                      {
                        "colorbar": {
                          "outlinewidth": 0,
                          "ticks": ""
                        },
                        "colorscale": [
                          [
                            0,
                            "#0d0887"
                          ],
                          [
                            0.1111111111111111,
                            "#46039f"
                          ],
                          [
                            0.2222222222222222,
                            "#7201a8"
                          ],
                          [
                            0.3333333333333333,
                            "#9c179e"
                          ],
                          [
                            0.4444444444444444,
                            "#bd3786"
                          ],
                          [
                            0.5555555555555556,
                            "#d8576b"
                          ],
                          [
                            0.6666666666666666,
                            "#ed7953"
                          ],
                          [
                            0.7777777777777778,
                            "#fb9f3a"
                          ],
                          [
                            0.8888888888888888,
                            "#fdca26"
                          ],
                          [
                            1,
                            "#f0f921"
                          ]
                        ],
                        "type": "histogram2d"
                      }
                    ],
                    "histogram2dcontour": [
                      {
                        "colorbar": {
                          "outlinewidth": 0,
                          "ticks": ""
                        },
                        "colorscale": [
                          [
                            0,
                            "#0d0887"
                          ],
                          [
                            0.1111111111111111,
                            "#46039f"
                          ],
                          [
                            0.2222222222222222,
                            "#7201a8"
                          ],
                          [
                            0.3333333333333333,
                            "#9c179e"
                          ],
                          [
                            0.4444444444444444,
                            "#bd3786"
                          ],
                          [
                            0.5555555555555556,
                            "#d8576b"
                          ],
                          [
                            0.6666666666666666,
                            "#ed7953"
                          ],
                          [
                            0.7777777777777778,
                            "#fb9f3a"
                          ],
                          [
                            0.8888888888888888,
                            "#fdca26"
                          ],
                          [
                            1,
                            "#f0f921"
                          ]
                        ],
                        "type": "histogram2dcontour"
                      }
                    ],
                    "mesh3d": [
                      {
                        "colorbar": {
                          "outlinewidth": 0,
                          "ticks": ""
                        },
                        "type": "mesh3d"
                      }
                    ],
                    "parcoords": [
                      {
                        "line": {
                          "colorbar": {
                            "outlinewidth": 0,
                            "ticks": ""
                          }
                        },
                        "type": "parcoords"
                      }
                    ],
                    "pie": [
                      {
                        "automargin": true,
                        "type": "pie"
                      }
                    ],
                    "scatter": [
                      {
                        "fillpattern": {
                          "fillmode": "overlay",
                          "size": 10,
                          "solidity": 0.2
                        },
                        "type": "scatter"
                      }
                    ],
                    "scatter3d": [
                      {
                        "line": {
                          "colorbar": {
                            "outlinewidth": 0,
                            "ticks": ""
                          }
                        },
                        "marker": {
                          "colorbar": {
                            "outlinewidth": 0,
                            "ticks": ""
                          }
                        },
                        "type": "scatter3d"
                      }
                    ],
                    "scattercarpet": [
                      {
                        "marker": {
                          "colorbar": {
                            "outlinewidth": 0,
                            "ticks": ""
                          }
                        },
                        "type": "scattercarpet"
                      }
                    ],
                    "scattergeo": [
                      {
                        "marker": {
                          "colorbar": {
                            "outlinewidth": 0,
                            "ticks": ""
                          }
                        },
                        "type": "scattergeo"
                      }
                    ],
                    "scattergl": [
                      {
                        "marker": {
                          "colorbar": {
                            "outlinewidth": 0,
                            "ticks": ""
                          }
                        },
                        "type": "scattergl"
                      }
                    ],
                    "scattermapbox": [
                      {
                        "marker": {
                          "colorbar": {
                            "outlinewidth": 0,
                            "ticks": ""
                          }
                        },
                        "type": "scattermapbox"
                      }
                    ],
                    "scatterpolar": [
                      {
                        "marker": {
                          "colorbar": {
                            "outlinewidth": 0,
                            "ticks": ""
                          }
                        },
                        "type": "scatterpolar"
                      }
                    ],
                    "scatterpolargl": [
                      {
                        "marker": {
                          "colorbar": {
                            "outlinewidth": 0,
                            "ticks": ""
                          }
                        },
                        "type": "scatterpolargl"
                      }
                    ],
                    "scatterternary": [
                      {
                        "marker": {
                          "colorbar": {
                            "outlinewidth": 0,
                            "ticks": ""
                          }
                        },
                        "type": "scatterternary"
                      }
                    ],
                    "surface": [
                      {
                        "colorbar": {
                          "outlinewidth": 0,
                          "ticks": ""
                        },
                        "colorscale": [
                          [
                            0,
                            "#0d0887"
                          ],
                          [
                            0.1111111111111111,
                            "#46039f"
                          ],
                          [
                            0.2222222222222222,
                            "#7201a8"
                          ],
                          [
                            0.3333333333333333,
                            "#9c179e"
                          ],
                          [
                            0.4444444444444444,
                            "#bd3786"
                          ],
                          [
                            0.5555555555555556,
                            "#d8576b"
                          ],
                          [
                            0.6666666666666666,
                            "#ed7953"
                          ],
                          [
                            0.7777777777777778,
                            "#fb9f3a"
                          ],
                          [
                            0.8888888888888888,
                            "#fdca26"
                          ],
                          [
                            1,
                            "#f0f921"
                          ]
                        ],
                        "type": "surface"
                      }
                    ],
                    "table": [
                      {
                        "cells": {
                          "fill": {
                            "color": "#EBF0F8"
                          },
                          "line": {
                            "color": "white"
                          }
                        },
                        "header": {
                          "fill": {
                            "color": "#C8D4E3"
                          },
                          "line": {
                            "color": "white"
                          }
                        },
                        "type": "table"
                      }
                    ]
                  },
                  "layout": {
                    "annotationdefaults": {
                      "arrowcolor": "#2a3f5f",
                      "arrowhead": 0,
                      "arrowwidth": 1
                    },
                    "autotypenumbers": "strict",
                    "coloraxis": {
                      "colorbar": {
                        "outlinewidth": 0,
                        "ticks": ""
                      }
                    },
                    "colorscale": {
                      "diverging": [
                        [
                          0,
                          "#8e0152"
                        ],
                        [
                          0.1,
                          "#c51b7d"
                        ],
                        [
                          0.2,
                          "#de77ae"
                        ],
                        [
                          0.3,
                          "#f1b6da"
                        ],
                        [
                          0.4,
                          "#fde0ef"
                        ],
                        [
                          0.5,
                          "#f7f7f7"
                        ],
                        [
                          0.6,
                          "#e6f5d0"
                        ],
                        [
                          0.7,
                          "#b8e186"
                        ],
                        [
                          0.8,
                          "#7fbc41"
                        ],
                        [
                          0.9,
                          "#4d9221"
                        ],
                        [
                          1,
                          "#276419"
                        ]
                      ],
                      "sequential": [
                        [
                          0,
                          "#0d0887"
                        ],
                        [
                          0.1111111111111111,
                          "#46039f"
                        ],
                        [
                          0.2222222222222222,
                          "#7201a8"
                        ],
                        [
                          0.3333333333333333,
                          "#9c179e"
                        ],
                        [
                          0.4444444444444444,
                          "#bd3786"
                        ],
                        [
                          0.5555555555555556,
                          "#d8576b"
                        ],
                        [
                          0.6666666666666666,
                          "#ed7953"
                        ],
                        [
                          0.7777777777777778,
                          "#fb9f3a"
                        ],
                        [
                          0.8888888888888888,
                          "#fdca26"
                        ],
                        [
                          1,
                          "#f0f921"
                        ]
                      ],
                      "sequentialminus": [
                        [
                          0,
                          "#0d0887"
                        ],
                        [
                          0.1111111111111111,
                          "#46039f"
                        ],
                        [
                          0.2222222222222222,
                          "#7201a8"
                        ],
                        [
                          0.3333333333333333,
                          "#9c179e"
                        ],
                        [
                          0.4444444444444444,
                          "#bd3786"
                        ],
                        [
                          0.5555555555555556,
                          "#d8576b"
                        ],
                        [
                          0.6666666666666666,
                          "#ed7953"
                        ],
                        [
                          0.7777777777777778,
                          "#fb9f3a"
                        ],
                        [
                          0.8888888888888888,
                          "#fdca26"
                        ],
                        [
                          1,
                          "#f0f921"
                        ]
                      ]
                    },
                    "colorway": [
                      "#636efa",
                      "#EF553B",
                      "#00cc96",
                      "#ab63fa",
                      "#FFA15A",
                      "#19d3f3",
                      "#FF6692",
                      "#B6E880",
                      "#FF97FF",
                      "#FECB52"
                    ],
                    "font": {
                      "color": "#2a3f5f"
                    },
                    "geo": {
                      "bgcolor": "white",
                      "lakecolor": "white",
                      "landcolor": "#E5ECF6",
                      "showlakes": true,
                      "showland": true,
                      "subunitcolor": "white"
                    },
                    "hoverlabel": {
                      "align": "left"
                    },
                    "hovermode": "closest",
                    "mapbox": {
                      "style": "light"
                    },
                    "paper_bgcolor": "white",
                    "plot_bgcolor": "#E5ECF6",
                    "polar": {
                      "angularaxis": {
                        "gridcolor": "white",
                        "linecolor": "white",
                        "ticks": ""
                      },
                      "bgcolor": "#E5ECF6",
                      "radialaxis": {
                        "gridcolor": "white",
                        "linecolor": "white",
                        "ticks": ""
                      }
                    },
                    "scene": {
                      "xaxis": {
                        "backgroundcolor": "#E5ECF6",
                        "gridcolor": "white",
                        "gridwidth": 2,
                        "linecolor": "white",
                        "showbackground": true,
                        "ticks": "",
                        "zerolinecolor": "white"
                      },
                      "yaxis": {
                        "backgroundcolor": "#E5ECF6",
                        "gridcolor": "white",
                        "gridwidth": 2,
                        "linecolor": "white",
                        "showbackground": true,
                        "ticks": "",
                        "zerolinecolor": "white"
                      },
                      "zaxis": {
                        "backgroundcolor": "#E5ECF6",
                        "gridcolor": "white",
                        "gridwidth": 2,
                        "linecolor": "white",
                        "showbackground": true,
                        "ticks": "",
                        "zerolinecolor": "white"
                      }
                    },
                    "shapedefaults": {
                      "line": {
                        "color": "#2a3f5f"
                      }
                    },
                    "ternary": {
                      "aaxis": {
                        "gridcolor": "white",
                        "linecolor": "white",
                        "ticks": ""
                      },
                      "baxis": {
                        "gridcolor": "white",
                        "linecolor": "white",
                        "ticks": ""
                      },
                      "bgcolor": "#E5ECF6",
                      "caxis": {
                        "gridcolor": "white",
                        "linecolor": "white",
                        "ticks": ""
                      }
                    },
                    "title": {
                      "x": 0.05
                    },
                    "xaxis": {
                      "automargin": true,
                      "gridcolor": "white",
                      "linecolor": "white",
                      "ticks": "",
                      "title": {
                        "standoff": 15
                      },
                      "zerolinecolor": "white",
                      "zerolinewidth": 2
                    },
                    "yaxis": {
                      "automargin": true,
                      "gridcolor": "white",
                      "linecolor": "white",
                      "ticks": "",
                      "title": {
                        "standoff": 15
                      },
                      "zerolinecolor": "white",
                      "zerolinewidth": 2
                    }
                  }
                },
                "title": {
                  "text": "Slice Plot"
                },
                "xaxis": {
                  "anchor": "y",
                  "domain": [
                    0,
                    0.45
                  ],
                  "title": {
                    "text": "max_depth"
                  }
                },
                "xaxis2": {
                  "anchor": "y2",
                  "domain": [
                    0.55,
                    1
                  ],
                  "title": {
                    "text": "n_estimators"
                  }
                },
                "yaxis": {
                  "anchor": "x",
                  "domain": [
                    0,
                    1
                  ],
                  "title": {
                    "text": "Objective Value"
                  }
                },
                "yaxis2": {
                  "anchor": "x2",
                  "domain": [
                    0,
                    1
                  ],
                  "matches": "y",
                  "showticklabels": false
                }
              }
            }
          },
          "metadata": {},
          "output_type": "display_data"
        }
      ],
      "source": [
        "# 3. Slice Plot\n",
        "plot_slice(study).show()"
      ]
    },
    {
      "cell_type": "code",
      "execution_count": 20,
      "metadata": {
        "colab": {
          "base_uri": "https://localhost:8080/",
          "height": 542
        },
        "id": "b3u7VrCi5DPB",
        "outputId": "03272990-910f-45a5-f99c-fdad29188048"
      },
      "outputs": [
        {
          "data": {
            "application/vnd.plotly.v1+json": {
              "config": {
                "plotlyServerURL": "https://plot.ly"
              },
              "data": [
                {
                  "colorbar": {
                    "title": {
                      "text": "Objective Value"
                    }
                  },
                  "colorscale": [
                    [
                      0,
                      "rgb(247,251,255)"
                    ],
                    [
                      0.125,
                      "rgb(222,235,247)"
                    ],
                    [
                      0.25,
                      "rgb(198,219,239)"
                    ],
                    [
                      0.375,
                      "rgb(158,202,225)"
                    ],
                    [
                      0.5,
                      "rgb(107,174,214)"
                    ],
                    [
                      0.625,
                      "rgb(66,146,198)"
                    ],
                    [
                      0.75,
                      "rgb(33,113,181)"
                    ],
                    [
                      0.875,
                      "rgb(8,81,156)"
                    ],
                    [
                      1,
                      "rgb(8,48,107)"
                    ]
                  ],
                  "connectgaps": true,
                  "contours": {
                    "coloring": "heatmap"
                  },
                  "hoverinfo": "none",
                  "line": {
                    "smoothing": 1.3
                  },
                  "reversescale": false,
                  "type": "contour",
                  "x": [
                    4.25,
                    5,
                    10,
                    15,
                    20,
                    20.75
                  ],
                  "y": [
                    42.5,
                    50,
                    100,
                    150,
                    200,
                    207.5
                  ],
                  "z": [
                    [
                      null,
                      null,
                      null,
                      null,
                      null,
                      null
                    ],
                    [
                      null,
                      0.7746741154562384,
                      0.7579143389199254,
                      0.7728119180633147,
                      0.7709497206703911,
                      null
                    ],
                    [
                      null,
                      0.7690875232774674,
                      0.7616387337057727,
                      0.7653631284916201,
                      0.7690875232774674,
                      null
                    ],
                    [
                      null,
                      0.7653631284916201,
                      0.7672253258845437,
                      0.7728119180633147,
                      0.7728119180633147,
                      null
                    ],
                    [
                      null,
                      0.7690875232774674,
                      0.7709497206703911,
                      0.7728119180633147,
                      0.7728119180633147,
                      null
                    ],
                    [
                      null,
                      null,
                      null,
                      null,
                      null,
                      null
                    ]
                  ]
                },
                {
                  "marker": {
                    "color": "black",
                    "line": {
                      "color": "Gray",
                      "width": 2
                    }
                  },
                  "mode": "markers",
                  "name": "Feasible Trial",
                  "showlegend": false,
                  "type": "scatter",
                  "x": [
                    5,
                    10,
                    15,
                    15,
                    20,
                    10,
                    5,
                    20,
                    15,
                    10,
                    20,
                    15,
                    5,
                    5,
                    10,
                    20
                  ],
                  "y": [
                    100,
                    150,
                    50,
                    100,
                    100,
                    50,
                    150,
                    150,
                    150,
                    200,
                    200,
                    200,
                    200,
                    50,
                    100,
                    50
                  ]
                },
                {
                  "marker": {
                    "color": "#cccccc",
                    "line": {
                      "color": "Gray",
                      "width": 2
                    }
                  },
                  "mode": "markers",
                  "name": "Infeasible Trial",
                  "showlegend": false,
                  "type": "scatter",
                  "x": [],
                  "y": []
                }
              ],
              "layout": {
                "template": {
                  "data": {
                    "bar": [
                      {
                        "error_x": {
                          "color": "#2a3f5f"
                        },
                        "error_y": {
                          "color": "#2a3f5f"
                        },
                        "marker": {
                          "line": {
                            "color": "#E5ECF6",
                            "width": 0.5
                          },
                          "pattern": {
                            "fillmode": "overlay",
                            "size": 10,
                            "solidity": 0.2
                          }
                        },
                        "type": "bar"
                      }
                    ],
                    "barpolar": [
                      {
                        "marker": {
                          "line": {
                            "color": "#E5ECF6",
                            "width": 0.5
                          },
                          "pattern": {
                            "fillmode": "overlay",
                            "size": 10,
                            "solidity": 0.2
                          }
                        },
                        "type": "barpolar"
                      }
                    ],
                    "carpet": [
                      {
                        "aaxis": {
                          "endlinecolor": "#2a3f5f",
                          "gridcolor": "white",
                          "linecolor": "white",
                          "minorgridcolor": "white",
                          "startlinecolor": "#2a3f5f"
                        },
                        "baxis": {
                          "endlinecolor": "#2a3f5f",
                          "gridcolor": "white",
                          "linecolor": "white",
                          "minorgridcolor": "white",
                          "startlinecolor": "#2a3f5f"
                        },
                        "type": "carpet"
                      }
                    ],
                    "choropleth": [
                      {
                        "colorbar": {
                          "outlinewidth": 0,
                          "ticks": ""
                        },
                        "type": "choropleth"
                      }
                    ],
                    "contour": [
                      {
                        "colorbar": {
                          "outlinewidth": 0,
                          "ticks": ""
                        },
                        "colorscale": [
                          [
                            0,
                            "#0d0887"
                          ],
                          [
                            0.1111111111111111,
                            "#46039f"
                          ],
                          [
                            0.2222222222222222,
                            "#7201a8"
                          ],
                          [
                            0.3333333333333333,
                            "#9c179e"
                          ],
                          [
                            0.4444444444444444,
                            "#bd3786"
                          ],
                          [
                            0.5555555555555556,
                            "#d8576b"
                          ],
                          [
                            0.6666666666666666,
                            "#ed7953"
                          ],
                          [
                            0.7777777777777778,
                            "#fb9f3a"
                          ],
                          [
                            0.8888888888888888,
                            "#fdca26"
                          ],
                          [
                            1,
                            "#f0f921"
                          ]
                        ],
                        "type": "contour"
                      }
                    ],
                    "contourcarpet": [
                      {
                        "colorbar": {
                          "outlinewidth": 0,
                          "ticks": ""
                        },
                        "type": "contourcarpet"
                      }
                    ],
                    "heatmap": [
                      {
                        "colorbar": {
                          "outlinewidth": 0,
                          "ticks": ""
                        },
                        "colorscale": [
                          [
                            0,
                            "#0d0887"
                          ],
                          [
                            0.1111111111111111,
                            "#46039f"
                          ],
                          [
                            0.2222222222222222,
                            "#7201a8"
                          ],
                          [
                            0.3333333333333333,
                            "#9c179e"
                          ],
                          [
                            0.4444444444444444,
                            "#bd3786"
                          ],
                          [
                            0.5555555555555556,
                            "#d8576b"
                          ],
                          [
                            0.6666666666666666,
                            "#ed7953"
                          ],
                          [
                            0.7777777777777778,
                            "#fb9f3a"
                          ],
                          [
                            0.8888888888888888,
                            "#fdca26"
                          ],
                          [
                            1,
                            "#f0f921"
                          ]
                        ],
                        "type": "heatmap"
                      }
                    ],
                    "heatmapgl": [
                      {
                        "colorbar": {
                          "outlinewidth": 0,
                          "ticks": ""
                        },
                        "colorscale": [
                          [
                            0,
                            "#0d0887"
                          ],
                          [
                            0.1111111111111111,
                            "#46039f"
                          ],
                          [
                            0.2222222222222222,
                            "#7201a8"
                          ],
                          [
                            0.3333333333333333,
                            "#9c179e"
                          ],
                          [
                            0.4444444444444444,
                            "#bd3786"
                          ],
                          [
                            0.5555555555555556,
                            "#d8576b"
                          ],
                          [
                            0.6666666666666666,
                            "#ed7953"
                          ],
                          [
                            0.7777777777777778,
                            "#fb9f3a"
                          ],
                          [
                            0.8888888888888888,
                            "#fdca26"
                          ],
                          [
                            1,
                            "#f0f921"
                          ]
                        ],
                        "type": "heatmapgl"
                      }
                    ],
                    "histogram": [
                      {
                        "marker": {
                          "pattern": {
                            "fillmode": "overlay",
                            "size": 10,
                            "solidity": 0.2
                          }
                        },
                        "type": "histogram"
                      }
                    ],
                    "histogram2d": [
                      {
                        "colorbar": {
                          "outlinewidth": 0,
                          "ticks": ""
                        },
                        "colorscale": [
                          [
                            0,
                            "#0d0887"
                          ],
                          [
                            0.1111111111111111,
                            "#46039f"
                          ],
                          [
                            0.2222222222222222,
                            "#7201a8"
                          ],
                          [
                            0.3333333333333333,
                            "#9c179e"
                          ],
                          [
                            0.4444444444444444,
                            "#bd3786"
                          ],
                          [
                            0.5555555555555556,
                            "#d8576b"
                          ],
                          [
                            0.6666666666666666,
                            "#ed7953"
                          ],
                          [
                            0.7777777777777778,
                            "#fb9f3a"
                          ],
                          [
                            0.8888888888888888,
                            "#fdca26"
                          ],
                          [
                            1,
                            "#f0f921"
                          ]
                        ],
                        "type": "histogram2d"
                      }
                    ],
                    "histogram2dcontour": [
                      {
                        "colorbar": {
                          "outlinewidth": 0,
                          "ticks": ""
                        },
                        "colorscale": [
                          [
                            0,
                            "#0d0887"
                          ],
                          [
                            0.1111111111111111,
                            "#46039f"
                          ],
                          [
                            0.2222222222222222,
                            "#7201a8"
                          ],
                          [
                            0.3333333333333333,
                            "#9c179e"
                          ],
                          [
                            0.4444444444444444,
                            "#bd3786"
                          ],
                          [
                            0.5555555555555556,
                            "#d8576b"
                          ],
                          [
                            0.6666666666666666,
                            "#ed7953"
                          ],
                          [
                            0.7777777777777778,
                            "#fb9f3a"
                          ],
                          [
                            0.8888888888888888,
                            "#fdca26"
                          ],
                          [
                            1,
                            "#f0f921"
                          ]
                        ],
                        "type": "histogram2dcontour"
                      }
                    ],
                    "mesh3d": [
                      {
                        "colorbar": {
                          "outlinewidth": 0,
                          "ticks": ""
                        },
                        "type": "mesh3d"
                      }
                    ],
                    "parcoords": [
                      {
                        "line": {
                          "colorbar": {
                            "outlinewidth": 0,
                            "ticks": ""
                          }
                        },
                        "type": "parcoords"
                      }
                    ],
                    "pie": [
                      {
                        "automargin": true,
                        "type": "pie"
                      }
                    ],
                    "scatter": [
                      {
                        "fillpattern": {
                          "fillmode": "overlay",
                          "size": 10,
                          "solidity": 0.2
                        },
                        "type": "scatter"
                      }
                    ],
                    "scatter3d": [
                      {
                        "line": {
                          "colorbar": {
                            "outlinewidth": 0,
                            "ticks": ""
                          }
                        },
                        "marker": {
                          "colorbar": {
                            "outlinewidth": 0,
                            "ticks": ""
                          }
                        },
                        "type": "scatter3d"
                      }
                    ],
                    "scattercarpet": [
                      {
                        "marker": {
                          "colorbar": {
                            "outlinewidth": 0,
                            "ticks": ""
                          }
                        },
                        "type": "scattercarpet"
                      }
                    ],
                    "scattergeo": [
                      {
                        "marker": {
                          "colorbar": {
                            "outlinewidth": 0,
                            "ticks": ""
                          }
                        },
                        "type": "scattergeo"
                      }
                    ],
                    "scattergl": [
                      {
                        "marker": {
                          "colorbar": {
                            "outlinewidth": 0,
                            "ticks": ""
                          }
                        },
                        "type": "scattergl"
                      }
                    ],
                    "scattermapbox": [
                      {
                        "marker": {
                          "colorbar": {
                            "outlinewidth": 0,
                            "ticks": ""
                          }
                        },
                        "type": "scattermapbox"
                      }
                    ],
                    "scatterpolar": [
                      {
                        "marker": {
                          "colorbar": {
                            "outlinewidth": 0,
                            "ticks": ""
                          }
                        },
                        "type": "scatterpolar"
                      }
                    ],
                    "scatterpolargl": [
                      {
                        "marker": {
                          "colorbar": {
                            "outlinewidth": 0,
                            "ticks": ""
                          }
                        },
                        "type": "scatterpolargl"
                      }
                    ],
                    "scatterternary": [
                      {
                        "marker": {
                          "colorbar": {
                            "outlinewidth": 0,
                            "ticks": ""
                          }
                        },
                        "type": "scatterternary"
                      }
                    ],
                    "surface": [
                      {
                        "colorbar": {
                          "outlinewidth": 0,
                          "ticks": ""
                        },
                        "colorscale": [
                          [
                            0,
                            "#0d0887"
                          ],
                          [
                            0.1111111111111111,
                            "#46039f"
                          ],
                          [
                            0.2222222222222222,
                            "#7201a8"
                          ],
                          [
                            0.3333333333333333,
                            "#9c179e"
                          ],
                          [
                            0.4444444444444444,
                            "#bd3786"
                          ],
                          [
                            0.5555555555555556,
                            "#d8576b"
                          ],
                          [
                            0.6666666666666666,
                            "#ed7953"
                          ],
                          [
                            0.7777777777777778,
                            "#fb9f3a"
                          ],
                          [
                            0.8888888888888888,
                            "#fdca26"
                          ],
                          [
                            1,
                            "#f0f921"
                          ]
                        ],
                        "type": "surface"
                      }
                    ],
                    "table": [
                      {
                        "cells": {
                          "fill": {
                            "color": "#EBF0F8"
                          },
                          "line": {
                            "color": "white"
                          }
                        },
                        "header": {
                          "fill": {
                            "color": "#C8D4E3"
                          },
                          "line": {
                            "color": "white"
                          }
                        },
                        "type": "table"
                      }
                    ]
                  },
                  "layout": {
                    "annotationdefaults": {
                      "arrowcolor": "#2a3f5f",
                      "arrowhead": 0,
                      "arrowwidth": 1
                    },
                    "autotypenumbers": "strict",
                    "coloraxis": {
                      "colorbar": {
                        "outlinewidth": 0,
                        "ticks": ""
                      }
                    },
                    "colorscale": {
                      "diverging": [
                        [
                          0,
                          "#8e0152"
                        ],
                        [
                          0.1,
                          "#c51b7d"
                        ],
                        [
                          0.2,
                          "#de77ae"
                        ],
                        [
                          0.3,
                          "#f1b6da"
                        ],
                        [
                          0.4,
                          "#fde0ef"
                        ],
                        [
                          0.5,
                          "#f7f7f7"
                        ],
                        [
                          0.6,
                          "#e6f5d0"
                        ],
                        [
                          0.7,
                          "#b8e186"
                        ],
                        [
                          0.8,
                          "#7fbc41"
                        ],
                        [
                          0.9,
                          "#4d9221"
                        ],
                        [
                          1,
                          "#276419"
                        ]
                      ],
                      "sequential": [
                        [
                          0,
                          "#0d0887"
                        ],
                        [
                          0.1111111111111111,
                          "#46039f"
                        ],
                        [
                          0.2222222222222222,
                          "#7201a8"
                        ],
                        [
                          0.3333333333333333,
                          "#9c179e"
                        ],
                        [
                          0.4444444444444444,
                          "#bd3786"
                        ],
                        [
                          0.5555555555555556,
                          "#d8576b"
                        ],
                        [
                          0.6666666666666666,
                          "#ed7953"
                        ],
                        [
                          0.7777777777777778,
                          "#fb9f3a"
                        ],
                        [
                          0.8888888888888888,
                          "#fdca26"
                        ],
                        [
                          1,
                          "#f0f921"
                        ]
                      ],
                      "sequentialminus": [
                        [
                          0,
                          "#0d0887"
                        ],
                        [
                          0.1111111111111111,
                          "#46039f"
                        ],
                        [
                          0.2222222222222222,
                          "#7201a8"
                        ],
                        [
                          0.3333333333333333,
                          "#9c179e"
                        ],
                        [
                          0.4444444444444444,
                          "#bd3786"
                        ],
                        [
                          0.5555555555555556,
                          "#d8576b"
                        ],
                        [
                          0.6666666666666666,
                          "#ed7953"
                        ],
                        [
                          0.7777777777777778,
                          "#fb9f3a"
                        ],
                        [
                          0.8888888888888888,
                          "#fdca26"
                        ],
                        [
                          1,
                          "#f0f921"
                        ]
                      ]
                    },
                    "colorway": [
                      "#636efa",
                      "#EF553B",
                      "#00cc96",
                      "#ab63fa",
                      "#FFA15A",
                      "#19d3f3",
                      "#FF6692",
                      "#B6E880",
                      "#FF97FF",
                      "#FECB52"
                    ],
                    "font": {
                      "color": "#2a3f5f"
                    },
                    "geo": {
                      "bgcolor": "white",
                      "lakecolor": "white",
                      "landcolor": "#E5ECF6",
                      "showlakes": true,
                      "showland": true,
                      "subunitcolor": "white"
                    },
                    "hoverlabel": {
                      "align": "left"
                    },
                    "hovermode": "closest",
                    "mapbox": {
                      "style": "light"
                    },
                    "paper_bgcolor": "white",
                    "plot_bgcolor": "#E5ECF6",
                    "polar": {
                      "angularaxis": {
                        "gridcolor": "white",
                        "linecolor": "white",
                        "ticks": ""
                      },
                      "bgcolor": "#E5ECF6",
                      "radialaxis": {
                        "gridcolor": "white",
                        "linecolor": "white",
                        "ticks": ""
                      }
                    },
                    "scene": {
                      "xaxis": {
                        "backgroundcolor": "#E5ECF6",
                        "gridcolor": "white",
                        "gridwidth": 2,
                        "linecolor": "white",
                        "showbackground": true,
                        "ticks": "",
                        "zerolinecolor": "white"
                      },
                      "yaxis": {
                        "backgroundcolor": "#E5ECF6",
                        "gridcolor": "white",
                        "gridwidth": 2,
                        "linecolor": "white",
                        "showbackground": true,
                        "ticks": "",
                        "zerolinecolor": "white"
                      },
                      "zaxis": {
                        "backgroundcolor": "#E5ECF6",
                        "gridcolor": "white",
                        "gridwidth": 2,
                        "linecolor": "white",
                        "showbackground": true,
                        "ticks": "",
                        "zerolinecolor": "white"
                      }
                    },
                    "shapedefaults": {
                      "line": {
                        "color": "#2a3f5f"
                      }
                    },
                    "ternary": {
                      "aaxis": {
                        "gridcolor": "white",
                        "linecolor": "white",
                        "ticks": ""
                      },
                      "baxis": {
                        "gridcolor": "white",
                        "linecolor": "white",
                        "ticks": ""
                      },
                      "bgcolor": "#E5ECF6",
                      "caxis": {
                        "gridcolor": "white",
                        "linecolor": "white",
                        "ticks": ""
                      }
                    },
                    "title": {
                      "x": 0.05
                    },
                    "xaxis": {
                      "automargin": true,
                      "gridcolor": "white",
                      "linecolor": "white",
                      "ticks": "",
                      "title": {
                        "standoff": 15
                      },
                      "zerolinecolor": "white",
                      "zerolinewidth": 2
                    },
                    "yaxis": {
                      "automargin": true,
                      "gridcolor": "white",
                      "linecolor": "white",
                      "ticks": "",
                      "title": {
                        "standoff": 15
                      },
                      "zerolinecolor": "white",
                      "zerolinewidth": 2
                    }
                  }
                },
                "title": {
                  "text": "Contour Plot"
                },
                "xaxis": {
                  "range": [
                    4.25,
                    20.75
                  ],
                  "title": {
                    "text": "max_depth"
                  }
                },
                "yaxis": {
                  "range": [
                    42.5,
                    207.5
                  ],
                  "title": {
                    "text": "n_estimators"
                  }
                }
              }
            }
          },
          "metadata": {},
          "output_type": "display_data"
        }
      ],
      "source": [
        "# 4. Contour Plot\n",
        "plot_contour(study).show()"
      ]
    },
    {
      "cell_type": "code",
      "execution_count": 21,
      "metadata": {
        "colab": {
          "base_uri": "https://localhost:8080/",
          "height": 542
        },
        "id": "Iw7pTZf_5JPp",
        "outputId": "1a7f10c4-4c7c-4148-f108-f3acb77d8844"
      },
      "outputs": [
        {
          "data": {
            "application/vnd.plotly.v1+json": {
              "config": {
                "plotlyServerURL": "https://plot.ly"
              },
              "data": [
                {
                  "cliponaxis": false,
                  "hovertemplate": [
                    "n_estimators (IntDistribution): 0.4736964331871823<extra></extra>",
                    "max_depth (IntDistribution): 0.5263035668128178<extra></extra>"
                  ],
                  "name": "Objective Value",
                  "orientation": "h",
                  "text": [
                    "0.47",
                    "0.53"
                  ],
                  "textposition": "outside",
                  "type": "bar",
                  "x": [
                    0.4736964331871823,
                    0.5263035668128178
                  ],
                  "y": [
                    "n_estimators",
                    "max_depth"
                  ]
                }
              ],
              "layout": {
                "template": {
                  "data": {
                    "bar": [
                      {
                        "error_x": {
                          "color": "#2a3f5f"
                        },
                        "error_y": {
                          "color": "#2a3f5f"
                        },
                        "marker": {
                          "line": {
                            "color": "#E5ECF6",
                            "width": 0.5
                          },
                          "pattern": {
                            "fillmode": "overlay",
                            "size": 10,
                            "solidity": 0.2
                          }
                        },
                        "type": "bar"
                      }
                    ],
                    "barpolar": [
                      {
                        "marker": {
                          "line": {
                            "color": "#E5ECF6",
                            "width": 0.5
                          },
                          "pattern": {
                            "fillmode": "overlay",
                            "size": 10,
                            "solidity": 0.2
                          }
                        },
                        "type": "barpolar"
                      }
                    ],
                    "carpet": [
                      {
                        "aaxis": {
                          "endlinecolor": "#2a3f5f",
                          "gridcolor": "white",
                          "linecolor": "white",
                          "minorgridcolor": "white",
                          "startlinecolor": "#2a3f5f"
                        },
                        "baxis": {
                          "endlinecolor": "#2a3f5f",
                          "gridcolor": "white",
                          "linecolor": "white",
                          "minorgridcolor": "white",
                          "startlinecolor": "#2a3f5f"
                        },
                        "type": "carpet"
                      }
                    ],
                    "choropleth": [
                      {
                        "colorbar": {
                          "outlinewidth": 0,
                          "ticks": ""
                        },
                        "type": "choropleth"
                      }
                    ],
                    "contour": [
                      {
                        "colorbar": {
                          "outlinewidth": 0,
                          "ticks": ""
                        },
                        "colorscale": [
                          [
                            0,
                            "#0d0887"
                          ],
                          [
                            0.1111111111111111,
                            "#46039f"
                          ],
                          [
                            0.2222222222222222,
                            "#7201a8"
                          ],
                          [
                            0.3333333333333333,
                            "#9c179e"
                          ],
                          [
                            0.4444444444444444,
                            "#bd3786"
                          ],
                          [
                            0.5555555555555556,
                            "#d8576b"
                          ],
                          [
                            0.6666666666666666,
                            "#ed7953"
                          ],
                          [
                            0.7777777777777778,
                            "#fb9f3a"
                          ],
                          [
                            0.8888888888888888,
                            "#fdca26"
                          ],
                          [
                            1,
                            "#f0f921"
                          ]
                        ],
                        "type": "contour"
                      }
                    ],
                    "contourcarpet": [
                      {
                        "colorbar": {
                          "outlinewidth": 0,
                          "ticks": ""
                        },
                        "type": "contourcarpet"
                      }
                    ],
                    "heatmap": [
                      {
                        "colorbar": {
                          "outlinewidth": 0,
                          "ticks": ""
                        },
                        "colorscale": [
                          [
                            0,
                            "#0d0887"
                          ],
                          [
                            0.1111111111111111,
                            "#46039f"
                          ],
                          [
                            0.2222222222222222,
                            "#7201a8"
                          ],
                          [
                            0.3333333333333333,
                            "#9c179e"
                          ],
                          [
                            0.4444444444444444,
                            "#bd3786"
                          ],
                          [
                            0.5555555555555556,
                            "#d8576b"
                          ],
                          [
                            0.6666666666666666,
                            "#ed7953"
                          ],
                          [
                            0.7777777777777778,
                            "#fb9f3a"
                          ],
                          [
                            0.8888888888888888,
                            "#fdca26"
                          ],
                          [
                            1,
                            "#f0f921"
                          ]
                        ],
                        "type": "heatmap"
                      }
                    ],
                    "heatmapgl": [
                      {
                        "colorbar": {
                          "outlinewidth": 0,
                          "ticks": ""
                        },
                        "colorscale": [
                          [
                            0,
                            "#0d0887"
                          ],
                          [
                            0.1111111111111111,
                            "#46039f"
                          ],
                          [
                            0.2222222222222222,
                            "#7201a8"
                          ],
                          [
                            0.3333333333333333,
                            "#9c179e"
                          ],
                          [
                            0.4444444444444444,
                            "#bd3786"
                          ],
                          [
                            0.5555555555555556,
                            "#d8576b"
                          ],
                          [
                            0.6666666666666666,
                            "#ed7953"
                          ],
                          [
                            0.7777777777777778,
                            "#fb9f3a"
                          ],
                          [
                            0.8888888888888888,
                            "#fdca26"
                          ],
                          [
                            1,
                            "#f0f921"
                          ]
                        ],
                        "type": "heatmapgl"
                      }
                    ],
                    "histogram": [
                      {
                        "marker": {
                          "pattern": {
                            "fillmode": "overlay",
                            "size": 10,
                            "solidity": 0.2
                          }
                        },
                        "type": "histogram"
                      }
                    ],
                    "histogram2d": [
                      {
                        "colorbar": {
                          "outlinewidth": 0,
                          "ticks": ""
                        },
                        "colorscale": [
                          [
                            0,
                            "#0d0887"
                          ],
                          [
                            0.1111111111111111,
                            "#46039f"
                          ],
                          [
                            0.2222222222222222,
                            "#7201a8"
                          ],
                          [
                            0.3333333333333333,
                            "#9c179e"
                          ],
                          [
                            0.4444444444444444,
                            "#bd3786"
                          ],
                          [
                            0.5555555555555556,
                            "#d8576b"
                          ],
                          [
                            0.6666666666666666,
                            "#ed7953"
                          ],
                          [
                            0.7777777777777778,
                            "#fb9f3a"
                          ],
                          [
                            0.8888888888888888,
                            "#fdca26"
                          ],
                          [
                            1,
                            "#f0f921"
                          ]
                        ],
                        "type": "histogram2d"
                      }
                    ],
                    "histogram2dcontour": [
                      {
                        "colorbar": {
                          "outlinewidth": 0,
                          "ticks": ""
                        },
                        "colorscale": [
                          [
                            0,
                            "#0d0887"
                          ],
                          [
                            0.1111111111111111,
                            "#46039f"
                          ],
                          [
                            0.2222222222222222,
                            "#7201a8"
                          ],
                          [
                            0.3333333333333333,
                            "#9c179e"
                          ],
                          [
                            0.4444444444444444,
                            "#bd3786"
                          ],
                          [
                            0.5555555555555556,
                            "#d8576b"
                          ],
                          [
                            0.6666666666666666,
                            "#ed7953"
                          ],
                          [
                            0.7777777777777778,
                            "#fb9f3a"
                          ],
                          [
                            0.8888888888888888,
                            "#fdca26"
                          ],
                          [
                            1,
                            "#f0f921"
                          ]
                        ],
                        "type": "histogram2dcontour"
                      }
                    ],
                    "mesh3d": [
                      {
                        "colorbar": {
                          "outlinewidth": 0,
                          "ticks": ""
                        },
                        "type": "mesh3d"
                      }
                    ],
                    "parcoords": [
                      {
                        "line": {
                          "colorbar": {
                            "outlinewidth": 0,
                            "ticks": ""
                          }
                        },
                        "type": "parcoords"
                      }
                    ],
                    "pie": [
                      {
                        "automargin": true,
                        "type": "pie"
                      }
                    ],
                    "scatter": [
                      {
                        "fillpattern": {
                          "fillmode": "overlay",
                          "size": 10,
                          "solidity": 0.2
                        },
                        "type": "scatter"
                      }
                    ],
                    "scatter3d": [
                      {
                        "line": {
                          "colorbar": {
                            "outlinewidth": 0,
                            "ticks": ""
                          }
                        },
                        "marker": {
                          "colorbar": {
                            "outlinewidth": 0,
                            "ticks": ""
                          }
                        },
                        "type": "scatter3d"
                      }
                    ],
                    "scattercarpet": [
                      {
                        "marker": {
                          "colorbar": {
                            "outlinewidth": 0,
                            "ticks": ""
                          }
                        },
                        "type": "scattercarpet"
                      }
                    ],
                    "scattergeo": [
                      {
                        "marker": {
                          "colorbar": {
                            "outlinewidth": 0,
                            "ticks": ""
                          }
                        },
                        "type": "scattergeo"
                      }
                    ],
                    "scattergl": [
                      {
                        "marker": {
                          "colorbar": {
                            "outlinewidth": 0,
                            "ticks": ""
                          }
                        },
                        "type": "scattergl"
                      }
                    ],
                    "scattermapbox": [
                      {
                        "marker": {
                          "colorbar": {
                            "outlinewidth": 0,
                            "ticks": ""
                          }
                        },
                        "type": "scattermapbox"
                      }
                    ],
                    "scatterpolar": [
                      {
                        "marker": {
                          "colorbar": {
                            "outlinewidth": 0,
                            "ticks": ""
                          }
                        },
                        "type": "scatterpolar"
                      }
                    ],
                    "scatterpolargl": [
                      {
                        "marker": {
                          "colorbar": {
                            "outlinewidth": 0,
                            "ticks": ""
                          }
                        },
                        "type": "scatterpolargl"
                      }
                    ],
                    "scatterternary": [
                      {
                        "marker": {
                          "colorbar": {
                            "outlinewidth": 0,
                            "ticks": ""
                          }
                        },
                        "type": "scatterternary"
                      }
                    ],
                    "surface": [
                      {
                        "colorbar": {
                          "outlinewidth": 0,
                          "ticks": ""
                        },
                        "colorscale": [
                          [
                            0,
                            "#0d0887"
                          ],
                          [
                            0.1111111111111111,
                            "#46039f"
                          ],
                          [
                            0.2222222222222222,
                            "#7201a8"
                          ],
                          [
                            0.3333333333333333,
                            "#9c179e"
                          ],
                          [
                            0.4444444444444444,
                            "#bd3786"
                          ],
                          [
                            0.5555555555555556,
                            "#d8576b"
                          ],
                          [
                            0.6666666666666666,
                            "#ed7953"
                          ],
                          [
                            0.7777777777777778,
                            "#fb9f3a"
                          ],
                          [
                            0.8888888888888888,
                            "#fdca26"
                          ],
                          [
                            1,
                            "#f0f921"
                          ]
                        ],
                        "type": "surface"
                      }
                    ],
                    "table": [
                      {
                        "cells": {
                          "fill": {
                            "color": "#EBF0F8"
                          },
                          "line": {
                            "color": "white"
                          }
                        },
                        "header": {
                          "fill": {
                            "color": "#C8D4E3"
                          },
                          "line": {
                            "color": "white"
                          }
                        },
                        "type": "table"
                      }
                    ]
                  },
                  "layout": {
                    "annotationdefaults": {
                      "arrowcolor": "#2a3f5f",
                      "arrowhead": 0,
                      "arrowwidth": 1
                    },
                    "autotypenumbers": "strict",
                    "coloraxis": {
                      "colorbar": {
                        "outlinewidth": 0,
                        "ticks": ""
                      }
                    },
                    "colorscale": {
                      "diverging": [
                        [
                          0,
                          "#8e0152"
                        ],
                        [
                          0.1,
                          "#c51b7d"
                        ],
                        [
                          0.2,
                          "#de77ae"
                        ],
                        [
                          0.3,
                          "#f1b6da"
                        ],
                        [
                          0.4,
                          "#fde0ef"
                        ],
                        [
                          0.5,
                          "#f7f7f7"
                        ],
                        [
                          0.6,
                          "#e6f5d0"
                        ],
                        [
                          0.7,
                          "#b8e186"
                        ],
                        [
                          0.8,
                          "#7fbc41"
                        ],
                        [
                          0.9,
                          "#4d9221"
                        ],
                        [
                          1,
                          "#276419"
                        ]
                      ],
                      "sequential": [
                        [
                          0,
                          "#0d0887"
                        ],
                        [
                          0.1111111111111111,
                          "#46039f"
                        ],
                        [
                          0.2222222222222222,
                          "#7201a8"
                        ],
                        [
                          0.3333333333333333,
                          "#9c179e"
                        ],
                        [
                          0.4444444444444444,
                          "#bd3786"
                        ],
                        [
                          0.5555555555555556,
                          "#d8576b"
                        ],
                        [
                          0.6666666666666666,
                          "#ed7953"
                        ],
                        [
                          0.7777777777777778,
                          "#fb9f3a"
                        ],
                        [
                          0.8888888888888888,
                          "#fdca26"
                        ],
                        [
                          1,
                          "#f0f921"
                        ]
                      ],
                      "sequentialminus": [
                        [
                          0,
                          "#0d0887"
                        ],
                        [
                          0.1111111111111111,
                          "#46039f"
                        ],
                        [
                          0.2222222222222222,
                          "#7201a8"
                        ],
                        [
                          0.3333333333333333,
                          "#9c179e"
                        ],
                        [
                          0.4444444444444444,
                          "#bd3786"
                        ],
                        [
                          0.5555555555555556,
                          "#d8576b"
                        ],
                        [
                          0.6666666666666666,
                          "#ed7953"
                        ],
                        [
                          0.7777777777777778,
                          "#fb9f3a"
                        ],
                        [
                          0.8888888888888888,
                          "#fdca26"
                        ],
                        [
                          1,
                          "#f0f921"
                        ]
                      ]
                    },
                    "colorway": [
                      "#636efa",
                      "#EF553B",
                      "#00cc96",
                      "#ab63fa",
                      "#FFA15A",
                      "#19d3f3",
                      "#FF6692",
                      "#B6E880",
                      "#FF97FF",
                      "#FECB52"
                    ],
                    "font": {
                      "color": "#2a3f5f"
                    },
                    "geo": {
                      "bgcolor": "white",
                      "lakecolor": "white",
                      "landcolor": "#E5ECF6",
                      "showlakes": true,
                      "showland": true,
                      "subunitcolor": "white"
                    },
                    "hoverlabel": {
                      "align": "left"
                    },
                    "hovermode": "closest",
                    "mapbox": {
                      "style": "light"
                    },
                    "paper_bgcolor": "white",
                    "plot_bgcolor": "#E5ECF6",
                    "polar": {
                      "angularaxis": {
                        "gridcolor": "white",
                        "linecolor": "white",
                        "ticks": ""
                      },
                      "bgcolor": "#E5ECF6",
                      "radialaxis": {
                        "gridcolor": "white",
                        "linecolor": "white",
                        "ticks": ""
                      }
                    },
                    "scene": {
                      "xaxis": {
                        "backgroundcolor": "#E5ECF6",
                        "gridcolor": "white",
                        "gridwidth": 2,
                        "linecolor": "white",
                        "showbackground": true,
                        "ticks": "",
                        "zerolinecolor": "white"
                      },
                      "yaxis": {
                        "backgroundcolor": "#E5ECF6",
                        "gridcolor": "white",
                        "gridwidth": 2,
                        "linecolor": "white",
                        "showbackground": true,
                        "ticks": "",
                        "zerolinecolor": "white"
                      },
                      "zaxis": {
                        "backgroundcolor": "#E5ECF6",
                        "gridcolor": "white",
                        "gridwidth": 2,
                        "linecolor": "white",
                        "showbackground": true,
                        "ticks": "",
                        "zerolinecolor": "white"
                      }
                    },
                    "shapedefaults": {
                      "line": {
                        "color": "#2a3f5f"
                      }
                    },
                    "ternary": {
                      "aaxis": {
                        "gridcolor": "white",
                        "linecolor": "white",
                        "ticks": ""
                      },
                      "baxis": {
                        "gridcolor": "white",
                        "linecolor": "white",
                        "ticks": ""
                      },
                      "bgcolor": "#E5ECF6",
                      "caxis": {
                        "gridcolor": "white",
                        "linecolor": "white",
                        "ticks": ""
                      }
                    },
                    "title": {
                      "x": 0.05
                    },
                    "xaxis": {
                      "automargin": true,
                      "gridcolor": "white",
                      "linecolor": "white",
                      "ticks": "",
                      "title": {
                        "standoff": 15
                      },
                      "zerolinecolor": "white",
                      "zerolinewidth": 2
                    },
                    "yaxis": {
                      "automargin": true,
                      "gridcolor": "white",
                      "linecolor": "white",
                      "ticks": "",
                      "title": {
                        "standoff": 15
                      },
                      "zerolinecolor": "white",
                      "zerolinewidth": 2
                    }
                  }
                },
                "title": {
                  "text": "Hyperparameter Importances"
                },
                "xaxis": {
                  "title": {
                    "text": "Hyperparameter Importance"
                  }
                },
                "yaxis": {
                  "title": {
                    "text": "Hyperparameter"
                  }
                }
              }
            }
          },
          "metadata": {},
          "output_type": "display_data"
        }
      ],
      "source": [
        "# 5. Hyperparameter Importance\n",
        "plot_param_importances(study).show()"
      ]
    },
    {
      "cell_type": "markdown",
      "metadata": {
        "id": "m-zjVci7BYvh"
      },
      "source": [
        "## Optimizing Multiple ML Models"
      ]
    },
    {
      "cell_type": "code",
      "execution_count": 22,
      "metadata": {
        "id": "HJ81Ws4uBrD3"
      },
      "outputs": [],
      "source": [
        "# Importing the required libraries\n",
        "from sklearn.ensemble import RandomForestClassifier, GradientBoostingClassifier\n",
        "from sklearn.svm import SVC"
      ]
    },
    {
      "cell_type": "code",
      "execution_count": 23,
      "metadata": {
        "id": "bbHIIH8s5O8Z"
      },
      "outputs": [],
      "source": [
        "# Define the objective function for Optuna\n",
        "def objective(trial):\n",
        "    # Choose the algorithm to tune\n",
        "    classifier_name = trial.suggest_categorical('classifier', ['SVM', 'RandomForest', 'GradientBoosting'])\n",
        "\n",
        "    if classifier_name == 'SVM':\n",
        "        # SVM hyperparameters\n",
        "        c = trial.suggest_float('C', 0.1, 100, log=True)\n",
        "        kernel = trial.suggest_categorical('kernel', ['linear', 'rbf', 'poly', 'sigmoid'])\n",
        "        gamma = trial.suggest_categorical('gamma', ['scale', 'auto'])\n",
        "\n",
        "        model = SVC(C=c, kernel=kernel, gamma=gamma, random_state=42)\n",
        "\n",
        "    elif classifier_name == 'RandomForest':\n",
        "        # Random Forest hyperparameters\n",
        "        n_estimators = trial.suggest_int('n_estimators', 50, 300)\n",
        "        max_depth = trial.suggest_int('max_depth', 3, 20)\n",
        "        min_samples_split = trial.suggest_int('min_samples_split', 2, 10)\n",
        "        min_samples_leaf = trial.suggest_int('min_samples_leaf', 1, 10)\n",
        "        bootstrap = trial.suggest_categorical('bootstrap', [True, False])\n",
        "\n",
        "        model = RandomForestClassifier(\n",
        "            n_estimators=n_estimators,\n",
        "            max_depth=max_depth,\n",
        "            min_samples_split=min_samples_split,\n",
        "            min_samples_leaf=min_samples_leaf,\n",
        "            bootstrap=bootstrap,\n",
        "            random_state=42\n",
        "        )\n",
        "\n",
        "    elif classifier_name == 'GradientBoosting':\n",
        "        # Gradient Boosting hyperparameters\n",
        "        n_estimators = trial.suggest_int('n_estimators', 50, 300)\n",
        "        learning_rate = trial.suggest_float('learning_rate', 0.01, 0.3, log=True)\n",
        "        max_depth = trial.suggest_int('max_depth', 3, 20)\n",
        "        min_samples_split = trial.suggest_int('min_samples_split', 2, 10)\n",
        "        min_samples_leaf = trial.suggest_int('min_samples_leaf', 1, 10)\n",
        "\n",
        "        model = GradientBoostingClassifier(\n",
        "            n_estimators=n_estimators,\n",
        "            learning_rate=learning_rate,\n",
        "            max_depth=max_depth,\n",
        "            min_samples_split=min_samples_split,\n",
        "            min_samples_leaf=min_samples_leaf,\n",
        "            random_state=42\n",
        "        )\n",
        "\n",
        "    # Perform cross-validation and return the mean accuracy\n",
        "    score = cross_val_score(model, X_train, y_train, cv=3, scoring='accuracy').mean()\n",
        "    return score"
      ]
    },
    {
      "cell_type": "code",
      "execution_count": 24,
      "metadata": {
        "colab": {
          "base_uri": "https://localhost:8080/"
        },
        "id": "lP_GVCWxBf60",
        "outputId": "8d93f5e2-d8b9-44a0-fcf6-61dd2e3de7b6"
      },
      "outputs": [
        {
          "name": "stderr",
          "output_type": "stream",
          "text": [
            "[I 2025-09-14 11:36:42,069] A new study created in memory with name: no-name-18536ff7-c775-42b5-aac0-090940d54a4d\n"
          ]
        },
        {
          "name": "stderr",
          "output_type": "stream",
          "text": [
            "[I 2025-09-14 11:36:43,750] Trial 0 finished with value: 0.7746741154562384 and parameters: {'classifier': 'RandomForest', 'n_estimators': 132, 'max_depth': 8, 'min_samples_split': 2, 'min_samples_leaf': 8, 'bootstrap': False}. Best is trial 0 with value: 0.7746741154562384.\n",
            "[I 2025-09-14 11:36:47,912] Trial 1 finished with value: 0.7672253258845437 and parameters: {'classifier': 'RandomForest', 'n_estimators': 268, 'max_depth': 20, 'min_samples_split': 7, 'min_samples_leaf': 2, 'bootstrap': True}. Best is trial 0 with value: 0.7746741154562384.\n",
            "[I 2025-09-14 11:36:48,534] Trial 2 finished with value: 0.7858472998137801 and parameters: {'classifier': 'SVM', 'C': 78.63098109599632, 'kernel': 'linear', 'gamma': 'scale'}. Best is trial 2 with value: 0.7858472998137801.\n",
            "[I 2025-09-14 11:36:51,789] Trial 3 finished with value: 0.7672253258845437 and parameters: {'classifier': 'RandomForest', 'n_estimators': 224, 'max_depth': 6, 'min_samples_split': 3, 'min_samples_leaf': 4, 'bootstrap': False}. Best is trial 2 with value: 0.7858472998137801.\n",
            "[I 2025-09-14 11:36:52,122] Trial 4 finished with value: 0.7858472998137801 and parameters: {'classifier': 'SVM', 'C': 27.046378743712825, 'kernel': 'linear', 'gamma': 'scale'}. Best is trial 2 with value: 0.7858472998137801.\n",
            "[I 2025-09-14 11:36:58,195] Trial 5 finished with value: 0.7672253258845437 and parameters: {'classifier': 'GradientBoosting', 'n_estimators': 175, 'learning_rate': 0.018758091413041914, 'max_depth': 5, 'min_samples_split': 5, 'min_samples_leaf': 6}. Best is trial 2 with value: 0.7858472998137801.\n",
            "[I 2025-09-14 11:37:01,016] Trial 6 finished with value: 0.7653631284916201 and parameters: {'classifier': 'GradientBoosting', 'n_estimators': 132, 'learning_rate': 0.020601830388833644, 'max_depth': 3, 'min_samples_split': 5, 'min_samples_leaf': 6}. Best is trial 2 with value: 0.7858472998137801.\n",
            "[I 2025-09-14 11:37:08,902] Trial 7 finished with value: 0.7486033519553073 and parameters: {'classifier': 'GradientBoosting', 'n_estimators': 106, 'learning_rate': 0.1462241976508853, 'max_depth': 11, 'min_samples_split': 7, 'min_samples_leaf': 3}. Best is trial 2 with value: 0.7858472998137801.\n",
            "[I 2025-09-14 11:37:09,026] Trial 8 finished with value: 0.7486033519553073 and parameters: {'classifier': 'SVM', 'C': 1.0375610659730063, 'kernel': 'sigmoid', 'gamma': 'auto'}. Best is trial 2 with value: 0.7858472998137801.\n",
            "[I 2025-09-14 11:37:09,576] Trial 9 finished with value: 0.6722532588454376 and parameters: {'classifier': 'SVM', 'C': 90.12649541611891, 'kernel': 'poly', 'gamma': 'auto'}. Best is trial 2 with value: 0.7858472998137801.\n",
            "[I 2025-09-14 11:37:09,685] Trial 10 finished with value: 0.7895716945996275 and parameters: {'classifier': 'SVM', 'C': 0.13814238011145433, 'kernel': 'linear', 'gamma': 'scale'}. Best is trial 10 with value: 0.7895716945996275.\n",
            "[I 2025-09-14 11:37:09,792] Trial 11 finished with value: 0.7877094972067038 and parameters: {'classifier': 'SVM', 'C': 0.10124879351316367, 'kernel': 'linear', 'gamma': 'scale'}. Best is trial 10 with value: 0.7895716945996275.\n",
            "[I 2025-09-14 11:37:09,912] Trial 12 finished with value: 0.7858472998137803 and parameters: {'classifier': 'SVM', 'C': 0.26223611929441826, 'kernel': 'linear', 'gamma': 'scale'}. Best is trial 10 with value: 0.7895716945996275.\n",
            "[I 2025-09-14 11:37:10,080] Trial 13 finished with value: 0.7094972067039106 and parameters: {'classifier': 'SVM', 'C': 0.10083101774593856, 'kernel': 'rbf', 'gamma': 'scale'}. Best is trial 10 with value: 0.7895716945996275.\n",
            "[I 2025-09-14 11:37:10,233] Trial 14 finished with value: 0.7858472998137803 and parameters: {'classifier': 'SVM', 'C': 0.8254519582912531, 'kernel': 'linear', 'gamma': 'scale'}. Best is trial 10 with value: 0.7895716945996275.\n",
            "[I 2025-09-14 11:37:10,363] Trial 15 finished with value: 0.7877094972067038 and parameters: {'classifier': 'SVM', 'C': 0.15538571742491752, 'kernel': 'linear', 'gamma': 'scale'}. Best is trial 10 with value: 0.7895716945996275.\n",
            "[I 2025-09-14 11:37:10,532] Trial 16 finished with value: 0.7597765363128491 and parameters: {'classifier': 'SVM', 'C': 6.076465690383903, 'kernel': 'rbf', 'gamma': 'scale'}. Best is trial 10 with value: 0.7895716945996275.\n",
            "[I 2025-09-14 11:37:10,646] Trial 17 finished with value: 0.7411545623836128 and parameters: {'classifier': 'SVM', 'C': 0.5280375171652398, 'kernel': 'poly', 'gamma': 'auto'}. Best is trial 10 with value: 0.7895716945996275.\n",
            "[I 2025-09-14 11:37:12,977] Trial 18 finished with value: 0.7355679702048418 and parameters: {'classifier': 'GradientBoosting', 'n_estimators': 67, 'learning_rate': 0.28992736995615465, 'max_depth': 20, 'min_samples_split': 10, 'min_samples_leaf': 9}. Best is trial 10 with value: 0.7895716945996275.\n",
            "[I 2025-09-14 11:37:18,475] Trial 19 finished with value: 0.7653631284916201 and parameters: {'classifier': 'RandomForest', 'n_estimators': 298, 'max_depth': 15, 'min_samples_split': 10, 'min_samples_leaf': 1, 'bootstrap': True}. Best is trial 10 with value: 0.7895716945996275.\n",
            "[I 2025-09-14 11:37:18,531] Trial 20 finished with value: 0.7225325884543761 and parameters: {'classifier': 'SVM', 'C': 2.370811533436759, 'kernel': 'sigmoid', 'gamma': 'scale'}. Best is trial 10 with value: 0.7895716945996275.\n",
            "[I 2025-09-14 11:37:18,615] Trial 21 finished with value: 0.7877094972067038 and parameters: {'classifier': 'SVM', 'C': 0.10207383701502655, 'kernel': 'linear', 'gamma': 'scale'}. Best is trial 10 with value: 0.7895716945996275.\n",
            "[I 2025-09-14 11:37:18,700] Trial 22 finished with value: 0.7858472998137803 and parameters: {'classifier': 'SVM', 'C': 0.2675023432703697, 'kernel': 'linear', 'gamma': 'scale'}. Best is trial 10 with value: 0.7895716945996275.\n",
            "[I 2025-09-14 11:37:18,794] Trial 23 finished with value: 0.7858472998137803 and parameters: {'classifier': 'SVM', 'C': 0.20448013437451376, 'kernel': 'linear', 'gamma': 'scale'}. Best is trial 10 with value: 0.7895716945996275.\n",
            "[I 2025-09-14 11:37:18,879] Trial 24 finished with value: 0.7877094972067038 and parameters: {'classifier': 'SVM', 'C': 0.10214696723486645, 'kernel': 'linear', 'gamma': 'scale'}. Best is trial 10 with value: 0.7895716945996275.\n",
            "[I 2025-09-14 11:37:18,974] Trial 25 finished with value: 0.7839851024208566 and parameters: {'classifier': 'SVM', 'C': 0.45367886886354675, 'kernel': 'linear', 'gamma': 'scale'}. Best is trial 10 with value: 0.7895716945996275.\n",
            "[I 2025-09-14 11:37:19,065] Trial 26 finished with value: 0.7858472998137801 and parameters: {'classifier': 'SVM', 'C': 2.0567905041209116, 'kernel': 'linear', 'gamma': 'auto'}. Best is trial 10 with value: 0.7895716945996275.\n",
            "[I 2025-09-14 11:37:19,198] Trial 27 finished with value: 0.7653631284916201 and parameters: {'classifier': 'SVM', 'C': 0.22728471191510735, 'kernel': 'sigmoid', 'gamma': 'scale'}. Best is trial 10 with value: 0.7895716945996275.\n",
            "[I 2025-09-14 11:37:21,435] Trial 28 finished with value: 0.7541899441340782 and parameters: {'classifier': 'GradientBoosting', 'n_estimators': 51, 'learning_rate': 0.0717570193312462, 'max_depth': 15, 'min_samples_split': 8, 'min_samples_leaf': 10}. Best is trial 10 with value: 0.7895716945996275.\n",
            "[I 2025-09-14 11:37:24,147] Trial 29 finished with value: 0.7690875232774674 and parameters: {'classifier': 'RandomForest', 'n_estimators': 203, 'max_depth': 15, 'min_samples_split': 4, 'min_samples_leaf': 7, 'bootstrap': False}. Best is trial 10 with value: 0.7895716945996275.\n",
            "[I 2025-09-14 11:37:27,435] Trial 30 finished with value: 0.7597765363128491 and parameters: {'classifier': 'RandomForest', 'n_estimators': 243, 'max_depth': 12, 'min_samples_split': 9, 'min_samples_leaf': 4, 'bootstrap': True}. Best is trial 10 with value: 0.7895716945996275.\n",
            "[I 2025-09-14 11:37:27,500] Trial 31 finished with value: 0.7877094972067038 and parameters: {'classifier': 'SVM', 'C': 0.10077835063941058, 'kernel': 'linear', 'gamma': 'scale'}. Best is trial 10 with value: 0.7895716945996275.\n",
            "[I 2025-09-14 11:37:27,565] Trial 32 finished with value: 0.7877094972067038 and parameters: {'classifier': 'SVM', 'C': 0.16241595342481993, 'kernel': 'linear', 'gamma': 'scale'}. Best is trial 10 with value: 0.7895716945996275.\n",
            "[I 2025-09-14 11:37:27,629] Trial 33 finished with value: 0.7821229050279329 and parameters: {'classifier': 'SVM', 'C': 0.37047614761664405, 'kernel': 'linear', 'gamma': 'scale'}. Best is trial 10 with value: 0.7895716945996275.\n",
            "[I 2025-09-14 11:37:27,690] Trial 34 finished with value: 0.7858472998137803 and parameters: {'classifier': 'SVM', 'C': 0.1880833581677554, 'kernel': 'linear', 'gamma': 'scale'}. Best is trial 10 with value: 0.7895716945996275.\n",
            "[I 2025-09-14 11:37:29,874] Trial 35 finished with value: 0.7597765363128491 and parameters: {'classifier': 'RandomForest', 'n_estimators': 177, 'max_depth': 10, 'min_samples_split': 2, 'min_samples_leaf': 10, 'bootstrap': True}. Best is trial 10 with value: 0.7895716945996275.\n",
            "[I 2025-09-14 11:37:30,040] Trial 36 finished with value: 0.7225325884543762 and parameters: {'classifier': 'SVM', 'C': 5.80363417388097, 'kernel': 'poly', 'gamma': 'scale'}. Best is trial 10 with value: 0.7895716945996275.\n",
            "[I 2025-09-14 11:37:30,274] Trial 37 finished with value: 0.750465549348231 and parameters: {'classifier': 'SVM', 'C': 0.14718507758915053, 'kernel': 'rbf', 'gamma': 'scale'}. Best is trial 10 with value: 0.7895716945996275.\n",
            "[I 2025-09-14 11:37:36,389] Trial 38 finished with value: 0.7039106145251397 and parameters: {'classifier': 'GradientBoosting', 'n_estimators': 91, 'learning_rate': 0.010283915647107598, 'max_depth': 17, 'min_samples_split': 6, 'min_samples_leaf': 1}. Best is trial 10 with value: 0.7895716945996275.\n",
            "[I 2025-09-14 11:37:36,496] Trial 39 finished with value: 0.7858472998137803 and parameters: {'classifier': 'SVM', 'C': 0.6428647486235656, 'kernel': 'linear', 'gamma': 'scale'}. Best is trial 10 with value: 0.7895716945996275.\n",
            "[I 2025-09-14 11:37:36,614] Trial 40 finished with value: 0.7839851024208566 and parameters: {'classifier': 'SVM', 'C': 1.2614980399355777, 'kernel': 'linear', 'gamma': 'auto'}. Best is trial 10 with value: 0.7895716945996275.\n",
            "[I 2025-09-14 11:37:36,727] Trial 41 finished with value: 0.7877094972067038 and parameters: {'classifier': 'SVM', 'C': 0.10035549964041698, 'kernel': 'linear', 'gamma': 'scale'}. Best is trial 10 with value: 0.7895716945996275.\n",
            "[I 2025-09-14 11:37:36,842] Trial 42 finished with value: 0.7895716945996275 and parameters: {'classifier': 'SVM', 'C': 0.14129045553427141, 'kernel': 'linear', 'gamma': 'scale'}. Best is trial 10 with value: 0.7895716945996275.\n",
            "[I 2025-09-14 11:37:36,946] Trial 43 finished with value: 0.7858472998137803 and parameters: {'classifier': 'SVM', 'C': 0.2907413800504683, 'kernel': 'linear', 'gamma': 'scale'}. Best is trial 10 with value: 0.7895716945996275.\n",
            "[I 2025-09-14 11:37:37,046] Trial 44 finished with value: 0.7877094972067038 and parameters: {'classifier': 'SVM', 'C': 0.15849921704425904, 'kernel': 'linear', 'gamma': 'scale'}. Best is trial 10 with value: 0.7895716945996275.\n",
            "[I 2025-09-14 11:37:37,144] Trial 45 finished with value: 0.7895716945996275 and parameters: {'classifier': 'SVM', 'C': 0.15233428221110928, 'kernel': 'linear', 'gamma': 'scale'}. Best is trial 10 with value: 0.7895716945996275.\n",
            "[I 2025-09-14 11:37:40,563] Trial 46 finished with value: 0.7728119180633147 and parameters: {'classifier': 'GradientBoosting', 'n_estimators': 295, 'learning_rate': 0.05822794052328486, 'max_depth': 3, 'min_samples_split': 4, 'min_samples_leaf': 5}. Best is trial 10 with value: 0.7895716945996275.\n",
            "[I 2025-09-14 11:37:40,633] Trial 47 finished with value: 0.7821229050279329 and parameters: {'classifier': 'SVM', 'C': 0.36765458678602364, 'kernel': 'linear', 'gamma': 'scale'}. Best is trial 10 with value: 0.7895716945996275.\n",
            "[I 2025-09-14 11:37:42,453] Trial 48 finished with value: 0.7783985102420856 and parameters: {'classifier': 'RandomForest', 'n_estimators': 169, 'max_depth': 8, 'min_samples_split': 8, 'min_samples_leaf': 8, 'bootstrap': False}. Best is trial 10 with value: 0.7895716945996275.\n",
            "[I 2025-09-14 11:37:42,566] Trial 49 finished with value: 0.7728119180633147 and parameters: {'classifier': 'SVM', 'C': 0.15956953393950382, 'kernel': 'sigmoid', 'gamma': 'scale'}. Best is trial 10 with value: 0.7895716945996275.\n",
            "[I 2025-09-14 11:37:42,787] Trial 50 finished with value: 0.7858472998137801 and parameters: {'classifier': 'SVM', 'C': 10.49425929976183, 'kernel': 'linear', 'gamma': 'auto'}. Best is trial 10 with value: 0.7895716945996275.\n",
            "[I 2025-09-14 11:37:42,859] Trial 51 finished with value: 0.7895716945996275 and parameters: {'classifier': 'SVM', 'C': 0.14613075131047765, 'kernel': 'linear', 'gamma': 'scale'}. Best is trial 10 with value: 0.7895716945996275.\n",
            "[I 2025-09-14 11:37:43,161] Trial 52 finished with value: 0.7858472998137801 and parameters: {'classifier': 'SVM', 'C': 28.625584759168238, 'kernel': 'linear', 'gamma': 'scale'}. Best is trial 10 with value: 0.7895716945996275.\n",
            "[I 2025-09-14 11:37:43,233] Trial 53 finished with value: 0.7877094972067038 and parameters: {'classifier': 'SVM', 'C': 0.15540897093820447, 'kernel': 'linear', 'gamma': 'scale'}. Best is trial 10 with value: 0.7895716945996275.\n",
            "[I 2025-09-14 11:37:43,307] Trial 54 finished with value: 0.7262569832402234 and parameters: {'classifier': 'SVM', 'C': 0.29850469168556315, 'kernel': 'poly', 'gamma': 'scale'}. Best is trial 10 with value: 0.7895716945996275.\n",
            "[I 2025-09-14 11:37:43,410] Trial 55 finished with value: 0.7523277467411545 and parameters: {'classifier': 'SVM', 'C': 0.2210690985410696, 'kernel': 'rbf', 'gamma': 'scale'}. Best is trial 10 with value: 0.7895716945996275.\n",
            "[I 2025-09-14 11:37:43,472] Trial 56 finished with value: 0.7895716945996275 and parameters: {'classifier': 'SVM', 'C': 0.13888014000653512, 'kernel': 'linear', 'gamma': 'scale'}. Best is trial 10 with value: 0.7895716945996275.\n",
            "[I 2025-09-14 11:37:43,536] Trial 57 finished with value: 0.7895716945996275 and parameters: {'classifier': 'SVM', 'C': 0.13552634360115645, 'kernel': 'linear', 'gamma': 'scale'}. Best is trial 10 with value: 0.7895716945996275.\n",
            "[I 2025-09-14 11:37:48,702] Trial 58 finished with value: 0.7467411545623835 and parameters: {'classifier': 'GradientBoosting', 'n_estimators': 139, 'learning_rate': 0.2971289605349888, 'max_depth': 18, 'min_samples_split': 6, 'min_samples_leaf': 3}. Best is trial 10 with value: 0.7895716945996275.\n",
            "[I 2025-09-14 11:37:48,770] Trial 59 finished with value: 0.7821229050279329 and parameters: {'classifier': 'SVM', 'C': 0.37429004611747463, 'kernel': 'linear', 'gamma': 'scale'}. Best is trial 10 with value: 0.7895716945996275.\n",
            "[I 2025-09-14 11:37:48,830] Trial 60 finished with value: 0.7895716945996275 and parameters: {'classifier': 'SVM', 'C': 0.1380935696049699, 'kernel': 'linear', 'gamma': 'auto'}. Best is trial 10 with value: 0.7895716945996275.\n",
            "[I 2025-09-14 11:37:48,892] Trial 61 finished with value: 0.7895716945996275 and parameters: {'classifier': 'SVM', 'C': 0.1383145736386309, 'kernel': 'linear', 'gamma': 'auto'}. Best is trial 10 with value: 0.7895716945996275.\n",
            "[I 2025-09-14 11:37:48,958] Trial 62 finished with value: 0.7858472998137803 and parameters: {'classifier': 'SVM', 'C': 0.21308882408818108, 'kernel': 'linear', 'gamma': 'auto'}. Best is trial 10 with value: 0.7895716945996275.\n",
            "[I 2025-09-14 11:37:49,020] Trial 63 finished with value: 0.7895716945996275 and parameters: {'classifier': 'SVM', 'C': 0.12308694423029368, 'kernel': 'linear', 'gamma': 'auto'}. Best is trial 10 with value: 0.7895716945996275.\n",
            "[I 2025-09-14 11:37:49,082] Trial 64 finished with value: 0.7858472998137803 and parameters: {'classifier': 'SVM', 'C': 0.27989186229328994, 'kernel': 'linear', 'gamma': 'auto'}. Best is trial 10 with value: 0.7895716945996275.\n",
            "[I 2025-09-14 11:37:49,159] Trial 65 finished with value: 0.7765363128491621 and parameters: {'classifier': 'SVM', 'C': 0.1346212360030657, 'kernel': 'sigmoid', 'gamma': 'scale'}. Best is trial 10 with value: 0.7895716945996275.\n",
            "[I 2025-09-14 11:37:49,232] Trial 66 finished with value: 0.7411545623836128 and parameters: {'classifier': 'SVM', 'C': 0.610021057266686, 'kernel': 'poly', 'gamma': 'scale'}. Best is trial 10 with value: 0.7895716945996275.\n",
            "[I 2025-09-14 11:37:51,619] Trial 67 finished with value: 0.7709497206703911 and parameters: {'classifier': 'RandomForest', 'n_estimators': 257, 'max_depth': 13, 'min_samples_split': 9, 'min_samples_leaf': 7, 'bootstrap': False}. Best is trial 10 with value: 0.7895716945996275.\n",
            "[I 2025-09-14 11:37:51,674] Trial 68 finished with value: 0.7858472998137803 and parameters: {'classifier': 'SVM', 'C': 0.19456986267300438, 'kernel': 'linear', 'gamma': 'auto'}. Best is trial 10 with value: 0.7895716945996275.\n",
            "[I 2025-09-14 11:37:51,760] Trial 69 finished with value: 0.756052141527002 and parameters: {'classifier': 'SVM', 'C': 0.24497524429224052, 'kernel': 'rbf', 'gamma': 'scale'}. Best is trial 10 with value: 0.7895716945996275.\n",
            "[I 2025-09-14 11:37:51,816] Trial 70 finished with value: 0.7895716945996275 and parameters: {'classifier': 'SVM', 'C': 0.11610860937193086, 'kernel': 'linear', 'gamma': 'scale'}. Best is trial 10 with value: 0.7895716945996275.\n",
            "[I 2025-09-14 11:37:51,878] Trial 71 finished with value: 0.7895716945996275 and parameters: {'classifier': 'SVM', 'C': 0.1399867992709359, 'kernel': 'linear', 'gamma': 'auto'}. Best is trial 10 with value: 0.7895716945996275.\n",
            "[I 2025-09-14 11:37:51,942] Trial 72 finished with value: 0.7895716945996275 and parameters: {'classifier': 'SVM', 'C': 0.12793811677909847, 'kernel': 'linear', 'gamma': 'auto'}. Best is trial 10 with value: 0.7895716945996275.\n",
            "[I 2025-09-14 11:37:52,004] Trial 73 finished with value: 0.7858472998137803 and parameters: {'classifier': 'SVM', 'C': 0.19423699831984376, 'kernel': 'linear', 'gamma': 'auto'}. Best is trial 10 with value: 0.7895716945996275.\n",
            "[I 2025-09-14 11:37:52,066] Trial 74 finished with value: 0.7895716945996275 and parameters: {'classifier': 'SVM', 'C': 0.1287146275128297, 'kernel': 'linear', 'gamma': 'auto'}. Best is trial 10 with value: 0.7895716945996275.\n",
            "[I 2025-09-14 11:37:52,131] Trial 75 finished with value: 0.7877094972067038 and parameters: {'classifier': 'SVM', 'C': 0.18616853317160656, 'kernel': 'linear', 'gamma': 'auto'}. Best is trial 10 with value: 0.7895716945996275.\n",
            "[I 2025-09-14 11:38:01,008] Trial 76 finished with value: 0.750465549348231 and parameters: {'classifier': 'GradientBoosting', 'n_estimators': 217, 'learning_rate': 0.11856236622493904, 'max_depth': 9, 'min_samples_split': 3, 'min_samples_leaf': 5}. Best is trial 10 with value: 0.7895716945996275.\n",
            "[I 2025-09-14 11:38:01,103] Trial 77 finished with value: 0.7839851024208566 and parameters: {'classifier': 'SVM', 'C': 0.34853245844634173, 'kernel': 'linear', 'gamma': 'scale'}. Best is trial 10 with value: 0.7895716945996275.\n",
            "[I 2025-09-14 11:38:01,177] Trial 78 finished with value: 0.7839851024208566 and parameters: {'classifier': 'SVM', 'C': 0.4437746822518081, 'kernel': 'linear', 'gamma': 'scale'}. Best is trial 10 with value: 0.7895716945996275.\n",
            "[I 2025-09-14 11:38:03,505] Trial 79 finished with value: 0.7597765363128491 and parameters: {'classifier': 'RandomForest', 'n_estimators': 85, 'max_depth': 5, 'min_samples_split': 5, 'min_samples_leaf': 9, 'bootstrap': True}. Best is trial 10 with value: 0.7895716945996275.\n",
            "[I 2025-09-14 11:38:03,641] Trial 80 finished with value: 0.7858472998137803 and parameters: {'classifier': 'SVM', 'C': 0.24894796042978765, 'kernel': 'linear', 'gamma': 'scale'}. Best is trial 10 with value: 0.7895716945996275.\n",
            "[I 2025-09-14 11:38:03,781] Trial 81 finished with value: 0.7895716945996275 and parameters: {'classifier': 'SVM', 'C': 0.12222361085727206, 'kernel': 'linear', 'gamma': 'auto'}. Best is trial 10 with value: 0.7895716945996275.\n",
            "[I 2025-09-14 11:38:03,915] Trial 82 finished with value: 0.7877094972067038 and parameters: {'classifier': 'SVM', 'C': 0.17301094026557395, 'kernel': 'linear', 'gamma': 'auto'}. Best is trial 10 with value: 0.7895716945996275.\n",
            "[I 2025-09-14 11:38:04,042] Trial 83 finished with value: 0.7895716945996275 and parameters: {'classifier': 'SVM', 'C': 0.1240716768672837, 'kernel': 'linear', 'gamma': 'auto'}. Best is trial 10 with value: 0.7895716945996275.\n",
            "[I 2025-09-14 11:38:04,163] Trial 84 finished with value: 0.7877094972067038 and parameters: {'classifier': 'SVM', 'C': 0.1026804703970862, 'kernel': 'linear', 'gamma': 'auto'}. Best is trial 10 with value: 0.7895716945996275.\n",
            "[I 2025-09-14 11:38:04,242] Trial 85 finished with value: 0.7877094972067038 and parameters: {'classifier': 'SVM', 'C': 0.16410943870967784, 'kernel': 'linear', 'gamma': 'auto'}. Best is trial 10 with value: 0.7895716945996275.\n",
            "[I 2025-09-14 11:38:04,337] Trial 86 finished with value: 0.7635009310986964 and parameters: {'classifier': 'SVM', 'C': 0.2254785153233343, 'kernel': 'sigmoid', 'gamma': 'scale'}. Best is trial 10 with value: 0.7895716945996275.\n",
            "[I 2025-09-14 11:38:04,419] Trial 87 finished with value: 0.7895716945996275 and parameters: {'classifier': 'SVM', 'C': 0.12976662828121882, 'kernel': 'linear', 'gamma': 'scale'}. Best is trial 10 with value: 0.7895716945996275.\n",
            "[I 2025-09-14 11:38:04,715] Trial 88 finished with value: 0.6871508379888268 and parameters: {'classifier': 'SVM', 'C': 60.00449044573859, 'kernel': 'poly', 'gamma': 'auto'}. Best is trial 10 with value: 0.7895716945996275.\n",
            "[I 2025-09-14 11:38:18,018] Trial 89 finished with value: 0.7374301675977654 and parameters: {'classifier': 'GradientBoosting', 'n_estimators': 152, 'learning_rate': 0.03040892947856818, 'max_depth': 13, 'min_samples_split': 7, 'min_samples_leaf': 2}. Best is trial 10 with value: 0.7895716945996275.\n",
            "[I 2025-09-14 11:38:18,105] Trial 90 finished with value: 0.7839851024208566 and parameters: {'classifier': 'SVM', 'C': 1.1715609399807934, 'kernel': 'linear', 'gamma': 'scale'}. Best is trial 10 with value: 0.7895716945996275.\n",
            "[I 2025-09-14 11:38:18,166] Trial 91 finished with value: 0.7895716945996275 and parameters: {'classifier': 'SVM', 'C': 0.11485800844747092, 'kernel': 'linear', 'gamma': 'scale'}. Best is trial 10 with value: 0.7895716945996275.\n",
            "[I 2025-09-14 11:38:18,221] Trial 92 finished with value: 0.7895716945996275 and parameters: {'classifier': 'SVM', 'C': 0.15199683504690606, 'kernel': 'linear', 'gamma': 'scale'}. Best is trial 10 with value: 0.7895716945996275.\n",
            "[I 2025-09-14 11:38:18,314] Trial 93 finished with value: 0.7895716945996275 and parameters: {'classifier': 'SVM', 'C': 0.11282370658285315, 'kernel': 'linear', 'gamma': 'scale'}. Best is trial 10 with value: 0.7895716945996275.\n",
            "[I 2025-09-14 11:38:18,428] Trial 94 finished with value: 0.7877094972067038 and parameters: {'classifier': 'SVM', 'C': 0.17863829126135258, 'kernel': 'linear', 'gamma': 'scale'}. Best is trial 10 with value: 0.7895716945996275.\n",
            "[I 2025-09-14 11:38:18,521] Trial 95 finished with value: 0.7094972067039106 and parameters: {'classifier': 'SVM', 'C': 0.10120462770058182, 'kernel': 'rbf', 'gamma': 'scale'}. Best is trial 10 with value: 0.7895716945996275.\n",
            "[I 2025-09-14 11:38:18,589] Trial 96 finished with value: 0.7895716945996275 and parameters: {'classifier': 'SVM', 'C': 0.1408854400877462, 'kernel': 'linear', 'gamma': 'scale'}. Best is trial 10 with value: 0.7895716945996275.\n",
            "[I 2025-09-14 11:38:18,663] Trial 97 finished with value: 0.7858472998137803 and parameters: {'classifier': 'SVM', 'C': 0.3011182763000671, 'kernel': 'linear', 'gamma': 'scale'}. Best is trial 10 with value: 0.7895716945996275.\n",
            "[I 2025-09-14 11:38:20,659] Trial 98 finished with value: 0.7709497206703911 and parameters: {'classifier': 'RandomForest', 'n_estimators': 191, 'max_depth': 17, 'min_samples_split': 9, 'min_samples_leaf': 4, 'bootstrap': False}. Best is trial 10 with value: 0.7895716945996275.\n",
            "[I 2025-09-14 11:38:20,792] Trial 99 finished with value: 0.7858472998137801 and parameters: {'classifier': 'SVM', 'C': 5.056398490234465, 'kernel': 'linear', 'gamma': 'scale'}. Best is trial 10 with value: 0.7895716945996275.\n"
          ]
        }
      ],
      "source": [
        "# Create a study and optimize it using CmaEsSampler\n",
        "study = optuna.create_study(direction='maximize')\n",
        "study.optimize(objective, n_trials=100)"
      ]
    },
    {
      "cell_type": "code",
      "execution_count": 25,
      "metadata": {
        "colab": {
          "base_uri": "https://localhost:8080/"
        },
        "id": "jLNRO9POBzbW",
        "outputId": "769a9cdf-dc13-4093-b029-875536452690"
      },
      "outputs": [
        {
          "name": "stdout",
          "output_type": "stream",
          "text": [
            "Best trial parameters: {'classifier': 'SVM', 'C': 0.13814238011145433, 'kernel': 'linear', 'gamma': 'scale'}\n",
            "Best trial accuracy: 0.7895716945996275\n"
          ]
        }
      ],
      "source": [
        "# Retrieve the best trial\n",
        "best_trial = study.best_trial\n",
        "print(\"Best trial parameters:\", best_trial.params)\n",
        "print(\"Best trial accuracy:\", best_trial.value)"
      ]
    },
    {
      "cell_type": "code",
      "execution_count": 26,
      "metadata": {
        "colab": {
          "base_uri": "https://localhost:8080/",
          "height": 617
        },
        "id": "QD74lBzvB6Q5",
        "outputId": "d9f3eb63-ce25-4c56-db57-211ac8e3c85b"
      },
      "outputs": [
        {
          "data": {
            "text/html": [
              "<div>\n",
              "<style scoped>\n",
              "    .dataframe tbody tr th:only-of-type {\n",
              "        vertical-align: middle;\n",
              "    }\n",
              "\n",
              "    .dataframe tbody tr th {\n",
              "        vertical-align: top;\n",
              "    }\n",
              "\n",
              "    .dataframe thead th {\n",
              "        text-align: right;\n",
              "    }\n",
              "</style>\n",
              "<table border=\"1\" class=\"dataframe\">\n",
              "  <thead>\n",
              "    <tr style=\"text-align: right;\">\n",
              "      <th></th>\n",
              "      <th>number</th>\n",
              "      <th>value</th>\n",
              "      <th>datetime_start</th>\n",
              "      <th>datetime_complete</th>\n",
              "      <th>duration</th>\n",
              "      <th>params_C</th>\n",
              "      <th>params_bootstrap</th>\n",
              "      <th>params_classifier</th>\n",
              "      <th>params_gamma</th>\n",
              "      <th>params_kernel</th>\n",
              "      <th>params_learning_rate</th>\n",
              "      <th>params_max_depth</th>\n",
              "      <th>params_min_samples_leaf</th>\n",
              "      <th>params_min_samples_split</th>\n",
              "      <th>params_n_estimators</th>\n",
              "      <th>state</th>\n",
              "    </tr>\n",
              "  </thead>\n",
              "  <tbody>\n",
              "    <tr>\n",
              "      <th>0</th>\n",
              "      <td>0</td>\n",
              "      <td>0.774674</td>\n",
              "      <td>2025-09-14 11:36:42.073874</td>\n",
              "      <td>2025-09-14 11:36:43.750576</td>\n",
              "      <td>0 days 00:00:01.676702</td>\n",
              "      <td>NaN</td>\n",
              "      <td>False</td>\n",
              "      <td>RandomForest</td>\n",
              "      <td>NaN</td>\n",
              "      <td>NaN</td>\n",
              "      <td>NaN</td>\n",
              "      <td>8.0</td>\n",
              "      <td>8.0</td>\n",
              "      <td>2.0</td>\n",
              "      <td>132.0</td>\n",
              "      <td>COMPLETE</td>\n",
              "    </tr>\n",
              "    <tr>\n",
              "      <th>1</th>\n",
              "      <td>1</td>\n",
              "      <td>0.767225</td>\n",
              "      <td>2025-09-14 11:36:43.752587</td>\n",
              "      <td>2025-09-14 11:36:47.912852</td>\n",
              "      <td>0 days 00:00:04.160265</td>\n",
              "      <td>NaN</td>\n",
              "      <td>True</td>\n",
              "      <td>RandomForest</td>\n",
              "      <td>NaN</td>\n",
              "      <td>NaN</td>\n",
              "      <td>NaN</td>\n",
              "      <td>20.0</td>\n",
              "      <td>2.0</td>\n",
              "      <td>7.0</td>\n",
              "      <td>268.0</td>\n",
              "      <td>COMPLETE</td>\n",
              "    </tr>\n",
              "    <tr>\n",
              "      <th>2</th>\n",
              "      <td>2</td>\n",
              "      <td>0.785847</td>\n",
              "      <td>2025-09-14 11:36:47.914599</td>\n",
              "      <td>2025-09-14 11:36:48.534855</td>\n",
              "      <td>0 days 00:00:00.620256</td>\n",
              "      <td>78.630981</td>\n",
              "      <td>NaN</td>\n",
              "      <td>SVM</td>\n",
              "      <td>scale</td>\n",
              "      <td>linear</td>\n",
              "      <td>NaN</td>\n",
              "      <td>NaN</td>\n",
              "      <td>NaN</td>\n",
              "      <td>NaN</td>\n",
              "      <td>NaN</td>\n",
              "      <td>COMPLETE</td>\n",
              "    </tr>\n",
              "    <tr>\n",
              "      <th>3</th>\n",
              "      <td>3</td>\n",
              "      <td>0.767225</td>\n",
              "      <td>2025-09-14 11:36:48.536843</td>\n",
              "      <td>2025-09-14 11:36:51.788179</td>\n",
              "      <td>0 days 00:00:03.251336</td>\n",
              "      <td>NaN</td>\n",
              "      <td>False</td>\n",
              "      <td>RandomForest</td>\n",
              "      <td>NaN</td>\n",
              "      <td>NaN</td>\n",
              "      <td>NaN</td>\n",
              "      <td>6.0</td>\n",
              "      <td>4.0</td>\n",
              "      <td>3.0</td>\n",
              "      <td>224.0</td>\n",
              "      <td>COMPLETE</td>\n",
              "    </tr>\n",
              "    <tr>\n",
              "      <th>4</th>\n",
              "      <td>4</td>\n",
              "      <td>0.785847</td>\n",
              "      <td>2025-09-14 11:36:51.791186</td>\n",
              "      <td>2025-09-14 11:36:52.121841</td>\n",
              "      <td>0 days 00:00:00.330655</td>\n",
              "      <td>27.046379</td>\n",
              "      <td>NaN</td>\n",
              "      <td>SVM</td>\n",
              "      <td>scale</td>\n",
              "      <td>linear</td>\n",
              "      <td>NaN</td>\n",
              "      <td>NaN</td>\n",
              "      <td>NaN</td>\n",
              "      <td>NaN</td>\n",
              "      <td>NaN</td>\n",
              "      <td>COMPLETE</td>\n",
              "    </tr>\n",
              "    <tr>\n",
              "      <th>...</th>\n",
              "      <td>...</td>\n",
              "      <td>...</td>\n",
              "      <td>...</td>\n",
              "      <td>...</td>\n",
              "      <td>...</td>\n",
              "      <td>...</td>\n",
              "      <td>...</td>\n",
              "      <td>...</td>\n",
              "      <td>...</td>\n",
              "      <td>...</td>\n",
              "      <td>...</td>\n",
              "      <td>...</td>\n",
              "      <td>...</td>\n",
              "      <td>...</td>\n",
              "      <td>...</td>\n",
              "      <td>...</td>\n",
              "    </tr>\n",
              "    <tr>\n",
              "      <th>95</th>\n",
              "      <td>95</td>\n",
              "      <td>0.709497</td>\n",
              "      <td>2025-09-14 11:38:18.429529</td>\n",
              "      <td>2025-09-14 11:38:18.521045</td>\n",
              "      <td>0 days 00:00:00.091516</td>\n",
              "      <td>0.101205</td>\n",
              "      <td>NaN</td>\n",
              "      <td>SVM</td>\n",
              "      <td>scale</td>\n",
              "      <td>rbf</td>\n",
              "      <td>NaN</td>\n",
              "      <td>NaN</td>\n",
              "      <td>NaN</td>\n",
              "      <td>NaN</td>\n",
              "      <td>NaN</td>\n",
              "      <td>COMPLETE</td>\n",
              "    </tr>\n",
              "    <tr>\n",
              "      <th>96</th>\n",
              "      <td>96</td>\n",
              "      <td>0.789572</td>\n",
              "      <td>2025-09-14 11:38:18.522981</td>\n",
              "      <td>2025-09-14 11:38:18.587645</td>\n",
              "      <td>0 days 00:00:00.064664</td>\n",
              "      <td>0.140885</td>\n",
              "      <td>NaN</td>\n",
              "      <td>SVM</td>\n",
              "      <td>scale</td>\n",
              "      <td>linear</td>\n",
              "      <td>NaN</td>\n",
              "      <td>NaN</td>\n",
              "      <td>NaN</td>\n",
              "      <td>NaN</td>\n",
              "      <td>NaN</td>\n",
              "      <td>COMPLETE</td>\n",
              "    </tr>\n",
              "    <tr>\n",
              "      <th>97</th>\n",
              "      <td>97</td>\n",
              "      <td>0.785847</td>\n",
              "      <td>2025-09-14 11:38:18.592375</td>\n",
              "      <td>2025-09-14 11:38:18.663239</td>\n",
              "      <td>0 days 00:00:00.070864</td>\n",
              "      <td>0.301118</td>\n",
              "      <td>NaN</td>\n",
              "      <td>SVM</td>\n",
              "      <td>scale</td>\n",
              "      <td>linear</td>\n",
              "      <td>NaN</td>\n",
              "      <td>NaN</td>\n",
              "      <td>NaN</td>\n",
              "      <td>NaN</td>\n",
              "      <td>NaN</td>\n",
              "      <td>COMPLETE</td>\n",
              "    </tr>\n",
              "    <tr>\n",
              "      <th>98</th>\n",
              "      <td>98</td>\n",
              "      <td>0.770950</td>\n",
              "      <td>2025-09-14 11:38:18.665228</td>\n",
              "      <td>2025-09-14 11:38:20.659142</td>\n",
              "      <td>0 days 00:00:01.993914</td>\n",
              "      <td>NaN</td>\n",
              "      <td>False</td>\n",
              "      <td>RandomForest</td>\n",
              "      <td>NaN</td>\n",
              "      <td>NaN</td>\n",
              "      <td>NaN</td>\n",
              "      <td>17.0</td>\n",
              "      <td>4.0</td>\n",
              "      <td>9.0</td>\n",
              "      <td>191.0</td>\n",
              "      <td>COMPLETE</td>\n",
              "    </tr>\n",
              "    <tr>\n",
              "      <th>99</th>\n",
              "      <td>99</td>\n",
              "      <td>0.785847</td>\n",
              "      <td>2025-09-14 11:38:20.661130</td>\n",
              "      <td>2025-09-14 11:38:20.792883</td>\n",
              "      <td>0 days 00:00:00.131753</td>\n",
              "      <td>5.056398</td>\n",
              "      <td>NaN</td>\n",
              "      <td>SVM</td>\n",
              "      <td>scale</td>\n",
              "      <td>linear</td>\n",
              "      <td>NaN</td>\n",
              "      <td>NaN</td>\n",
              "      <td>NaN</td>\n",
              "      <td>NaN</td>\n",
              "      <td>NaN</td>\n",
              "      <td>COMPLETE</td>\n",
              "    </tr>\n",
              "  </tbody>\n",
              "</table>\n",
              "<p>100 rows × 16 columns</p>\n",
              "</div>"
            ],
            "text/plain": [
              "    number     value             datetime_start          datetime_complete  \\\n",
              "0        0  0.774674 2025-09-14 11:36:42.073874 2025-09-14 11:36:43.750576   \n",
              "1        1  0.767225 2025-09-14 11:36:43.752587 2025-09-14 11:36:47.912852   \n",
              "2        2  0.785847 2025-09-14 11:36:47.914599 2025-09-14 11:36:48.534855   \n",
              "3        3  0.767225 2025-09-14 11:36:48.536843 2025-09-14 11:36:51.788179   \n",
              "4        4  0.785847 2025-09-14 11:36:51.791186 2025-09-14 11:36:52.121841   \n",
              "..     ...       ...                        ...                        ...   \n",
              "95      95  0.709497 2025-09-14 11:38:18.429529 2025-09-14 11:38:18.521045   \n",
              "96      96  0.789572 2025-09-14 11:38:18.522981 2025-09-14 11:38:18.587645   \n",
              "97      97  0.785847 2025-09-14 11:38:18.592375 2025-09-14 11:38:18.663239   \n",
              "98      98  0.770950 2025-09-14 11:38:18.665228 2025-09-14 11:38:20.659142   \n",
              "99      99  0.785847 2025-09-14 11:38:20.661130 2025-09-14 11:38:20.792883   \n",
              "\n",
              "                 duration   params_C params_bootstrap params_classifier  \\\n",
              "0  0 days 00:00:01.676702        NaN            False      RandomForest   \n",
              "1  0 days 00:00:04.160265        NaN             True      RandomForest   \n",
              "2  0 days 00:00:00.620256  78.630981              NaN               SVM   \n",
              "3  0 days 00:00:03.251336        NaN            False      RandomForest   \n",
              "4  0 days 00:00:00.330655  27.046379              NaN               SVM   \n",
              "..                    ...        ...              ...               ...   \n",
              "95 0 days 00:00:00.091516   0.101205              NaN               SVM   \n",
              "96 0 days 00:00:00.064664   0.140885              NaN               SVM   \n",
              "97 0 days 00:00:00.070864   0.301118              NaN               SVM   \n",
              "98 0 days 00:00:01.993914        NaN            False      RandomForest   \n",
              "99 0 days 00:00:00.131753   5.056398              NaN               SVM   \n",
              "\n",
              "   params_gamma params_kernel  params_learning_rate  params_max_depth  \\\n",
              "0           NaN           NaN                   NaN               8.0   \n",
              "1           NaN           NaN                   NaN              20.0   \n",
              "2         scale        linear                   NaN               NaN   \n",
              "3           NaN           NaN                   NaN               6.0   \n",
              "4         scale        linear                   NaN               NaN   \n",
              "..          ...           ...                   ...               ...   \n",
              "95        scale           rbf                   NaN               NaN   \n",
              "96        scale        linear                   NaN               NaN   \n",
              "97        scale        linear                   NaN               NaN   \n",
              "98          NaN           NaN                   NaN              17.0   \n",
              "99        scale        linear                   NaN               NaN   \n",
              "\n",
              "    params_min_samples_leaf  params_min_samples_split  params_n_estimators  \\\n",
              "0                       8.0                       2.0                132.0   \n",
              "1                       2.0                       7.0                268.0   \n",
              "2                       NaN                       NaN                  NaN   \n",
              "3                       4.0                       3.0                224.0   \n",
              "4                       NaN                       NaN                  NaN   \n",
              "..                      ...                       ...                  ...   \n",
              "95                      NaN                       NaN                  NaN   \n",
              "96                      NaN                       NaN                  NaN   \n",
              "97                      NaN                       NaN                  NaN   \n",
              "98                      4.0                       9.0                191.0   \n",
              "99                      NaN                       NaN                  NaN   \n",
              "\n",
              "       state  \n",
              "0   COMPLETE  \n",
              "1   COMPLETE  \n",
              "2   COMPLETE  \n",
              "3   COMPLETE  \n",
              "4   COMPLETE  \n",
              "..       ...  \n",
              "95  COMPLETE  \n",
              "96  COMPLETE  \n",
              "97  COMPLETE  \n",
              "98  COMPLETE  \n",
              "99  COMPLETE  \n",
              "\n",
              "[100 rows x 16 columns]"
            ]
          },
          "execution_count": 26,
          "metadata": {},
          "output_type": "execute_result"
        }
      ],
      "source": [
        "study.trials_dataframe()"
      ]
    },
    {
      "cell_type": "code",
      "execution_count": 27,
      "metadata": {
        "colab": {
          "base_uri": "https://localhost:8080/",
          "height": 209
        },
        "id": "FYO7J-SXB9MY",
        "outputId": "d818d28e-f179-4168-f40a-7d3d889759db"
      },
      "outputs": [
        {
          "data": {
            "text/plain": [
              "params_classifier\n",
              "SVM                 79\n",
              "RandomForest        11\n",
              "GradientBoosting    10\n",
              "Name: count, dtype: int64"
            ]
          },
          "execution_count": 27,
          "metadata": {},
          "output_type": "execute_result"
        }
      ],
      "source": [
        "study.trials_dataframe()['params_classifier'].value_counts()"
      ]
    },
    {
      "cell_type": "code",
      "execution_count": 28,
      "metadata": {
        "colab": {
          "base_uri": "https://localhost:8080/",
          "height": 209
        },
        "id": "miKGSOCDCIpc",
        "outputId": "df94e173-cc52-44a1-8a1e-04632cc171e7"
      },
      "outputs": [
        {
          "data": {
            "text/plain": [
              "params_classifier\n",
              "GradientBoosting    0.748231\n",
              "RandomForest        0.767564\n",
              "SVM                 0.775876\n",
              "Name: value, dtype: float64"
            ]
          },
          "execution_count": 28,
          "metadata": {},
          "output_type": "execute_result"
        }
      ],
      "source": [
        "study.trials_dataframe().groupby('params_classifier')['value'].mean()"
      ]
    },
    {
      "cell_type": "code",
      "execution_count": 29,
      "metadata": {
        "colab": {
          "base_uri": "https://localhost:8080/",
          "height": 542
        },
        "id": "a2-8K8--CiJS",
        "outputId": "a62afda2-4faf-45e4-daf7-1f5357d0ed2c"
      },
      "outputs": [
        {
          "data": {
            "application/vnd.plotly.v1+json": {
              "config": {
                "plotlyServerURL": "https://plot.ly"
              },
              "data": [
                {
                  "mode": "markers",
                  "name": "Objective Value",
                  "type": "scatter",
                  "x": [
                    0,
                    1,
                    2,
                    3,
                    4,
                    5,
                    6,
                    7,
                    8,
                    9,
                    10,
                    11,
                    12,
                    13,
                    14,
                    15,
                    16,
                    17,
                    18,
                    19,
                    20,
                    21,
                    22,
                    23,
                    24,
                    25,
                    26,
                    27,
                    28,
                    29,
                    30,
                    31,
                    32,
                    33,
                    34,
                    35,
                    36,
                    37,
                    38,
                    39,
                    40,
                    41,
                    42,
                    43,
                    44,
                    45,
                    46,
                    47,
                    48,
                    49,
                    50,
                    51,
                    52,
                    53,
                    54,
                    55,
                    56,
                    57,
                    58,
                    59,
                    60,
                    61,
                    62,
                    63,
                    64,
                    65,
                    66,
                    67,
                    68,
                    69,
                    70,
                    71,
                    72,
                    73,
                    74,
                    75,
                    76,
                    77,
                    78,
                    79,
                    80,
                    81,
                    82,
                    83,
                    84,
                    85,
                    86,
                    87,
                    88,
                    89,
                    90,
                    91,
                    92,
                    93,
                    94,
                    95,
                    96,
                    97,
                    98,
                    99
                  ],
                  "y": [
                    0.7746741154562384,
                    0.7672253258845437,
                    0.7858472998137801,
                    0.7672253258845437,
                    0.7858472998137801,
                    0.7672253258845437,
                    0.7653631284916201,
                    0.7486033519553073,
                    0.7486033519553073,
                    0.6722532588454376,
                    0.7895716945996275,
                    0.7877094972067038,
                    0.7858472998137803,
                    0.7094972067039106,
                    0.7858472998137803,
                    0.7877094972067038,
                    0.7597765363128491,
                    0.7411545623836128,
                    0.7355679702048418,
                    0.7653631284916201,
                    0.7225325884543761,
                    0.7877094972067038,
                    0.7858472998137803,
                    0.7858472998137803,
                    0.7877094972067038,
                    0.7839851024208566,
                    0.7858472998137801,
                    0.7653631284916201,
                    0.7541899441340782,
                    0.7690875232774674,
                    0.7597765363128491,
                    0.7877094972067038,
                    0.7877094972067038,
                    0.7821229050279329,
                    0.7858472998137803,
                    0.7597765363128491,
                    0.7225325884543762,
                    0.750465549348231,
                    0.7039106145251397,
                    0.7858472998137803,
                    0.7839851024208566,
                    0.7877094972067038,
                    0.7895716945996275,
                    0.7858472998137803,
                    0.7877094972067038,
                    0.7895716945996275,
                    0.7728119180633147,
                    0.7821229050279329,
                    0.7783985102420856,
                    0.7728119180633147,
                    0.7858472998137801,
                    0.7895716945996275,
                    0.7858472998137801,
                    0.7877094972067038,
                    0.7262569832402234,
                    0.7523277467411545,
                    0.7895716945996275,
                    0.7895716945996275,
                    0.7467411545623835,
                    0.7821229050279329,
                    0.7895716945996275,
                    0.7895716945996275,
                    0.7858472998137803,
                    0.7895716945996275,
                    0.7858472998137803,
                    0.7765363128491621,
                    0.7411545623836128,
                    0.7709497206703911,
                    0.7858472998137803,
                    0.756052141527002,
                    0.7895716945996275,
                    0.7895716945996275,
                    0.7895716945996275,
                    0.7858472998137803,
                    0.7895716945996275,
                    0.7877094972067038,
                    0.750465549348231,
                    0.7839851024208566,
                    0.7839851024208566,
                    0.7597765363128491,
                    0.7858472998137803,
                    0.7895716945996275,
                    0.7877094972067038,
                    0.7895716945996275,
                    0.7877094972067038,
                    0.7877094972067038,
                    0.7635009310986964,
                    0.7895716945996275,
                    0.6871508379888268,
                    0.7374301675977654,
                    0.7839851024208566,
                    0.7895716945996275,
                    0.7895716945996275,
                    0.7895716945996275,
                    0.7877094972067038,
                    0.7094972067039106,
                    0.7895716945996275,
                    0.7858472998137803,
                    0.7709497206703911,
                    0.7858472998137801
                  ]
                },
                {
                  "mode": "lines",
                  "name": "Best Value",
                  "type": "scatter",
                  "x": [
                    0,
                    1,
                    2,
                    3,
                    4,
                    5,
                    6,
                    7,
                    8,
                    9,
                    10,
                    11,
                    12,
                    13,
                    14,
                    15,
                    16,
                    17,
                    18,
                    19,
                    20,
                    21,
                    22,
                    23,
                    24,
                    25,
                    26,
                    27,
                    28,
                    29,
                    30,
                    31,
                    32,
                    33,
                    34,
                    35,
                    36,
                    37,
                    38,
                    39,
                    40,
                    41,
                    42,
                    43,
                    44,
                    45,
                    46,
                    47,
                    48,
                    49,
                    50,
                    51,
                    52,
                    53,
                    54,
                    55,
                    56,
                    57,
                    58,
                    59,
                    60,
                    61,
                    62,
                    63,
                    64,
                    65,
                    66,
                    67,
                    68,
                    69,
                    70,
                    71,
                    72,
                    73,
                    74,
                    75,
                    76,
                    77,
                    78,
                    79,
                    80,
                    81,
                    82,
                    83,
                    84,
                    85,
                    86,
                    87,
                    88,
                    89,
                    90,
                    91,
                    92,
                    93,
                    94,
                    95,
                    96,
                    97,
                    98,
                    99
                  ],
                  "y": [
                    0.7746741154562384,
                    0.7746741154562384,
                    0.7858472998137801,
                    0.7858472998137801,
                    0.7858472998137801,
                    0.7858472998137801,
                    0.7858472998137801,
                    0.7858472998137801,
                    0.7858472998137801,
                    0.7858472998137801,
                    0.7895716945996275,
                    0.7895716945996275,
                    0.7895716945996275,
                    0.7895716945996275,
                    0.7895716945996275,
                    0.7895716945996275,
                    0.7895716945996275,
                    0.7895716945996275,
                    0.7895716945996275,
                    0.7895716945996275,
                    0.7895716945996275,
                    0.7895716945996275,
                    0.7895716945996275,
                    0.7895716945996275,
                    0.7895716945996275,
                    0.7895716945996275,
                    0.7895716945996275,
                    0.7895716945996275,
                    0.7895716945996275,
                    0.7895716945996275,
                    0.7895716945996275,
                    0.7895716945996275,
                    0.7895716945996275,
                    0.7895716945996275,
                    0.7895716945996275,
                    0.7895716945996275,
                    0.7895716945996275,
                    0.7895716945996275,
                    0.7895716945996275,
                    0.7895716945996275,
                    0.7895716945996275,
                    0.7895716945996275,
                    0.7895716945996275,
                    0.7895716945996275,
                    0.7895716945996275,
                    0.7895716945996275,
                    0.7895716945996275,
                    0.7895716945996275,
                    0.7895716945996275,
                    0.7895716945996275,
                    0.7895716945996275,
                    0.7895716945996275,
                    0.7895716945996275,
                    0.7895716945996275,
                    0.7895716945996275,
                    0.7895716945996275,
                    0.7895716945996275,
                    0.7895716945996275,
                    0.7895716945996275,
                    0.7895716945996275,
                    0.7895716945996275,
                    0.7895716945996275,
                    0.7895716945996275,
                    0.7895716945996275,
                    0.7895716945996275,
                    0.7895716945996275,
                    0.7895716945996275,
                    0.7895716945996275,
                    0.7895716945996275,
                    0.7895716945996275,
                    0.7895716945996275,
                    0.7895716945996275,
                    0.7895716945996275,
                    0.7895716945996275,
                    0.7895716945996275,
                    0.7895716945996275,
                    0.7895716945996275,
                    0.7895716945996275,
                    0.7895716945996275,
                    0.7895716945996275,
                    0.7895716945996275,
                    0.7895716945996275,
                    0.7895716945996275,
                    0.7895716945996275,
                    0.7895716945996275,
                    0.7895716945996275,
                    0.7895716945996275,
                    0.7895716945996275,
                    0.7895716945996275,
                    0.7895716945996275,
                    0.7895716945996275,
                    0.7895716945996275,
                    0.7895716945996275,
                    0.7895716945996275,
                    0.7895716945996275,
                    0.7895716945996275,
                    0.7895716945996275,
                    0.7895716945996275,
                    0.7895716945996275,
                    0.7895716945996275
                  ]
                },
                {
                  "marker": {
                    "color": "#cccccc"
                  },
                  "mode": "markers",
                  "name": "Infeasible Trial",
                  "showlegend": false,
                  "type": "scatter",
                  "x": [],
                  "y": []
                }
              ],
              "layout": {
                "template": {
                  "data": {
                    "bar": [
                      {
                        "error_x": {
                          "color": "#2a3f5f"
                        },
                        "error_y": {
                          "color": "#2a3f5f"
                        },
                        "marker": {
                          "line": {
                            "color": "#E5ECF6",
                            "width": 0.5
                          },
                          "pattern": {
                            "fillmode": "overlay",
                            "size": 10,
                            "solidity": 0.2
                          }
                        },
                        "type": "bar"
                      }
                    ],
                    "barpolar": [
                      {
                        "marker": {
                          "line": {
                            "color": "#E5ECF6",
                            "width": 0.5
                          },
                          "pattern": {
                            "fillmode": "overlay",
                            "size": 10,
                            "solidity": 0.2
                          }
                        },
                        "type": "barpolar"
                      }
                    ],
                    "carpet": [
                      {
                        "aaxis": {
                          "endlinecolor": "#2a3f5f",
                          "gridcolor": "white",
                          "linecolor": "white",
                          "minorgridcolor": "white",
                          "startlinecolor": "#2a3f5f"
                        },
                        "baxis": {
                          "endlinecolor": "#2a3f5f",
                          "gridcolor": "white",
                          "linecolor": "white",
                          "minorgridcolor": "white",
                          "startlinecolor": "#2a3f5f"
                        },
                        "type": "carpet"
                      }
                    ],
                    "choropleth": [
                      {
                        "colorbar": {
                          "outlinewidth": 0,
                          "ticks": ""
                        },
                        "type": "choropleth"
                      }
                    ],
                    "contour": [
                      {
                        "colorbar": {
                          "outlinewidth": 0,
                          "ticks": ""
                        },
                        "colorscale": [
                          [
                            0,
                            "#0d0887"
                          ],
                          [
                            0.1111111111111111,
                            "#46039f"
                          ],
                          [
                            0.2222222222222222,
                            "#7201a8"
                          ],
                          [
                            0.3333333333333333,
                            "#9c179e"
                          ],
                          [
                            0.4444444444444444,
                            "#bd3786"
                          ],
                          [
                            0.5555555555555556,
                            "#d8576b"
                          ],
                          [
                            0.6666666666666666,
                            "#ed7953"
                          ],
                          [
                            0.7777777777777778,
                            "#fb9f3a"
                          ],
                          [
                            0.8888888888888888,
                            "#fdca26"
                          ],
                          [
                            1,
                            "#f0f921"
                          ]
                        ],
                        "type": "contour"
                      }
                    ],
                    "contourcarpet": [
                      {
                        "colorbar": {
                          "outlinewidth": 0,
                          "ticks": ""
                        },
                        "type": "contourcarpet"
                      }
                    ],
                    "heatmap": [
                      {
                        "colorbar": {
                          "outlinewidth": 0,
                          "ticks": ""
                        },
                        "colorscale": [
                          [
                            0,
                            "#0d0887"
                          ],
                          [
                            0.1111111111111111,
                            "#46039f"
                          ],
                          [
                            0.2222222222222222,
                            "#7201a8"
                          ],
                          [
                            0.3333333333333333,
                            "#9c179e"
                          ],
                          [
                            0.4444444444444444,
                            "#bd3786"
                          ],
                          [
                            0.5555555555555556,
                            "#d8576b"
                          ],
                          [
                            0.6666666666666666,
                            "#ed7953"
                          ],
                          [
                            0.7777777777777778,
                            "#fb9f3a"
                          ],
                          [
                            0.8888888888888888,
                            "#fdca26"
                          ],
                          [
                            1,
                            "#f0f921"
                          ]
                        ],
                        "type": "heatmap"
                      }
                    ],
                    "heatmapgl": [
                      {
                        "colorbar": {
                          "outlinewidth": 0,
                          "ticks": ""
                        },
                        "colorscale": [
                          [
                            0,
                            "#0d0887"
                          ],
                          [
                            0.1111111111111111,
                            "#46039f"
                          ],
                          [
                            0.2222222222222222,
                            "#7201a8"
                          ],
                          [
                            0.3333333333333333,
                            "#9c179e"
                          ],
                          [
                            0.4444444444444444,
                            "#bd3786"
                          ],
                          [
                            0.5555555555555556,
                            "#d8576b"
                          ],
                          [
                            0.6666666666666666,
                            "#ed7953"
                          ],
                          [
                            0.7777777777777778,
                            "#fb9f3a"
                          ],
                          [
                            0.8888888888888888,
                            "#fdca26"
                          ],
                          [
                            1,
                            "#f0f921"
                          ]
                        ],
                        "type": "heatmapgl"
                      }
                    ],
                    "histogram": [
                      {
                        "marker": {
                          "pattern": {
                            "fillmode": "overlay",
                            "size": 10,
                            "solidity": 0.2
                          }
                        },
                        "type": "histogram"
                      }
                    ],
                    "histogram2d": [
                      {
                        "colorbar": {
                          "outlinewidth": 0,
                          "ticks": ""
                        },
                        "colorscale": [
                          [
                            0,
                            "#0d0887"
                          ],
                          [
                            0.1111111111111111,
                            "#46039f"
                          ],
                          [
                            0.2222222222222222,
                            "#7201a8"
                          ],
                          [
                            0.3333333333333333,
                            "#9c179e"
                          ],
                          [
                            0.4444444444444444,
                            "#bd3786"
                          ],
                          [
                            0.5555555555555556,
                            "#d8576b"
                          ],
                          [
                            0.6666666666666666,
                            "#ed7953"
                          ],
                          [
                            0.7777777777777778,
                            "#fb9f3a"
                          ],
                          [
                            0.8888888888888888,
                            "#fdca26"
                          ],
                          [
                            1,
                            "#f0f921"
                          ]
                        ],
                        "type": "histogram2d"
                      }
                    ],
                    "histogram2dcontour": [
                      {
                        "colorbar": {
                          "outlinewidth": 0,
                          "ticks": ""
                        },
                        "colorscale": [
                          [
                            0,
                            "#0d0887"
                          ],
                          [
                            0.1111111111111111,
                            "#46039f"
                          ],
                          [
                            0.2222222222222222,
                            "#7201a8"
                          ],
                          [
                            0.3333333333333333,
                            "#9c179e"
                          ],
                          [
                            0.4444444444444444,
                            "#bd3786"
                          ],
                          [
                            0.5555555555555556,
                            "#d8576b"
                          ],
                          [
                            0.6666666666666666,
                            "#ed7953"
                          ],
                          [
                            0.7777777777777778,
                            "#fb9f3a"
                          ],
                          [
                            0.8888888888888888,
                            "#fdca26"
                          ],
                          [
                            1,
                            "#f0f921"
                          ]
                        ],
                        "type": "histogram2dcontour"
                      }
                    ],
                    "mesh3d": [
                      {
                        "colorbar": {
                          "outlinewidth": 0,
                          "ticks": ""
                        },
                        "type": "mesh3d"
                      }
                    ],
                    "parcoords": [
                      {
                        "line": {
                          "colorbar": {
                            "outlinewidth": 0,
                            "ticks": ""
                          }
                        },
                        "type": "parcoords"
                      }
                    ],
                    "pie": [
                      {
                        "automargin": true,
                        "type": "pie"
                      }
                    ],
                    "scatter": [
                      {
                        "fillpattern": {
                          "fillmode": "overlay",
                          "size": 10,
                          "solidity": 0.2
                        },
                        "type": "scatter"
                      }
                    ],
                    "scatter3d": [
                      {
                        "line": {
                          "colorbar": {
                            "outlinewidth": 0,
                            "ticks": ""
                          }
                        },
                        "marker": {
                          "colorbar": {
                            "outlinewidth": 0,
                            "ticks": ""
                          }
                        },
                        "type": "scatter3d"
                      }
                    ],
                    "scattercarpet": [
                      {
                        "marker": {
                          "colorbar": {
                            "outlinewidth": 0,
                            "ticks": ""
                          }
                        },
                        "type": "scattercarpet"
                      }
                    ],
                    "scattergeo": [
                      {
                        "marker": {
                          "colorbar": {
                            "outlinewidth": 0,
                            "ticks": ""
                          }
                        },
                        "type": "scattergeo"
                      }
                    ],
                    "scattergl": [
                      {
                        "marker": {
                          "colorbar": {
                            "outlinewidth": 0,
                            "ticks": ""
                          }
                        },
                        "type": "scattergl"
                      }
                    ],
                    "scattermapbox": [
                      {
                        "marker": {
                          "colorbar": {
                            "outlinewidth": 0,
                            "ticks": ""
                          }
                        },
                        "type": "scattermapbox"
                      }
                    ],
                    "scatterpolar": [
                      {
                        "marker": {
                          "colorbar": {
                            "outlinewidth": 0,
                            "ticks": ""
                          }
                        },
                        "type": "scatterpolar"
                      }
                    ],
                    "scatterpolargl": [
                      {
                        "marker": {
                          "colorbar": {
                            "outlinewidth": 0,
                            "ticks": ""
                          }
                        },
                        "type": "scatterpolargl"
                      }
                    ],
                    "scatterternary": [
                      {
                        "marker": {
                          "colorbar": {
                            "outlinewidth": 0,
                            "ticks": ""
                          }
                        },
                        "type": "scatterternary"
                      }
                    ],
                    "surface": [
                      {
                        "colorbar": {
                          "outlinewidth": 0,
                          "ticks": ""
                        },
                        "colorscale": [
                          [
                            0,
                            "#0d0887"
                          ],
                          [
                            0.1111111111111111,
                            "#46039f"
                          ],
                          [
                            0.2222222222222222,
                            "#7201a8"
                          ],
                          [
                            0.3333333333333333,
                            "#9c179e"
                          ],
                          [
                            0.4444444444444444,
                            "#bd3786"
                          ],
                          [
                            0.5555555555555556,
                            "#d8576b"
                          ],
                          [
                            0.6666666666666666,
                            "#ed7953"
                          ],
                          [
                            0.7777777777777778,
                            "#fb9f3a"
                          ],
                          [
                            0.8888888888888888,
                            "#fdca26"
                          ],
                          [
                            1,
                            "#f0f921"
                          ]
                        ],
                        "type": "surface"
                      }
                    ],
                    "table": [
                      {
                        "cells": {
                          "fill": {
                            "color": "#EBF0F8"
                          },
                          "line": {
                            "color": "white"
                          }
                        },
                        "header": {
                          "fill": {
                            "color": "#C8D4E3"
                          },
                          "line": {
                            "color": "white"
                          }
                        },
                        "type": "table"
                      }
                    ]
                  },
                  "layout": {
                    "annotationdefaults": {
                      "arrowcolor": "#2a3f5f",
                      "arrowhead": 0,
                      "arrowwidth": 1
                    },
                    "autotypenumbers": "strict",
                    "coloraxis": {
                      "colorbar": {
                        "outlinewidth": 0,
                        "ticks": ""
                      }
                    },
                    "colorscale": {
                      "diverging": [
                        [
                          0,
                          "#8e0152"
                        ],
                        [
                          0.1,
                          "#c51b7d"
                        ],
                        [
                          0.2,
                          "#de77ae"
                        ],
                        [
                          0.3,
                          "#f1b6da"
                        ],
                        [
                          0.4,
                          "#fde0ef"
                        ],
                        [
                          0.5,
                          "#f7f7f7"
                        ],
                        [
                          0.6,
                          "#e6f5d0"
                        ],
                        [
                          0.7,
                          "#b8e186"
                        ],
                        [
                          0.8,
                          "#7fbc41"
                        ],
                        [
                          0.9,
                          "#4d9221"
                        ],
                        [
                          1,
                          "#276419"
                        ]
                      ],
                      "sequential": [
                        [
                          0,
                          "#0d0887"
                        ],
                        [
                          0.1111111111111111,
                          "#46039f"
                        ],
                        [
                          0.2222222222222222,
                          "#7201a8"
                        ],
                        [
                          0.3333333333333333,
                          "#9c179e"
                        ],
                        [
                          0.4444444444444444,
                          "#bd3786"
                        ],
                        [
                          0.5555555555555556,
                          "#d8576b"
                        ],
                        [
                          0.6666666666666666,
                          "#ed7953"
                        ],
                        [
                          0.7777777777777778,
                          "#fb9f3a"
                        ],
                        [
                          0.8888888888888888,
                          "#fdca26"
                        ],
                        [
                          1,
                          "#f0f921"
                        ]
                      ],
                      "sequentialminus": [
                        [
                          0,
                          "#0d0887"
                        ],
                        [
                          0.1111111111111111,
                          "#46039f"
                        ],
                        [
                          0.2222222222222222,
                          "#7201a8"
                        ],
                        [
                          0.3333333333333333,
                          "#9c179e"
                        ],
                        [
                          0.4444444444444444,
                          "#bd3786"
                        ],
                        [
                          0.5555555555555556,
                          "#d8576b"
                        ],
                        [
                          0.6666666666666666,
                          "#ed7953"
                        ],
                        [
                          0.7777777777777778,
                          "#fb9f3a"
                        ],
                        [
                          0.8888888888888888,
                          "#fdca26"
                        ],
                        [
                          1,
                          "#f0f921"
                        ]
                      ]
                    },
                    "colorway": [
                      "#636efa",
                      "#EF553B",
                      "#00cc96",
                      "#ab63fa",
                      "#FFA15A",
                      "#19d3f3",
                      "#FF6692",
                      "#B6E880",
                      "#FF97FF",
                      "#FECB52"
                    ],
                    "font": {
                      "color": "#2a3f5f"
                    },
                    "geo": {
                      "bgcolor": "white",
                      "lakecolor": "white",
                      "landcolor": "#E5ECF6",
                      "showlakes": true,
                      "showland": true,
                      "subunitcolor": "white"
                    },
                    "hoverlabel": {
                      "align": "left"
                    },
                    "hovermode": "closest",
                    "mapbox": {
                      "style": "light"
                    },
                    "paper_bgcolor": "white",
                    "plot_bgcolor": "#E5ECF6",
                    "polar": {
                      "angularaxis": {
                        "gridcolor": "white",
                        "linecolor": "white",
                        "ticks": ""
                      },
                      "bgcolor": "#E5ECF6",
                      "radialaxis": {
                        "gridcolor": "white",
                        "linecolor": "white",
                        "ticks": ""
                      }
                    },
                    "scene": {
                      "xaxis": {
                        "backgroundcolor": "#E5ECF6",
                        "gridcolor": "white",
                        "gridwidth": 2,
                        "linecolor": "white",
                        "showbackground": true,
                        "ticks": "",
                        "zerolinecolor": "white"
                      },
                      "yaxis": {
                        "backgroundcolor": "#E5ECF6",
                        "gridcolor": "white",
                        "gridwidth": 2,
                        "linecolor": "white",
                        "showbackground": true,
                        "ticks": "",
                        "zerolinecolor": "white"
                      },
                      "zaxis": {
                        "backgroundcolor": "#E5ECF6",
                        "gridcolor": "white",
                        "gridwidth": 2,
                        "linecolor": "white",
                        "showbackground": true,
                        "ticks": "",
                        "zerolinecolor": "white"
                      }
                    },
                    "shapedefaults": {
                      "line": {
                        "color": "#2a3f5f"
                      }
                    },
                    "ternary": {
                      "aaxis": {
                        "gridcolor": "white",
                        "linecolor": "white",
                        "ticks": ""
                      },
                      "baxis": {
                        "gridcolor": "white",
                        "linecolor": "white",
                        "ticks": ""
                      },
                      "bgcolor": "#E5ECF6",
                      "caxis": {
                        "gridcolor": "white",
                        "linecolor": "white",
                        "ticks": ""
                      }
                    },
                    "title": {
                      "x": 0.05
                    },
                    "xaxis": {
                      "automargin": true,
                      "gridcolor": "white",
                      "linecolor": "white",
                      "ticks": "",
                      "title": {
                        "standoff": 15
                      },
                      "zerolinecolor": "white",
                      "zerolinewidth": 2
                    },
                    "yaxis": {
                      "automargin": true,
                      "gridcolor": "white",
                      "linecolor": "white",
                      "ticks": "",
                      "title": {
                        "standoff": 15
                      },
                      "zerolinecolor": "white",
                      "zerolinewidth": 2
                    }
                  }
                },
                "title": {
                  "text": "Optimization History Plot"
                },
                "xaxis": {
                  "title": {
                    "text": "Trial"
                  }
                },
                "yaxis": {
                  "title": {
                    "text": "Objective Value"
                  }
                }
              }
            }
          },
          "metadata": {},
          "output_type": "display_data"
        }
      ],
      "source": [
        "# 1. Optimization History\n",
        "plot_optimization_history(study).show()"
      ]
    },
    {
      "cell_type": "code",
      "execution_count": 30,
      "metadata": {
        "colab": {
          "base_uri": "https://localhost:8080/",
          "height": 562
        },
        "id": "0n7zfgCNCx-4",
        "outputId": "1604fbd1-9fd6-4749-fcdf-62fea03e8428"
      },
      "outputs": [
        {
          "data": {
            "application/vnd.plotly.v1+json": {
              "config": {
                "plotlyServerURL": "https://plot.ly"
              },
              "data": [
                {
                  "marker": {
                    "color": [
                      2,
                      4,
                      8,
                      9,
                      10,
                      11,
                      12,
                      13,
                      14,
                      15,
                      16,
                      17,
                      20,
                      21,
                      22,
                      23,
                      24,
                      25,
                      26,
                      27,
                      31,
                      32,
                      33,
                      34,
                      36,
                      37,
                      39,
                      40,
                      41,
                      42,
                      43,
                      44,
                      45,
                      47,
                      49,
                      50,
                      51,
                      52,
                      53,
                      54,
                      55,
                      56,
                      57,
                      59,
                      60,
                      61,
                      62,
                      63,
                      64,
                      65,
                      66,
                      68,
                      69,
                      70,
                      71,
                      72,
                      73,
                      74,
                      75,
                      77,
                      78,
                      80,
                      81,
                      82,
                      83,
                      84,
                      85,
                      86,
                      87,
                      88,
                      90,
                      91,
                      92,
                      93,
                      94,
                      95,
                      96,
                      97,
                      99
                    ],
                    "colorbar": {
                      "title": {
                        "text": "Trial"
                      },
                      "x": 1,
                      "xpad": 40
                    },
                    "colorscale": [
                      [
                        0,
                        "rgb(247,251,255)"
                      ],
                      [
                        0.125,
                        "rgb(222,235,247)"
                      ],
                      [
                        0.25,
                        "rgb(198,219,239)"
                      ],
                      [
                        0.375,
                        "rgb(158,202,225)"
                      ],
                      [
                        0.5,
                        "rgb(107,174,214)"
                      ],
                      [
                        0.625,
                        "rgb(66,146,198)"
                      ],
                      [
                        0.75,
                        "rgb(33,113,181)"
                      ],
                      [
                        0.875,
                        "rgb(8,81,156)"
                      ],
                      [
                        1,
                        "rgb(8,48,107)"
                      ]
                    ],
                    "line": {
                      "color": "Grey",
                      "width": 0.5
                    },
                    "showscale": true
                  },
                  "mode": "markers",
                  "name": "Feasible Trial",
                  "showlegend": false,
                  "type": "scatter",
                  "x": [
                    78.63098109599632,
                    27.046378743712825,
                    1.0375610659730063,
                    90.12649541611891,
                    0.13814238011145433,
                    0.10124879351316367,
                    0.26223611929441826,
                    0.10083101774593856,
                    0.8254519582912531,
                    0.15538571742491752,
                    6.076465690383903,
                    0.5280375171652398,
                    2.370811533436759,
                    0.10207383701502655,
                    0.2675023432703697,
                    0.20448013437451376,
                    0.10214696723486645,
                    0.45367886886354675,
                    2.0567905041209116,
                    0.22728471191510735,
                    0.10077835063941058,
                    0.16241595342481993,
                    0.37047614761664405,
                    0.1880833581677554,
                    5.80363417388097,
                    0.14718507758915053,
                    0.6428647486235656,
                    1.2614980399355777,
                    0.10035549964041698,
                    0.14129045553427141,
                    0.2907413800504683,
                    0.15849921704425904,
                    0.15233428221110928,
                    0.36765458678602364,
                    0.15956953393950382,
                    10.49425929976183,
                    0.14613075131047765,
                    28.625584759168238,
                    0.15540897093820447,
                    0.29850469168556315,
                    0.2210690985410696,
                    0.13888014000653512,
                    0.13552634360115645,
                    0.37429004611747463,
                    0.1380935696049699,
                    0.1383145736386309,
                    0.21308882408818108,
                    0.12308694423029368,
                    0.27989186229328994,
                    0.1346212360030657,
                    0.610021057266686,
                    0.19456986267300438,
                    0.24497524429224052,
                    0.11610860937193086,
                    0.1399867992709359,
                    0.12793811677909847,
                    0.19423699831984376,
                    0.1287146275128297,
                    0.18616853317160656,
                    0.34853245844634173,
                    0.4437746822518081,
                    0.24894796042978765,
                    0.12222361085727206,
                    0.17301094026557395,
                    0.1240716768672837,
                    0.1026804703970862,
                    0.16410943870967784,
                    0.2254785153233343,
                    0.12976662828121882,
                    60.00449044573859,
                    1.1715609399807934,
                    0.11485800844747092,
                    0.15199683504690606,
                    0.11282370658285315,
                    0.17863829126135258,
                    0.10120462770058182,
                    0.1408854400877462,
                    0.3011182763000671,
                    5.056398490234465
                  ],
                  "xaxis": "x",
                  "y": [
                    0.7858472998137801,
                    0.7858472998137801,
                    0.7486033519553073,
                    0.6722532588454376,
                    0.7895716945996275,
                    0.7877094972067038,
                    0.7858472998137803,
                    0.7094972067039106,
                    0.7858472998137803,
                    0.7877094972067038,
                    0.7597765363128491,
                    0.7411545623836128,
                    0.7225325884543761,
                    0.7877094972067038,
                    0.7858472998137803,
                    0.7858472998137803,
                    0.7877094972067038,
                    0.7839851024208566,
                    0.7858472998137801,
                    0.7653631284916201,
                    0.7877094972067038,
                    0.7877094972067038,
                    0.7821229050279329,
                    0.7858472998137803,
                    0.7225325884543762,
                    0.750465549348231,
                    0.7858472998137803,
                    0.7839851024208566,
                    0.7877094972067038,
                    0.7895716945996275,
                    0.7858472998137803,
                    0.7877094972067038,
                    0.7895716945996275,
                    0.7821229050279329,
                    0.7728119180633147,
                    0.7858472998137801,
                    0.7895716945996275,
                    0.7858472998137801,
                    0.7877094972067038,
                    0.7262569832402234,
                    0.7523277467411545,
                    0.7895716945996275,
                    0.7895716945996275,
                    0.7821229050279329,
                    0.7895716945996275,
                    0.7895716945996275,
                    0.7858472998137803,
                    0.7895716945996275,
                    0.7858472998137803,
                    0.7765363128491621,
                    0.7411545623836128,
                    0.7858472998137803,
                    0.756052141527002,
                    0.7895716945996275,
                    0.7895716945996275,
                    0.7895716945996275,
                    0.7858472998137803,
                    0.7895716945996275,
                    0.7877094972067038,
                    0.7839851024208566,
                    0.7839851024208566,
                    0.7858472998137803,
                    0.7895716945996275,
                    0.7877094972067038,
                    0.7895716945996275,
                    0.7877094972067038,
                    0.7877094972067038,
                    0.7635009310986964,
                    0.7895716945996275,
                    0.6871508379888268,
                    0.7839851024208566,
                    0.7895716945996275,
                    0.7895716945996275,
                    0.7895716945996275,
                    0.7877094972067038,
                    0.7094972067039106,
                    0.7895716945996275,
                    0.7858472998137803,
                    0.7858472998137801
                  ],
                  "yaxis": "y"
                },
                {
                  "marker": {
                    "color": [
                      0,
                      1,
                      3,
                      19,
                      29,
                      30,
                      35,
                      48,
                      67,
                      79,
                      98
                    ],
                    "colorbar": {
                      "title": {
                        "text": "Trial"
                      },
                      "x": 1,
                      "xpad": 40
                    },
                    "colorscale": [
                      [
                        0,
                        "rgb(247,251,255)"
                      ],
                      [
                        0.125,
                        "rgb(222,235,247)"
                      ],
                      [
                        0.25,
                        "rgb(198,219,239)"
                      ],
                      [
                        0.375,
                        "rgb(158,202,225)"
                      ],
                      [
                        0.5,
                        "rgb(107,174,214)"
                      ],
                      [
                        0.625,
                        "rgb(66,146,198)"
                      ],
                      [
                        0.75,
                        "rgb(33,113,181)"
                      ],
                      [
                        0.875,
                        "rgb(8,81,156)"
                      ],
                      [
                        1,
                        "rgb(8,48,107)"
                      ]
                    ],
                    "line": {
                      "color": "Grey",
                      "width": 0.5
                    },
                    "showscale": false
                  },
                  "mode": "markers",
                  "name": "Feasible Trial",
                  "showlegend": false,
                  "type": "scatter",
                  "x": [
                    false,
                    true,
                    false,
                    true,
                    false,
                    true,
                    true,
                    false,
                    false,
                    true,
                    false
                  ],
                  "xaxis": "x2",
                  "y": [
                    0.7746741154562384,
                    0.7672253258845437,
                    0.7672253258845437,
                    0.7653631284916201,
                    0.7690875232774674,
                    0.7597765363128491,
                    0.7597765363128491,
                    0.7783985102420856,
                    0.7709497206703911,
                    0.7597765363128491,
                    0.7709497206703911
                  ],
                  "yaxis": "y2"
                },
                {
                  "marker": {
                    "color": [
                      0,
                      1,
                      2,
                      3,
                      4,
                      5,
                      6,
                      7,
                      8,
                      9,
                      10,
                      11,
                      12,
                      13,
                      14,
                      15,
                      16,
                      17,
                      18,
                      19,
                      20,
                      21,
                      22,
                      23,
                      24,
                      25,
                      26,
                      27,
                      28,
                      29,
                      30,
                      31,
                      32,
                      33,
                      34,
                      35,
                      36,
                      37,
                      38,
                      39,
                      40,
                      41,
                      42,
                      43,
                      44,
                      45,
                      46,
                      47,
                      48,
                      49,
                      50,
                      51,
                      52,
                      53,
                      54,
                      55,
                      56,
                      57,
                      58,
                      59,
                      60,
                      61,
                      62,
                      63,
                      64,
                      65,
                      66,
                      67,
                      68,
                      69,
                      70,
                      71,
                      72,
                      73,
                      74,
                      75,
                      76,
                      77,
                      78,
                      79,
                      80,
                      81,
                      82,
                      83,
                      84,
                      85,
                      86,
                      87,
                      88,
                      89,
                      90,
                      91,
                      92,
                      93,
                      94,
                      95,
                      96,
                      97,
                      98,
                      99
                    ],
                    "colorbar": {
                      "title": {
                        "text": "Trial"
                      },
                      "x": 1,
                      "xpad": 40
                    },
                    "colorscale": [
                      [
                        0,
                        "rgb(247,251,255)"
                      ],
                      [
                        0.125,
                        "rgb(222,235,247)"
                      ],
                      [
                        0.25,
                        "rgb(198,219,239)"
                      ],
                      [
                        0.375,
                        "rgb(158,202,225)"
                      ],
                      [
                        0.5,
                        "rgb(107,174,214)"
                      ],
                      [
                        0.625,
                        "rgb(66,146,198)"
                      ],
                      [
                        0.75,
                        "rgb(33,113,181)"
                      ],
                      [
                        0.875,
                        "rgb(8,81,156)"
                      ],
                      [
                        1,
                        "rgb(8,48,107)"
                      ]
                    ],
                    "line": {
                      "color": "Grey",
                      "width": 0.5
                    },
                    "showscale": false
                  },
                  "mode": "markers",
                  "name": "Feasible Trial",
                  "showlegend": false,
                  "type": "scatter",
                  "x": [
                    "RandomForest",
                    "RandomForest",
                    "SVM",
                    "RandomForest",
                    "SVM",
                    "GradientBoosting",
                    "GradientBoosting",
                    "GradientBoosting",
                    "SVM",
                    "SVM",
                    "SVM",
                    "SVM",
                    "SVM",
                    "SVM",
                    "SVM",
                    "SVM",
                    "SVM",
                    "SVM",
                    "GradientBoosting",
                    "RandomForest",
                    "SVM",
                    "SVM",
                    "SVM",
                    "SVM",
                    "SVM",
                    "SVM",
                    "SVM",
                    "SVM",
                    "GradientBoosting",
                    "RandomForest",
                    "RandomForest",
                    "SVM",
                    "SVM",
                    "SVM",
                    "SVM",
                    "RandomForest",
                    "SVM",
                    "SVM",
                    "GradientBoosting",
                    "SVM",
                    "SVM",
                    "SVM",
                    "SVM",
                    "SVM",
                    "SVM",
                    "SVM",
                    "GradientBoosting",
                    "SVM",
                    "RandomForest",
                    "SVM",
                    "SVM",
                    "SVM",
                    "SVM",
                    "SVM",
                    "SVM",
                    "SVM",
                    "SVM",
                    "SVM",
                    "GradientBoosting",
                    "SVM",
                    "SVM",
                    "SVM",
                    "SVM",
                    "SVM",
                    "SVM",
                    "SVM",
                    "SVM",
                    "RandomForest",
                    "SVM",
                    "SVM",
                    "SVM",
                    "SVM",
                    "SVM",
                    "SVM",
                    "SVM",
                    "SVM",
                    "GradientBoosting",
                    "SVM",
                    "SVM",
                    "RandomForest",
                    "SVM",
                    "SVM",
                    "SVM",
                    "SVM",
                    "SVM",
                    "SVM",
                    "SVM",
                    "SVM",
                    "SVM",
                    "GradientBoosting",
                    "SVM",
                    "SVM",
                    "SVM",
                    "SVM",
                    "SVM",
                    "SVM",
                    "SVM",
                    "SVM",
                    "RandomForest",
                    "SVM"
                  ],
                  "xaxis": "x3",
                  "y": [
                    0.7746741154562384,
                    0.7672253258845437,
                    0.7858472998137801,
                    0.7672253258845437,
                    0.7858472998137801,
                    0.7672253258845437,
                    0.7653631284916201,
                    0.7486033519553073,
                    0.7486033519553073,
                    0.6722532588454376,
                    0.7895716945996275,
                    0.7877094972067038,
                    0.7858472998137803,
                    0.7094972067039106,
                    0.7858472998137803,
                    0.7877094972067038,
                    0.7597765363128491,
                    0.7411545623836128,
                    0.7355679702048418,
                    0.7653631284916201,
                    0.7225325884543761,
                    0.7877094972067038,
                    0.7858472998137803,
                    0.7858472998137803,
                    0.7877094972067038,
                    0.7839851024208566,
                    0.7858472998137801,
                    0.7653631284916201,
                    0.7541899441340782,
                    0.7690875232774674,
                    0.7597765363128491,
                    0.7877094972067038,
                    0.7877094972067038,
                    0.7821229050279329,
                    0.7858472998137803,
                    0.7597765363128491,
                    0.7225325884543762,
                    0.750465549348231,
                    0.7039106145251397,
                    0.7858472998137803,
                    0.7839851024208566,
                    0.7877094972067038,
                    0.7895716945996275,
                    0.7858472998137803,
                    0.7877094972067038,
                    0.7895716945996275,
                    0.7728119180633147,
                    0.7821229050279329,
                    0.7783985102420856,
                    0.7728119180633147,
                    0.7858472998137801,
                    0.7895716945996275,
                    0.7858472998137801,
                    0.7877094972067038,
                    0.7262569832402234,
                    0.7523277467411545,
                    0.7895716945996275,
                    0.7895716945996275,
                    0.7467411545623835,
                    0.7821229050279329,
                    0.7895716945996275,
                    0.7895716945996275,
                    0.7858472998137803,
                    0.7895716945996275,
                    0.7858472998137803,
                    0.7765363128491621,
                    0.7411545623836128,
                    0.7709497206703911,
                    0.7858472998137803,
                    0.756052141527002,
                    0.7895716945996275,
                    0.7895716945996275,
                    0.7895716945996275,
                    0.7858472998137803,
                    0.7895716945996275,
                    0.7877094972067038,
                    0.750465549348231,
                    0.7839851024208566,
                    0.7839851024208566,
                    0.7597765363128491,
                    0.7858472998137803,
                    0.7895716945996275,
                    0.7877094972067038,
                    0.7895716945996275,
                    0.7877094972067038,
                    0.7877094972067038,
                    0.7635009310986964,
                    0.7895716945996275,
                    0.6871508379888268,
                    0.7374301675977654,
                    0.7839851024208566,
                    0.7895716945996275,
                    0.7895716945996275,
                    0.7895716945996275,
                    0.7877094972067038,
                    0.7094972067039106,
                    0.7895716945996275,
                    0.7858472998137803,
                    0.7709497206703911,
                    0.7858472998137801
                  ],
                  "yaxis": "y3"
                },
                {
                  "marker": {
                    "color": [
                      2,
                      4,
                      8,
                      9,
                      10,
                      11,
                      12,
                      13,
                      14,
                      15,
                      16,
                      17,
                      20,
                      21,
                      22,
                      23,
                      24,
                      25,
                      26,
                      27,
                      31,
                      32,
                      33,
                      34,
                      36,
                      37,
                      39,
                      40,
                      41,
                      42,
                      43,
                      44,
                      45,
                      47,
                      49,
                      50,
                      51,
                      52,
                      53,
                      54,
                      55,
                      56,
                      57,
                      59,
                      60,
                      61,
                      62,
                      63,
                      64,
                      65,
                      66,
                      68,
                      69,
                      70,
                      71,
                      72,
                      73,
                      74,
                      75,
                      77,
                      78,
                      80,
                      81,
                      82,
                      83,
                      84,
                      85,
                      86,
                      87,
                      88,
                      90,
                      91,
                      92,
                      93,
                      94,
                      95,
                      96,
                      97,
                      99
                    ],
                    "colorbar": {
                      "title": {
                        "text": "Trial"
                      },
                      "x": 1,
                      "xpad": 40
                    },
                    "colorscale": [
                      [
                        0,
                        "rgb(247,251,255)"
                      ],
                      [
                        0.125,
                        "rgb(222,235,247)"
                      ],
                      [
                        0.25,
                        "rgb(198,219,239)"
                      ],
                      [
                        0.375,
                        "rgb(158,202,225)"
                      ],
                      [
                        0.5,
                        "rgb(107,174,214)"
                      ],
                      [
                        0.625,
                        "rgb(66,146,198)"
                      ],
                      [
                        0.75,
                        "rgb(33,113,181)"
                      ],
                      [
                        0.875,
                        "rgb(8,81,156)"
                      ],
                      [
                        1,
                        "rgb(8,48,107)"
                      ]
                    ],
                    "line": {
                      "color": "Grey",
                      "width": 0.5
                    },
                    "showscale": false
                  },
                  "mode": "markers",
                  "name": "Feasible Trial",
                  "showlegend": false,
                  "type": "scatter",
                  "x": [
                    "scale",
                    "scale",
                    "auto",
                    "auto",
                    "scale",
                    "scale",
                    "scale",
                    "scale",
                    "scale",
                    "scale",
                    "scale",
                    "auto",
                    "scale",
                    "scale",
                    "scale",
                    "scale",
                    "scale",
                    "scale",
                    "auto",
                    "scale",
                    "scale",
                    "scale",
                    "scale",
                    "scale",
                    "scale",
                    "scale",
                    "scale",
                    "auto",
                    "scale",
                    "scale",
                    "scale",
                    "scale",
                    "scale",
                    "scale",
                    "scale",
                    "auto",
                    "scale",
                    "scale",
                    "scale",
                    "scale",
                    "scale",
                    "scale",
                    "scale",
                    "scale",
                    "auto",
                    "auto",
                    "auto",
                    "auto",
                    "auto",
                    "scale",
                    "scale",
                    "auto",
                    "scale",
                    "scale",
                    "auto",
                    "auto",
                    "auto",
                    "auto",
                    "auto",
                    "scale",
                    "scale",
                    "scale",
                    "auto",
                    "auto",
                    "auto",
                    "auto",
                    "auto",
                    "scale",
                    "scale",
                    "auto",
                    "scale",
                    "scale",
                    "scale",
                    "scale",
                    "scale",
                    "scale",
                    "scale",
                    "scale",
                    "scale"
                  ],
                  "xaxis": "x4",
                  "y": [
                    0.7858472998137801,
                    0.7858472998137801,
                    0.7486033519553073,
                    0.6722532588454376,
                    0.7895716945996275,
                    0.7877094972067038,
                    0.7858472998137803,
                    0.7094972067039106,
                    0.7858472998137803,
                    0.7877094972067038,
                    0.7597765363128491,
                    0.7411545623836128,
                    0.7225325884543761,
                    0.7877094972067038,
                    0.7858472998137803,
                    0.7858472998137803,
                    0.7877094972067038,
                    0.7839851024208566,
                    0.7858472998137801,
                    0.7653631284916201,
                    0.7877094972067038,
                    0.7877094972067038,
                    0.7821229050279329,
                    0.7858472998137803,
                    0.7225325884543762,
                    0.750465549348231,
                    0.7858472998137803,
                    0.7839851024208566,
                    0.7877094972067038,
                    0.7895716945996275,
                    0.7858472998137803,
                    0.7877094972067038,
                    0.7895716945996275,
                    0.7821229050279329,
                    0.7728119180633147,
                    0.7858472998137801,
                    0.7895716945996275,
                    0.7858472998137801,
                    0.7877094972067038,
                    0.7262569832402234,
                    0.7523277467411545,
                    0.7895716945996275,
                    0.7895716945996275,
                    0.7821229050279329,
                    0.7895716945996275,
                    0.7895716945996275,
                    0.7858472998137803,
                    0.7895716945996275,
                    0.7858472998137803,
                    0.7765363128491621,
                    0.7411545623836128,
                    0.7858472998137803,
                    0.756052141527002,
                    0.7895716945996275,
                    0.7895716945996275,
                    0.7895716945996275,
                    0.7858472998137803,
                    0.7895716945996275,
                    0.7877094972067038,
                    0.7839851024208566,
                    0.7839851024208566,
                    0.7858472998137803,
                    0.7895716945996275,
                    0.7877094972067038,
                    0.7895716945996275,
                    0.7877094972067038,
                    0.7877094972067038,
                    0.7635009310986964,
                    0.7895716945996275,
                    0.6871508379888268,
                    0.7839851024208566,
                    0.7895716945996275,
                    0.7895716945996275,
                    0.7895716945996275,
                    0.7877094972067038,
                    0.7094972067039106,
                    0.7895716945996275,
                    0.7858472998137803,
                    0.7858472998137801
                  ],
                  "yaxis": "y4"
                },
                {
                  "marker": {
                    "color": [
                      2,
                      4,
                      8,
                      9,
                      10,
                      11,
                      12,
                      13,
                      14,
                      15,
                      16,
                      17,
                      20,
                      21,
                      22,
                      23,
                      24,
                      25,
                      26,
                      27,
                      31,
                      32,
                      33,
                      34,
                      36,
                      37,
                      39,
                      40,
                      41,
                      42,
                      43,
                      44,
                      45,
                      47,
                      49,
                      50,
                      51,
                      52,
                      53,
                      54,
                      55,
                      56,
                      57,
                      59,
                      60,
                      61,
                      62,
                      63,
                      64,
                      65,
                      66,
                      68,
                      69,
                      70,
                      71,
                      72,
                      73,
                      74,
                      75,
                      77,
                      78,
                      80,
                      81,
                      82,
                      83,
                      84,
                      85,
                      86,
                      87,
                      88,
                      90,
                      91,
                      92,
                      93,
                      94,
                      95,
                      96,
                      97,
                      99
                    ],
                    "colorbar": {
                      "title": {
                        "text": "Trial"
                      },
                      "x": 1,
                      "xpad": 40
                    },
                    "colorscale": [
                      [
                        0,
                        "rgb(247,251,255)"
                      ],
                      [
                        0.125,
                        "rgb(222,235,247)"
                      ],
                      [
                        0.25,
                        "rgb(198,219,239)"
                      ],
                      [
                        0.375,
                        "rgb(158,202,225)"
                      ],
                      [
                        0.5,
                        "rgb(107,174,214)"
                      ],
                      [
                        0.625,
                        "rgb(66,146,198)"
                      ],
                      [
                        0.75,
                        "rgb(33,113,181)"
                      ],
                      [
                        0.875,
                        "rgb(8,81,156)"
                      ],
                      [
                        1,
                        "rgb(8,48,107)"
                      ]
                    ],
                    "line": {
                      "color": "Grey",
                      "width": 0.5
                    },
                    "showscale": false
                  },
                  "mode": "markers",
                  "name": "Feasible Trial",
                  "showlegend": false,
                  "type": "scatter",
                  "x": [
                    "linear",
                    "linear",
                    "sigmoid",
                    "poly",
                    "linear",
                    "linear",
                    "linear",
                    "rbf",
                    "linear",
                    "linear",
                    "rbf",
                    "poly",
                    "sigmoid",
                    "linear",
                    "linear",
                    "linear",
                    "linear",
                    "linear",
                    "linear",
                    "sigmoid",
                    "linear",
                    "linear",
                    "linear",
                    "linear",
                    "poly",
                    "rbf",
                    "linear",
                    "linear",
                    "linear",
                    "linear",
                    "linear",
                    "linear",
                    "linear",
                    "linear",
                    "sigmoid",
                    "linear",
                    "linear",
                    "linear",
                    "linear",
                    "poly",
                    "rbf",
                    "linear",
                    "linear",
                    "linear",
                    "linear",
                    "linear",
                    "linear",
                    "linear",
                    "linear",
                    "sigmoid",
                    "poly",
                    "linear",
                    "rbf",
                    "linear",
                    "linear",
                    "linear",
                    "linear",
                    "linear",
                    "linear",
                    "linear",
                    "linear",
                    "linear",
                    "linear",
                    "linear",
                    "linear",
                    "linear",
                    "linear",
                    "sigmoid",
                    "linear",
                    "poly",
                    "linear",
                    "linear",
                    "linear",
                    "linear",
                    "linear",
                    "rbf",
                    "linear",
                    "linear",
                    "linear"
                  ],
                  "xaxis": "x5",
                  "y": [
                    0.7858472998137801,
                    0.7858472998137801,
                    0.7486033519553073,
                    0.6722532588454376,
                    0.7895716945996275,
                    0.7877094972067038,
                    0.7858472998137803,
                    0.7094972067039106,
                    0.7858472998137803,
                    0.7877094972067038,
                    0.7597765363128491,
                    0.7411545623836128,
                    0.7225325884543761,
                    0.7877094972067038,
                    0.7858472998137803,
                    0.7858472998137803,
                    0.7877094972067038,
                    0.7839851024208566,
                    0.7858472998137801,
                    0.7653631284916201,
                    0.7877094972067038,
                    0.7877094972067038,
                    0.7821229050279329,
                    0.7858472998137803,
                    0.7225325884543762,
                    0.750465549348231,
                    0.7858472998137803,
                    0.7839851024208566,
                    0.7877094972067038,
                    0.7895716945996275,
                    0.7858472998137803,
                    0.7877094972067038,
                    0.7895716945996275,
                    0.7821229050279329,
                    0.7728119180633147,
                    0.7858472998137801,
                    0.7895716945996275,
                    0.7858472998137801,
                    0.7877094972067038,
                    0.7262569832402234,
                    0.7523277467411545,
                    0.7895716945996275,
                    0.7895716945996275,
                    0.7821229050279329,
                    0.7895716945996275,
                    0.7895716945996275,
                    0.7858472998137803,
                    0.7895716945996275,
                    0.7858472998137803,
                    0.7765363128491621,
                    0.7411545623836128,
                    0.7858472998137803,
                    0.756052141527002,
                    0.7895716945996275,
                    0.7895716945996275,
                    0.7895716945996275,
                    0.7858472998137803,
                    0.7895716945996275,
                    0.7877094972067038,
                    0.7839851024208566,
                    0.7839851024208566,
                    0.7858472998137803,
                    0.7895716945996275,
                    0.7877094972067038,
                    0.7895716945996275,
                    0.7877094972067038,
                    0.7877094972067038,
                    0.7635009310986964,
                    0.7895716945996275,
                    0.6871508379888268,
                    0.7839851024208566,
                    0.7895716945996275,
                    0.7895716945996275,
                    0.7895716945996275,
                    0.7877094972067038,
                    0.7094972067039106,
                    0.7895716945996275,
                    0.7858472998137803,
                    0.7858472998137801
                  ],
                  "yaxis": "y5"
                },
                {
                  "marker": {
                    "color": [
                      5,
                      6,
                      7,
                      18,
                      28,
                      38,
                      46,
                      58,
                      76,
                      89
                    ],
                    "colorbar": {
                      "title": {
                        "text": "Trial"
                      },
                      "x": 1,
                      "xpad": 40
                    },
                    "colorscale": [
                      [
                        0,
                        "rgb(247,251,255)"
                      ],
                      [
                        0.125,
                        "rgb(222,235,247)"
                      ],
                      [
                        0.25,
                        "rgb(198,219,239)"
                      ],
                      [
                        0.375,
                        "rgb(158,202,225)"
                      ],
                      [
                        0.5,
                        "rgb(107,174,214)"
                      ],
                      [
                        0.625,
                        "rgb(66,146,198)"
                      ],
                      [
                        0.75,
                        "rgb(33,113,181)"
                      ],
                      [
                        0.875,
                        "rgb(8,81,156)"
                      ],
                      [
                        1,
                        "rgb(8,48,107)"
                      ]
                    ],
                    "line": {
                      "color": "Grey",
                      "width": 0.5
                    },
                    "showscale": false
                  },
                  "mode": "markers",
                  "name": "Feasible Trial",
                  "showlegend": false,
                  "type": "scatter",
                  "x": [
                    0.018758091413041914,
                    0.020601830388833644,
                    0.1462241976508853,
                    0.28992736995615465,
                    0.0717570193312462,
                    0.010283915647107598,
                    0.05822794052328486,
                    0.2971289605349888,
                    0.11856236622493904,
                    0.03040892947856818
                  ],
                  "xaxis": "x6",
                  "y": [
                    0.7672253258845437,
                    0.7653631284916201,
                    0.7486033519553073,
                    0.7355679702048418,
                    0.7541899441340782,
                    0.7039106145251397,
                    0.7728119180633147,
                    0.7467411545623835,
                    0.750465549348231,
                    0.7374301675977654
                  ],
                  "yaxis": "y6"
                },
                {
                  "marker": {
                    "color": [
                      0,
                      1,
                      3,
                      5,
                      6,
                      7,
                      18,
                      19,
                      28,
                      29,
                      30,
                      35,
                      38,
                      46,
                      48,
                      58,
                      67,
                      76,
                      79,
                      89,
                      98
                    ],
                    "colorbar": {
                      "title": {
                        "text": "Trial"
                      },
                      "x": 1,
                      "xpad": 40
                    },
                    "colorscale": [
                      [
                        0,
                        "rgb(247,251,255)"
                      ],
                      [
                        0.125,
                        "rgb(222,235,247)"
                      ],
                      [
                        0.25,
                        "rgb(198,219,239)"
                      ],
                      [
                        0.375,
                        "rgb(158,202,225)"
                      ],
                      [
                        0.5,
                        "rgb(107,174,214)"
                      ],
                      [
                        0.625,
                        "rgb(66,146,198)"
                      ],
                      [
                        0.75,
                        "rgb(33,113,181)"
                      ],
                      [
                        0.875,
                        "rgb(8,81,156)"
                      ],
                      [
                        1,
                        "rgb(8,48,107)"
                      ]
                    ],
                    "line": {
                      "color": "Grey",
                      "width": 0.5
                    },
                    "showscale": false
                  },
                  "mode": "markers",
                  "name": "Feasible Trial",
                  "showlegend": false,
                  "type": "scatter",
                  "x": [
                    8,
                    20,
                    6,
                    5,
                    3,
                    11,
                    20,
                    15,
                    15,
                    15,
                    12,
                    10,
                    17,
                    3,
                    8,
                    18,
                    13,
                    9,
                    5,
                    13,
                    17
                  ],
                  "xaxis": "x7",
                  "y": [
                    0.7746741154562384,
                    0.7672253258845437,
                    0.7672253258845437,
                    0.7672253258845437,
                    0.7653631284916201,
                    0.7486033519553073,
                    0.7355679702048418,
                    0.7653631284916201,
                    0.7541899441340782,
                    0.7690875232774674,
                    0.7597765363128491,
                    0.7597765363128491,
                    0.7039106145251397,
                    0.7728119180633147,
                    0.7783985102420856,
                    0.7467411545623835,
                    0.7709497206703911,
                    0.750465549348231,
                    0.7597765363128491,
                    0.7374301675977654,
                    0.7709497206703911
                  ],
                  "yaxis": "y7"
                },
                {
                  "marker": {
                    "color": [
                      0,
                      1,
                      3,
                      5,
                      6,
                      7,
                      18,
                      19,
                      28,
                      29,
                      30,
                      35,
                      38,
                      46,
                      48,
                      58,
                      67,
                      76,
                      79,
                      89,
                      98
                    ],
                    "colorbar": {
                      "title": {
                        "text": "Trial"
                      },
                      "x": 1,
                      "xpad": 40
                    },
                    "colorscale": [
                      [
                        0,
                        "rgb(247,251,255)"
                      ],
                      [
                        0.125,
                        "rgb(222,235,247)"
                      ],
                      [
                        0.25,
                        "rgb(198,219,239)"
                      ],
                      [
                        0.375,
                        "rgb(158,202,225)"
                      ],
                      [
                        0.5,
                        "rgb(107,174,214)"
                      ],
                      [
                        0.625,
                        "rgb(66,146,198)"
                      ],
                      [
                        0.75,
                        "rgb(33,113,181)"
                      ],
                      [
                        0.875,
                        "rgb(8,81,156)"
                      ],
                      [
                        1,
                        "rgb(8,48,107)"
                      ]
                    ],
                    "line": {
                      "color": "Grey",
                      "width": 0.5
                    },
                    "showscale": false
                  },
                  "mode": "markers",
                  "name": "Feasible Trial",
                  "showlegend": false,
                  "type": "scatter",
                  "x": [
                    8,
                    2,
                    4,
                    6,
                    6,
                    3,
                    9,
                    1,
                    10,
                    7,
                    4,
                    10,
                    1,
                    5,
                    8,
                    3,
                    7,
                    5,
                    9,
                    2,
                    4
                  ],
                  "xaxis": "x8",
                  "y": [
                    0.7746741154562384,
                    0.7672253258845437,
                    0.7672253258845437,
                    0.7672253258845437,
                    0.7653631284916201,
                    0.7486033519553073,
                    0.7355679702048418,
                    0.7653631284916201,
                    0.7541899441340782,
                    0.7690875232774674,
                    0.7597765363128491,
                    0.7597765363128491,
                    0.7039106145251397,
                    0.7728119180633147,
                    0.7783985102420856,
                    0.7467411545623835,
                    0.7709497206703911,
                    0.750465549348231,
                    0.7597765363128491,
                    0.7374301675977654,
                    0.7709497206703911
                  ],
                  "yaxis": "y8"
                },
                {
                  "marker": {
                    "color": [
                      0,
                      1,
                      3,
                      5,
                      6,
                      7,
                      18,
                      19,
                      28,
                      29,
                      30,
                      35,
                      38,
                      46,
                      48,
                      58,
                      67,
                      76,
                      79,
                      89,
                      98
                    ],
                    "colorbar": {
                      "title": {
                        "text": "Trial"
                      },
                      "x": 1,
                      "xpad": 40
                    },
                    "colorscale": [
                      [
                        0,
                        "rgb(247,251,255)"
                      ],
                      [
                        0.125,
                        "rgb(222,235,247)"
                      ],
                      [
                        0.25,
                        "rgb(198,219,239)"
                      ],
                      [
                        0.375,
                        "rgb(158,202,225)"
                      ],
                      [
                        0.5,
                        "rgb(107,174,214)"
                      ],
                      [
                        0.625,
                        "rgb(66,146,198)"
                      ],
                      [
                        0.75,
                        "rgb(33,113,181)"
                      ],
                      [
                        0.875,
                        "rgb(8,81,156)"
                      ],
                      [
                        1,
                        "rgb(8,48,107)"
                      ]
                    ],
                    "line": {
                      "color": "Grey",
                      "width": 0.5
                    },
                    "showscale": false
                  },
                  "mode": "markers",
                  "name": "Feasible Trial",
                  "showlegend": false,
                  "type": "scatter",
                  "x": [
                    2,
                    7,
                    3,
                    5,
                    5,
                    7,
                    10,
                    10,
                    8,
                    4,
                    9,
                    2,
                    6,
                    4,
                    8,
                    6,
                    9,
                    3,
                    5,
                    7,
                    9
                  ],
                  "xaxis": "x9",
                  "y": [
                    0.7746741154562384,
                    0.7672253258845437,
                    0.7672253258845437,
                    0.7672253258845437,
                    0.7653631284916201,
                    0.7486033519553073,
                    0.7355679702048418,
                    0.7653631284916201,
                    0.7541899441340782,
                    0.7690875232774674,
                    0.7597765363128491,
                    0.7597765363128491,
                    0.7039106145251397,
                    0.7728119180633147,
                    0.7783985102420856,
                    0.7467411545623835,
                    0.7709497206703911,
                    0.750465549348231,
                    0.7597765363128491,
                    0.7374301675977654,
                    0.7709497206703911
                  ],
                  "yaxis": "y9"
                },
                {
                  "marker": {
                    "color": [
                      0,
                      1,
                      3,
                      5,
                      6,
                      7,
                      18,
                      19,
                      28,
                      29,
                      30,
                      35,
                      38,
                      46,
                      48,
                      58,
                      67,
                      76,
                      79,
                      89,
                      98
                    ],
                    "colorbar": {
                      "title": {
                        "text": "Trial"
                      },
                      "x": 1,
                      "xpad": 40
                    },
                    "colorscale": [
                      [
                        0,
                        "rgb(247,251,255)"
                      ],
                      [
                        0.125,
                        "rgb(222,235,247)"
                      ],
                      [
                        0.25,
                        "rgb(198,219,239)"
                      ],
                      [
                        0.375,
                        "rgb(158,202,225)"
                      ],
                      [
                        0.5,
                        "rgb(107,174,214)"
                      ],
                      [
                        0.625,
                        "rgb(66,146,198)"
                      ],
                      [
                        0.75,
                        "rgb(33,113,181)"
                      ],
                      [
                        0.875,
                        "rgb(8,81,156)"
                      ],
                      [
                        1,
                        "rgb(8,48,107)"
                      ]
                    ],
                    "line": {
                      "color": "Grey",
                      "width": 0.5
                    },
                    "showscale": false
                  },
                  "mode": "markers",
                  "name": "Feasible Trial",
                  "showlegend": false,
                  "type": "scatter",
                  "x": [
                    132,
                    268,
                    224,
                    175,
                    132,
                    106,
                    67,
                    298,
                    51,
                    203,
                    243,
                    177,
                    91,
                    295,
                    169,
                    139,
                    257,
                    217,
                    85,
                    152,
                    191
                  ],
                  "xaxis": "x10",
                  "y": [
                    0.7746741154562384,
                    0.7672253258845437,
                    0.7672253258845437,
                    0.7672253258845437,
                    0.7653631284916201,
                    0.7486033519553073,
                    0.7355679702048418,
                    0.7653631284916201,
                    0.7541899441340782,
                    0.7690875232774674,
                    0.7597765363128491,
                    0.7597765363128491,
                    0.7039106145251397,
                    0.7728119180633147,
                    0.7783985102420856,
                    0.7467411545623835,
                    0.7709497206703911,
                    0.750465549348231,
                    0.7597765363128491,
                    0.7374301675977654,
                    0.7709497206703911
                  ],
                  "yaxis": "y10"
                }
              ],
              "layout": {
                "template": {
                  "data": {
                    "bar": [
                      {
                        "error_x": {
                          "color": "#2a3f5f"
                        },
                        "error_y": {
                          "color": "#2a3f5f"
                        },
                        "marker": {
                          "line": {
                            "color": "#E5ECF6",
                            "width": 0.5
                          },
                          "pattern": {
                            "fillmode": "overlay",
                            "size": 10,
                            "solidity": 0.2
                          }
                        },
                        "type": "bar"
                      }
                    ],
                    "barpolar": [
                      {
                        "marker": {
                          "line": {
                            "color": "#E5ECF6",
                            "width": 0.5
                          },
                          "pattern": {
                            "fillmode": "overlay",
                            "size": 10,
                            "solidity": 0.2
                          }
                        },
                        "type": "barpolar"
                      }
                    ],
                    "carpet": [
                      {
                        "aaxis": {
                          "endlinecolor": "#2a3f5f",
                          "gridcolor": "white",
                          "linecolor": "white",
                          "minorgridcolor": "white",
                          "startlinecolor": "#2a3f5f"
                        },
                        "baxis": {
                          "endlinecolor": "#2a3f5f",
                          "gridcolor": "white",
                          "linecolor": "white",
                          "minorgridcolor": "white",
                          "startlinecolor": "#2a3f5f"
                        },
                        "type": "carpet"
                      }
                    ],
                    "choropleth": [
                      {
                        "colorbar": {
                          "outlinewidth": 0,
                          "ticks": ""
                        },
                        "type": "choropleth"
                      }
                    ],
                    "contour": [
                      {
                        "colorbar": {
                          "outlinewidth": 0,
                          "ticks": ""
                        },
                        "colorscale": [
                          [
                            0,
                            "#0d0887"
                          ],
                          [
                            0.1111111111111111,
                            "#46039f"
                          ],
                          [
                            0.2222222222222222,
                            "#7201a8"
                          ],
                          [
                            0.3333333333333333,
                            "#9c179e"
                          ],
                          [
                            0.4444444444444444,
                            "#bd3786"
                          ],
                          [
                            0.5555555555555556,
                            "#d8576b"
                          ],
                          [
                            0.6666666666666666,
                            "#ed7953"
                          ],
                          [
                            0.7777777777777778,
                            "#fb9f3a"
                          ],
                          [
                            0.8888888888888888,
                            "#fdca26"
                          ],
                          [
                            1,
                            "#f0f921"
                          ]
                        ],
                        "type": "contour"
                      }
                    ],
                    "contourcarpet": [
                      {
                        "colorbar": {
                          "outlinewidth": 0,
                          "ticks": ""
                        },
                        "type": "contourcarpet"
                      }
                    ],
                    "heatmap": [
                      {
                        "colorbar": {
                          "outlinewidth": 0,
                          "ticks": ""
                        },
                        "colorscale": [
                          [
                            0,
                            "#0d0887"
                          ],
                          [
                            0.1111111111111111,
                            "#46039f"
                          ],
                          [
                            0.2222222222222222,
                            "#7201a8"
                          ],
                          [
                            0.3333333333333333,
                            "#9c179e"
                          ],
                          [
                            0.4444444444444444,
                            "#bd3786"
                          ],
                          [
                            0.5555555555555556,
                            "#d8576b"
                          ],
                          [
                            0.6666666666666666,
                            "#ed7953"
                          ],
                          [
                            0.7777777777777778,
                            "#fb9f3a"
                          ],
                          [
                            0.8888888888888888,
                            "#fdca26"
                          ],
                          [
                            1,
                            "#f0f921"
                          ]
                        ],
                        "type": "heatmap"
                      }
                    ],
                    "heatmapgl": [
                      {
                        "colorbar": {
                          "outlinewidth": 0,
                          "ticks": ""
                        },
                        "colorscale": [
                          [
                            0,
                            "#0d0887"
                          ],
                          [
                            0.1111111111111111,
                            "#46039f"
                          ],
                          [
                            0.2222222222222222,
                            "#7201a8"
                          ],
                          [
                            0.3333333333333333,
                            "#9c179e"
                          ],
                          [
                            0.4444444444444444,
                            "#bd3786"
                          ],
                          [
                            0.5555555555555556,
                            "#d8576b"
                          ],
                          [
                            0.6666666666666666,
                            "#ed7953"
                          ],
                          [
                            0.7777777777777778,
                            "#fb9f3a"
                          ],
                          [
                            0.8888888888888888,
                            "#fdca26"
                          ],
                          [
                            1,
                            "#f0f921"
                          ]
                        ],
                        "type": "heatmapgl"
                      }
                    ],
                    "histogram": [
                      {
                        "marker": {
                          "pattern": {
                            "fillmode": "overlay",
                            "size": 10,
                            "solidity": 0.2
                          }
                        },
                        "type": "histogram"
                      }
                    ],
                    "histogram2d": [
                      {
                        "colorbar": {
                          "outlinewidth": 0,
                          "ticks": ""
                        },
                        "colorscale": [
                          [
                            0,
                            "#0d0887"
                          ],
                          [
                            0.1111111111111111,
                            "#46039f"
                          ],
                          [
                            0.2222222222222222,
                            "#7201a8"
                          ],
                          [
                            0.3333333333333333,
                            "#9c179e"
                          ],
                          [
                            0.4444444444444444,
                            "#bd3786"
                          ],
                          [
                            0.5555555555555556,
                            "#d8576b"
                          ],
                          [
                            0.6666666666666666,
                            "#ed7953"
                          ],
                          [
                            0.7777777777777778,
                            "#fb9f3a"
                          ],
                          [
                            0.8888888888888888,
                            "#fdca26"
                          ],
                          [
                            1,
                            "#f0f921"
                          ]
                        ],
                        "type": "histogram2d"
                      }
                    ],
                    "histogram2dcontour": [
                      {
                        "colorbar": {
                          "outlinewidth": 0,
                          "ticks": ""
                        },
                        "colorscale": [
                          [
                            0,
                            "#0d0887"
                          ],
                          [
                            0.1111111111111111,
                            "#46039f"
                          ],
                          [
                            0.2222222222222222,
                            "#7201a8"
                          ],
                          [
                            0.3333333333333333,
                            "#9c179e"
                          ],
                          [
                            0.4444444444444444,
                            "#bd3786"
                          ],
                          [
                            0.5555555555555556,
                            "#d8576b"
                          ],
                          [
                            0.6666666666666666,
                            "#ed7953"
                          ],
                          [
                            0.7777777777777778,
                            "#fb9f3a"
                          ],
                          [
                            0.8888888888888888,
                            "#fdca26"
                          ],
                          [
                            1,
                            "#f0f921"
                          ]
                        ],
                        "type": "histogram2dcontour"
                      }
                    ],
                    "mesh3d": [
                      {
                        "colorbar": {
                          "outlinewidth": 0,
                          "ticks": ""
                        },
                        "type": "mesh3d"
                      }
                    ],
                    "parcoords": [
                      {
                        "line": {
                          "colorbar": {
                            "outlinewidth": 0,
                            "ticks": ""
                          }
                        },
                        "type": "parcoords"
                      }
                    ],
                    "pie": [
                      {
                        "automargin": true,
                        "type": "pie"
                      }
                    ],
                    "scatter": [
                      {
                        "fillpattern": {
                          "fillmode": "overlay",
                          "size": 10,
                          "solidity": 0.2
                        },
                        "type": "scatter"
                      }
                    ],
                    "scatter3d": [
                      {
                        "line": {
                          "colorbar": {
                            "outlinewidth": 0,
                            "ticks": ""
                          }
                        },
                        "marker": {
                          "colorbar": {
                            "outlinewidth": 0,
                            "ticks": ""
                          }
                        },
                        "type": "scatter3d"
                      }
                    ],
                    "scattercarpet": [
                      {
                        "marker": {
                          "colorbar": {
                            "outlinewidth": 0,
                            "ticks": ""
                          }
                        },
                        "type": "scattercarpet"
                      }
                    ],
                    "scattergeo": [
                      {
                        "marker": {
                          "colorbar": {
                            "outlinewidth": 0,
                            "ticks": ""
                          }
                        },
                        "type": "scattergeo"
                      }
                    ],
                    "scattergl": [
                      {
                        "marker": {
                          "colorbar": {
                            "outlinewidth": 0,
                            "ticks": ""
                          }
                        },
                        "type": "scattergl"
                      }
                    ],
                    "scattermapbox": [
                      {
                        "marker": {
                          "colorbar": {
                            "outlinewidth": 0,
                            "ticks": ""
                          }
                        },
                        "type": "scattermapbox"
                      }
                    ],
                    "scatterpolar": [
                      {
                        "marker": {
                          "colorbar": {
                            "outlinewidth": 0,
                            "ticks": ""
                          }
                        },
                        "type": "scatterpolar"
                      }
                    ],
                    "scatterpolargl": [
                      {
                        "marker": {
                          "colorbar": {
                            "outlinewidth": 0,
                            "ticks": ""
                          }
                        },
                        "type": "scatterpolargl"
                      }
                    ],
                    "scatterternary": [
                      {
                        "marker": {
                          "colorbar": {
                            "outlinewidth": 0,
                            "ticks": ""
                          }
                        },
                        "type": "scatterternary"
                      }
                    ],
                    "surface": [
                      {
                        "colorbar": {
                          "outlinewidth": 0,
                          "ticks": ""
                        },
                        "colorscale": [
                          [
                            0,
                            "#0d0887"
                          ],
                          [
                            0.1111111111111111,
                            "#46039f"
                          ],
                          [
                            0.2222222222222222,
                            "#7201a8"
                          ],
                          [
                            0.3333333333333333,
                            "#9c179e"
                          ],
                          [
                            0.4444444444444444,
                            "#bd3786"
                          ],
                          [
                            0.5555555555555556,
                            "#d8576b"
                          ],
                          [
                            0.6666666666666666,
                            "#ed7953"
                          ],
                          [
                            0.7777777777777778,
                            "#fb9f3a"
                          ],
                          [
                            0.8888888888888888,
                            "#fdca26"
                          ],
                          [
                            1,
                            "#f0f921"
                          ]
                        ],
                        "type": "surface"
                      }
                    ],
                    "table": [
                      {
                        "cells": {
                          "fill": {
                            "color": "#EBF0F8"
                          },
                          "line": {
                            "color": "white"
                          }
                        },
                        "header": {
                          "fill": {
                            "color": "#C8D4E3"
                          },
                          "line": {
                            "color": "white"
                          }
                        },
                        "type": "table"
                      }
                    ]
                  },
                  "layout": {
                    "annotationdefaults": {
                      "arrowcolor": "#2a3f5f",
                      "arrowhead": 0,
                      "arrowwidth": 1
                    },
                    "autotypenumbers": "strict",
                    "coloraxis": {
                      "colorbar": {
                        "outlinewidth": 0,
                        "ticks": ""
                      }
                    },
                    "colorscale": {
                      "diverging": [
                        [
                          0,
                          "#8e0152"
                        ],
                        [
                          0.1,
                          "#c51b7d"
                        ],
                        [
                          0.2,
                          "#de77ae"
                        ],
                        [
                          0.3,
                          "#f1b6da"
                        ],
                        [
                          0.4,
                          "#fde0ef"
                        ],
                        [
                          0.5,
                          "#f7f7f7"
                        ],
                        [
                          0.6,
                          "#e6f5d0"
                        ],
                        [
                          0.7,
                          "#b8e186"
                        ],
                        [
                          0.8,
                          "#7fbc41"
                        ],
                        [
                          0.9,
                          "#4d9221"
                        ],
                        [
                          1,
                          "#276419"
                        ]
                      ],
                      "sequential": [
                        [
                          0,
                          "#0d0887"
                        ],
                        [
                          0.1111111111111111,
                          "#46039f"
                        ],
                        [
                          0.2222222222222222,
                          "#7201a8"
                        ],
                        [
                          0.3333333333333333,
                          "#9c179e"
                        ],
                        [
                          0.4444444444444444,
                          "#bd3786"
                        ],
                        [
                          0.5555555555555556,
                          "#d8576b"
                        ],
                        [
                          0.6666666666666666,
                          "#ed7953"
                        ],
                        [
                          0.7777777777777778,
                          "#fb9f3a"
                        ],
                        [
                          0.8888888888888888,
                          "#fdca26"
                        ],
                        [
                          1,
                          "#f0f921"
                        ]
                      ],
                      "sequentialminus": [
                        [
                          0,
                          "#0d0887"
                        ],
                        [
                          0.1111111111111111,
                          "#46039f"
                        ],
                        [
                          0.2222222222222222,
                          "#7201a8"
                        ],
                        [
                          0.3333333333333333,
                          "#9c179e"
                        ],
                        [
                          0.4444444444444444,
                          "#bd3786"
                        ],
                        [
                          0.5555555555555556,
                          "#d8576b"
                        ],
                        [
                          0.6666666666666666,
                          "#ed7953"
                        ],
                        [
                          0.7777777777777778,
                          "#fb9f3a"
                        ],
                        [
                          0.8888888888888888,
                          "#fdca26"
                        ],
                        [
                          1,
                          "#f0f921"
                        ]
                      ]
                    },
                    "colorway": [
                      "#636efa",
                      "#EF553B",
                      "#00cc96",
                      "#ab63fa",
                      "#FFA15A",
                      "#19d3f3",
                      "#FF6692",
                      "#B6E880",
                      "#FF97FF",
                      "#FECB52"
                    ],
                    "font": {
                      "color": "#2a3f5f"
                    },
                    "geo": {
                      "bgcolor": "white",
                      "lakecolor": "white",
                      "landcolor": "#E5ECF6",
                      "showlakes": true,
                      "showland": true,
                      "subunitcolor": "white"
                    },
                    "hoverlabel": {
                      "align": "left"
                    },
                    "hovermode": "closest",
                    "mapbox": {
                      "style": "light"
                    },
                    "paper_bgcolor": "white",
                    "plot_bgcolor": "#E5ECF6",
                    "polar": {
                      "angularaxis": {
                        "gridcolor": "white",
                        "linecolor": "white",
                        "ticks": ""
                      },
                      "bgcolor": "#E5ECF6",
                      "radialaxis": {
                        "gridcolor": "white",
                        "linecolor": "white",
                        "ticks": ""
                      }
                    },
                    "scene": {
                      "xaxis": {
                        "backgroundcolor": "#E5ECF6",
                        "gridcolor": "white",
                        "gridwidth": 2,
                        "linecolor": "white",
                        "showbackground": true,
                        "ticks": "",
                        "zerolinecolor": "white"
                      },
                      "yaxis": {
                        "backgroundcolor": "#E5ECF6",
                        "gridcolor": "white",
                        "gridwidth": 2,
                        "linecolor": "white",
                        "showbackground": true,
                        "ticks": "",
                        "zerolinecolor": "white"
                      },
                      "zaxis": {
                        "backgroundcolor": "#E5ECF6",
                        "gridcolor": "white",
                        "gridwidth": 2,
                        "linecolor": "white",
                        "showbackground": true,
                        "ticks": "",
                        "zerolinecolor": "white"
                      }
                    },
                    "shapedefaults": {
                      "line": {
                        "color": "#2a3f5f"
                      }
                    },
                    "ternary": {
                      "aaxis": {
                        "gridcolor": "white",
                        "linecolor": "white",
                        "ticks": ""
                      },
                      "baxis": {
                        "gridcolor": "white",
                        "linecolor": "white",
                        "ticks": ""
                      },
                      "bgcolor": "#E5ECF6",
                      "caxis": {
                        "gridcolor": "white",
                        "linecolor": "white",
                        "ticks": ""
                      }
                    },
                    "title": {
                      "x": 0.05
                    },
                    "xaxis": {
                      "automargin": true,
                      "gridcolor": "white",
                      "linecolor": "white",
                      "ticks": "",
                      "title": {
                        "standoff": 15
                      },
                      "zerolinecolor": "white",
                      "zerolinewidth": 2
                    },
                    "yaxis": {
                      "automargin": true,
                      "gridcolor": "white",
                      "linecolor": "white",
                      "ticks": "",
                      "title": {
                        "standoff": 15
                      },
                      "zerolinecolor": "white",
                      "zerolinewidth": 2
                    }
                  }
                },
                "title": {
                  "text": "Slice Plot"
                },
                "width": 3000,
                "xaxis": {
                  "anchor": "y",
                  "domain": [
                    0,
                    0.082
                  ],
                  "title": {
                    "text": "C"
                  },
                  "type": "log"
                },
                "xaxis10": {
                  "anchor": "y10",
                  "domain": [
                    0.9179999999999999,
                    0.9999999999999999
                  ],
                  "title": {
                    "text": "n_estimators"
                  }
                },
                "xaxis2": {
                  "anchor": "y2",
                  "categoryarray": [
                    true,
                    false
                  ],
                  "categoryorder": "array",
                  "domain": [
                    0.10200000000000001,
                    0.184
                  ],
                  "title": {
                    "text": "bootstrap"
                  },
                  "type": "category"
                },
                "xaxis3": {
                  "anchor": "y3",
                  "categoryarray": [
                    "SVM",
                    "RandomForest",
                    "GradientBoosting"
                  ],
                  "categoryorder": "array",
                  "domain": [
                    0.20400000000000001,
                    0.28600000000000003
                  ],
                  "title": {
                    "text": "classifier"
                  },
                  "type": "category"
                },
                "xaxis4": {
                  "anchor": "y4",
                  "categoryarray": [
                    "scale",
                    "auto"
                  ],
                  "categoryorder": "array",
                  "domain": [
                    0.306,
                    0.388
                  ],
                  "title": {
                    "text": "gamma"
                  },
                  "type": "category"
                },
                "xaxis5": {
                  "anchor": "y5",
                  "categoryarray": [
                    "linear",
                    "rbf",
                    "poly",
                    "sigmoid"
                  ],
                  "categoryorder": "array",
                  "domain": [
                    0.40800000000000003,
                    0.49000000000000005
                  ],
                  "title": {
                    "text": "kernel"
                  },
                  "type": "category"
                },
                "xaxis6": {
                  "anchor": "y6",
                  "domain": [
                    0.51,
                    0.592
                  ],
                  "title": {
                    "text": "learning_rate"
                  },
                  "type": "log"
                },
                "xaxis7": {
                  "anchor": "y7",
                  "domain": [
                    0.612,
                    0.694
                  ],
                  "title": {
                    "text": "max_depth"
                  }
                },
                "xaxis8": {
                  "anchor": "y8",
                  "domain": [
                    0.7140000000000001,
                    0.796
                  ],
                  "title": {
                    "text": "min_samples_leaf"
                  }
                },
                "xaxis9": {
                  "anchor": "y9",
                  "domain": [
                    0.8160000000000001,
                    0.898
                  ],
                  "title": {
                    "text": "min_samples_split"
                  }
                },
                "yaxis": {
                  "anchor": "x",
                  "domain": [
                    0,
                    1
                  ],
                  "title": {
                    "text": "Objective Value"
                  }
                },
                "yaxis10": {
                  "anchor": "x10",
                  "domain": [
                    0,
                    1
                  ],
                  "matches": "y",
                  "showticklabels": false
                },
                "yaxis2": {
                  "anchor": "x2",
                  "domain": [
                    0,
                    1
                  ],
                  "matches": "y",
                  "showticklabels": false
                },
                "yaxis3": {
                  "anchor": "x3",
                  "domain": [
                    0,
                    1
                  ],
                  "matches": "y",
                  "showticklabels": false
                },
                "yaxis4": {
                  "anchor": "x4",
                  "domain": [
                    0,
                    1
                  ],
                  "matches": "y",
                  "showticklabels": false
                },
                "yaxis5": {
                  "anchor": "x5",
                  "domain": [
                    0,
                    1
                  ],
                  "matches": "y",
                  "showticklabels": false
                },
                "yaxis6": {
                  "anchor": "x6",
                  "domain": [
                    0,
                    1
                  ],
                  "matches": "y",
                  "showticklabels": false
                },
                "yaxis7": {
                  "anchor": "x7",
                  "domain": [
                    0,
                    1
                  ],
                  "matches": "y",
                  "showticklabels": false
                },
                "yaxis8": {
                  "anchor": "x8",
                  "domain": [
                    0,
                    1
                  ],
                  "matches": "y",
                  "showticklabels": false
                },
                "yaxis9": {
                  "anchor": "x9",
                  "domain": [
                    0,
                    1
                  ],
                  "matches": "y",
                  "showticklabels": false
                }
              }
            }
          },
          "metadata": {},
          "output_type": "display_data"
        }
      ],
      "source": [
        "# 3. Slice Plot\n",
        "plot_slice(study).show()"
      ]
    },
    {
      "cell_type": "code",
      "execution_count": 31,
      "metadata": {
        "colab": {
          "base_uri": "https://localhost:8080/",
          "height": 542
        },
        "id": "rUhujoemC4hI",
        "outputId": "1928b7b9-16f5-4ac1-8370-a94e5e639bc6"
      },
      "outputs": [
        {
          "data": {
            "application/vnd.plotly.v1+json": {
              "config": {
                "plotlyServerURL": "https://plot.ly"
              },
              "data": [
                {
                  "cliponaxis": false,
                  "hovertemplate": [
                    "classifier (CategoricalDistribution): 1.0<extra></extra>"
                  ],
                  "name": "Objective Value",
                  "orientation": "h",
                  "text": [
                    "1.00"
                  ],
                  "textposition": "outside",
                  "type": "bar",
                  "x": [
                    1
                  ],
                  "y": [
                    "classifier"
                  ]
                }
              ],
              "layout": {
                "template": {
                  "data": {
                    "bar": [
                      {
                        "error_x": {
                          "color": "#2a3f5f"
                        },
                        "error_y": {
                          "color": "#2a3f5f"
                        },
                        "marker": {
                          "line": {
                            "color": "#E5ECF6",
                            "width": 0.5
                          },
                          "pattern": {
                            "fillmode": "overlay",
                            "size": 10,
                            "solidity": 0.2
                          }
                        },
                        "type": "bar"
                      }
                    ],
                    "barpolar": [
                      {
                        "marker": {
                          "line": {
                            "color": "#E5ECF6",
                            "width": 0.5
                          },
                          "pattern": {
                            "fillmode": "overlay",
                            "size": 10,
                            "solidity": 0.2
                          }
                        },
                        "type": "barpolar"
                      }
                    ],
                    "carpet": [
                      {
                        "aaxis": {
                          "endlinecolor": "#2a3f5f",
                          "gridcolor": "white",
                          "linecolor": "white",
                          "minorgridcolor": "white",
                          "startlinecolor": "#2a3f5f"
                        },
                        "baxis": {
                          "endlinecolor": "#2a3f5f",
                          "gridcolor": "white",
                          "linecolor": "white",
                          "minorgridcolor": "white",
                          "startlinecolor": "#2a3f5f"
                        },
                        "type": "carpet"
                      }
                    ],
                    "choropleth": [
                      {
                        "colorbar": {
                          "outlinewidth": 0,
                          "ticks": ""
                        },
                        "type": "choropleth"
                      }
                    ],
                    "contour": [
                      {
                        "colorbar": {
                          "outlinewidth": 0,
                          "ticks": ""
                        },
                        "colorscale": [
                          [
                            0,
                            "#0d0887"
                          ],
                          [
                            0.1111111111111111,
                            "#46039f"
                          ],
                          [
                            0.2222222222222222,
                            "#7201a8"
                          ],
                          [
                            0.3333333333333333,
                            "#9c179e"
                          ],
                          [
                            0.4444444444444444,
                            "#bd3786"
                          ],
                          [
                            0.5555555555555556,
                            "#d8576b"
                          ],
                          [
                            0.6666666666666666,
                            "#ed7953"
                          ],
                          [
                            0.7777777777777778,
                            "#fb9f3a"
                          ],
                          [
                            0.8888888888888888,
                            "#fdca26"
                          ],
                          [
                            1,
                            "#f0f921"
                          ]
                        ],
                        "type": "contour"
                      }
                    ],
                    "contourcarpet": [
                      {
                        "colorbar": {
                          "outlinewidth": 0,
                          "ticks": ""
                        },
                        "type": "contourcarpet"
                      }
                    ],
                    "heatmap": [
                      {
                        "colorbar": {
                          "outlinewidth": 0,
                          "ticks": ""
                        },
                        "colorscale": [
                          [
                            0,
                            "#0d0887"
                          ],
                          [
                            0.1111111111111111,
                            "#46039f"
                          ],
                          [
                            0.2222222222222222,
                            "#7201a8"
                          ],
                          [
                            0.3333333333333333,
                            "#9c179e"
                          ],
                          [
                            0.4444444444444444,
                            "#bd3786"
                          ],
                          [
                            0.5555555555555556,
                            "#d8576b"
                          ],
                          [
                            0.6666666666666666,
                            "#ed7953"
                          ],
                          [
                            0.7777777777777778,
                            "#fb9f3a"
                          ],
                          [
                            0.8888888888888888,
                            "#fdca26"
                          ],
                          [
                            1,
                            "#f0f921"
                          ]
                        ],
                        "type": "heatmap"
                      }
                    ],
                    "heatmapgl": [
                      {
                        "colorbar": {
                          "outlinewidth": 0,
                          "ticks": ""
                        },
                        "colorscale": [
                          [
                            0,
                            "#0d0887"
                          ],
                          [
                            0.1111111111111111,
                            "#46039f"
                          ],
                          [
                            0.2222222222222222,
                            "#7201a8"
                          ],
                          [
                            0.3333333333333333,
                            "#9c179e"
                          ],
                          [
                            0.4444444444444444,
                            "#bd3786"
                          ],
                          [
                            0.5555555555555556,
                            "#d8576b"
                          ],
                          [
                            0.6666666666666666,
                            "#ed7953"
                          ],
                          [
                            0.7777777777777778,
                            "#fb9f3a"
                          ],
                          [
                            0.8888888888888888,
                            "#fdca26"
                          ],
                          [
                            1,
                            "#f0f921"
                          ]
                        ],
                        "type": "heatmapgl"
                      }
                    ],
                    "histogram": [
                      {
                        "marker": {
                          "pattern": {
                            "fillmode": "overlay",
                            "size": 10,
                            "solidity": 0.2
                          }
                        },
                        "type": "histogram"
                      }
                    ],
                    "histogram2d": [
                      {
                        "colorbar": {
                          "outlinewidth": 0,
                          "ticks": ""
                        },
                        "colorscale": [
                          [
                            0,
                            "#0d0887"
                          ],
                          [
                            0.1111111111111111,
                            "#46039f"
                          ],
                          [
                            0.2222222222222222,
                            "#7201a8"
                          ],
                          [
                            0.3333333333333333,
                            "#9c179e"
                          ],
                          [
                            0.4444444444444444,
                            "#bd3786"
                          ],
                          [
                            0.5555555555555556,
                            "#d8576b"
                          ],
                          [
                            0.6666666666666666,
                            "#ed7953"
                          ],
                          [
                            0.7777777777777778,
                            "#fb9f3a"
                          ],
                          [
                            0.8888888888888888,
                            "#fdca26"
                          ],
                          [
                            1,
                            "#f0f921"
                          ]
                        ],
                        "type": "histogram2d"
                      }
                    ],
                    "histogram2dcontour": [
                      {
                        "colorbar": {
                          "outlinewidth": 0,
                          "ticks": ""
                        },
                        "colorscale": [
                          [
                            0,
                            "#0d0887"
                          ],
                          [
                            0.1111111111111111,
                            "#46039f"
                          ],
                          [
                            0.2222222222222222,
                            "#7201a8"
                          ],
                          [
                            0.3333333333333333,
                            "#9c179e"
                          ],
                          [
                            0.4444444444444444,
                            "#bd3786"
                          ],
                          [
                            0.5555555555555556,
                            "#d8576b"
                          ],
                          [
                            0.6666666666666666,
                            "#ed7953"
                          ],
                          [
                            0.7777777777777778,
                            "#fb9f3a"
                          ],
                          [
                            0.8888888888888888,
                            "#fdca26"
                          ],
                          [
                            1,
                            "#f0f921"
                          ]
                        ],
                        "type": "histogram2dcontour"
                      }
                    ],
                    "mesh3d": [
                      {
                        "colorbar": {
                          "outlinewidth": 0,
                          "ticks": ""
                        },
                        "type": "mesh3d"
                      }
                    ],
                    "parcoords": [
                      {
                        "line": {
                          "colorbar": {
                            "outlinewidth": 0,
                            "ticks": ""
                          }
                        },
                        "type": "parcoords"
                      }
                    ],
                    "pie": [
                      {
                        "automargin": true,
                        "type": "pie"
                      }
                    ],
                    "scatter": [
                      {
                        "fillpattern": {
                          "fillmode": "overlay",
                          "size": 10,
                          "solidity": 0.2
                        },
                        "type": "scatter"
                      }
                    ],
                    "scatter3d": [
                      {
                        "line": {
                          "colorbar": {
                            "outlinewidth": 0,
                            "ticks": ""
                          }
                        },
                        "marker": {
                          "colorbar": {
                            "outlinewidth": 0,
                            "ticks": ""
                          }
                        },
                        "type": "scatter3d"
                      }
                    ],
                    "scattercarpet": [
                      {
                        "marker": {
                          "colorbar": {
                            "outlinewidth": 0,
                            "ticks": ""
                          }
                        },
                        "type": "scattercarpet"
                      }
                    ],
                    "scattergeo": [
                      {
                        "marker": {
                          "colorbar": {
                            "outlinewidth": 0,
                            "ticks": ""
                          }
                        },
                        "type": "scattergeo"
                      }
                    ],
                    "scattergl": [
                      {
                        "marker": {
                          "colorbar": {
                            "outlinewidth": 0,
                            "ticks": ""
                          }
                        },
                        "type": "scattergl"
                      }
                    ],
                    "scattermapbox": [
                      {
                        "marker": {
                          "colorbar": {
                            "outlinewidth": 0,
                            "ticks": ""
                          }
                        },
                        "type": "scattermapbox"
                      }
                    ],
                    "scatterpolar": [
                      {
                        "marker": {
                          "colorbar": {
                            "outlinewidth": 0,
                            "ticks": ""
                          }
                        },
                        "type": "scatterpolar"
                      }
                    ],
                    "scatterpolargl": [
                      {
                        "marker": {
                          "colorbar": {
                            "outlinewidth": 0,
                            "ticks": ""
                          }
                        },
                        "type": "scatterpolargl"
                      }
                    ],
                    "scatterternary": [
                      {
                        "marker": {
                          "colorbar": {
                            "outlinewidth": 0,
                            "ticks": ""
                          }
                        },
                        "type": "scatterternary"
                      }
                    ],
                    "surface": [
                      {
                        "colorbar": {
                          "outlinewidth": 0,
                          "ticks": ""
                        },
                        "colorscale": [
                          [
                            0,
                            "#0d0887"
                          ],
                          [
                            0.1111111111111111,
                            "#46039f"
                          ],
                          [
                            0.2222222222222222,
                            "#7201a8"
                          ],
                          [
                            0.3333333333333333,
                            "#9c179e"
                          ],
                          [
                            0.4444444444444444,
                            "#bd3786"
                          ],
                          [
                            0.5555555555555556,
                            "#d8576b"
                          ],
                          [
                            0.6666666666666666,
                            "#ed7953"
                          ],
                          [
                            0.7777777777777778,
                            "#fb9f3a"
                          ],
                          [
                            0.8888888888888888,
                            "#fdca26"
                          ],
                          [
                            1,
                            "#f0f921"
                          ]
                        ],
                        "type": "surface"
                      }
                    ],
                    "table": [
                      {
                        "cells": {
                          "fill": {
                            "color": "#EBF0F8"
                          },
                          "line": {
                            "color": "white"
                          }
                        },
                        "header": {
                          "fill": {
                            "color": "#C8D4E3"
                          },
                          "line": {
                            "color": "white"
                          }
                        },
                        "type": "table"
                      }
                    ]
                  },
                  "layout": {
                    "annotationdefaults": {
                      "arrowcolor": "#2a3f5f",
                      "arrowhead": 0,
                      "arrowwidth": 1
                    },
                    "autotypenumbers": "strict",
                    "coloraxis": {
                      "colorbar": {
                        "outlinewidth": 0,
                        "ticks": ""
                      }
                    },
                    "colorscale": {
                      "diverging": [
                        [
                          0,
                          "#8e0152"
                        ],
                        [
                          0.1,
                          "#c51b7d"
                        ],
                        [
                          0.2,
                          "#de77ae"
                        ],
                        [
                          0.3,
                          "#f1b6da"
                        ],
                        [
                          0.4,
                          "#fde0ef"
                        ],
                        [
                          0.5,
                          "#f7f7f7"
                        ],
                        [
                          0.6,
                          "#e6f5d0"
                        ],
                        [
                          0.7,
                          "#b8e186"
                        ],
                        [
                          0.8,
                          "#7fbc41"
                        ],
                        [
                          0.9,
                          "#4d9221"
                        ],
                        [
                          1,
                          "#276419"
                        ]
                      ],
                      "sequential": [
                        [
                          0,
                          "#0d0887"
                        ],
                        [
                          0.1111111111111111,
                          "#46039f"
                        ],
                        [
                          0.2222222222222222,
                          "#7201a8"
                        ],
                        [
                          0.3333333333333333,
                          "#9c179e"
                        ],
                        [
                          0.4444444444444444,
                          "#bd3786"
                        ],
                        [
                          0.5555555555555556,
                          "#d8576b"
                        ],
                        [
                          0.6666666666666666,
                          "#ed7953"
                        ],
                        [
                          0.7777777777777778,
                          "#fb9f3a"
                        ],
                        [
                          0.8888888888888888,
                          "#fdca26"
                        ],
                        [
                          1,
                          "#f0f921"
                        ]
                      ],
                      "sequentialminus": [
                        [
                          0,
                          "#0d0887"
                        ],
                        [
                          0.1111111111111111,
                          "#46039f"
                        ],
                        [
                          0.2222222222222222,
                          "#7201a8"
                        ],
                        [
                          0.3333333333333333,
                          "#9c179e"
                        ],
                        [
                          0.4444444444444444,
                          "#bd3786"
                        ],
                        [
                          0.5555555555555556,
                          "#d8576b"
                        ],
                        [
                          0.6666666666666666,
                          "#ed7953"
                        ],
                        [
                          0.7777777777777778,
                          "#fb9f3a"
                        ],
                        [
                          0.8888888888888888,
                          "#fdca26"
                        ],
                        [
                          1,
                          "#f0f921"
                        ]
                      ]
                    },
                    "colorway": [
                      "#636efa",
                      "#EF553B",
                      "#00cc96",
                      "#ab63fa",
                      "#FFA15A",
                      "#19d3f3",
                      "#FF6692",
                      "#B6E880",
                      "#FF97FF",
                      "#FECB52"
                    ],
                    "font": {
                      "color": "#2a3f5f"
                    },
                    "geo": {
                      "bgcolor": "white",
                      "lakecolor": "white",
                      "landcolor": "#E5ECF6",
                      "showlakes": true,
                      "showland": true,
                      "subunitcolor": "white"
                    },
                    "hoverlabel": {
                      "align": "left"
                    },
                    "hovermode": "closest",
                    "mapbox": {
                      "style": "light"
                    },
                    "paper_bgcolor": "white",
                    "plot_bgcolor": "#E5ECF6",
                    "polar": {
                      "angularaxis": {
                        "gridcolor": "white",
                        "linecolor": "white",
                        "ticks": ""
                      },
                      "bgcolor": "#E5ECF6",
                      "radialaxis": {
                        "gridcolor": "white",
                        "linecolor": "white",
                        "ticks": ""
                      }
                    },
                    "scene": {
                      "xaxis": {
                        "backgroundcolor": "#E5ECF6",
                        "gridcolor": "white",
                        "gridwidth": 2,
                        "linecolor": "white",
                        "showbackground": true,
                        "ticks": "",
                        "zerolinecolor": "white"
                      },
                      "yaxis": {
                        "backgroundcolor": "#E5ECF6",
                        "gridcolor": "white",
                        "gridwidth": 2,
                        "linecolor": "white",
                        "showbackground": true,
                        "ticks": "",
                        "zerolinecolor": "white"
                      },
                      "zaxis": {
                        "backgroundcolor": "#E5ECF6",
                        "gridcolor": "white",
                        "gridwidth": 2,
                        "linecolor": "white",
                        "showbackground": true,
                        "ticks": "",
                        "zerolinecolor": "white"
                      }
                    },
                    "shapedefaults": {
                      "line": {
                        "color": "#2a3f5f"
                      }
                    },
                    "ternary": {
                      "aaxis": {
                        "gridcolor": "white",
                        "linecolor": "white",
                        "ticks": ""
                      },
                      "baxis": {
                        "gridcolor": "white",
                        "linecolor": "white",
                        "ticks": ""
                      },
                      "bgcolor": "#E5ECF6",
                      "caxis": {
                        "gridcolor": "white",
                        "linecolor": "white",
                        "ticks": ""
                      }
                    },
                    "title": {
                      "x": 0.05
                    },
                    "xaxis": {
                      "automargin": true,
                      "gridcolor": "white",
                      "linecolor": "white",
                      "ticks": "",
                      "title": {
                        "standoff": 15
                      },
                      "zerolinecolor": "white",
                      "zerolinewidth": 2
                    },
                    "yaxis": {
                      "automargin": true,
                      "gridcolor": "white",
                      "linecolor": "white",
                      "ticks": "",
                      "title": {
                        "standoff": 15
                      },
                      "zerolinecolor": "white",
                      "zerolinewidth": 2
                    }
                  }
                },
                "title": {
                  "text": "Hyperparameter Importances"
                },
                "xaxis": {
                  "title": {
                    "text": "Hyperparameter Importance"
                  }
                },
                "yaxis": {
                  "title": {
                    "text": "Hyperparameter"
                  }
                }
              }
            }
          },
          "metadata": {},
          "output_type": "display_data"
        }
      ],
      "source": [
        "# 5. Hyperparameter Importance\n",
        "plot_param_importances(study).show()"
      ]
    },
    {
      "cell_type": "code",
      "execution_count": 32,
      "metadata": {
        "colab": {
          "base_uri": "https://localhost:8080/"
        },
        "id": "APAwYNxkIwMf",
        "outputId": "204d3690-5f5e-444d-89fa-9c21e6552562"
      },
      "outputs": [
        {
          "name": "stderr",
          "output_type": "stream",
          "text": [
            "[I 2025-09-14 11:38:22,726] A new study created in memory with name: no-name-ec36e1f2-75fe-447e-b7a6-952863dc0dee\n",
            "[W 2025-09-14 11:38:22,746] Trial 0 failed with parameters: {'lambda': 0.0005457593571796749, 'alpha': 0.0019411879555760437, 'eta': 0.09880373222432907, 'gamma': 2.2380449814650623e-08, 'max_depth': 4, 'min_child_weight': 5, 'subsample': 0.9102986353049541, 'colsample_bytree': 0.5574000047489812} because of the following error: ModuleNotFoundError('\\nCould not find `optuna-integration` for `xgboost`.\\nPlease run `pip install optuna-integration[xgboost]`.').\n",
            "Traceback (most recent call last):\n",
            "  File \"c:\\Users\\nasrullah\\.conda\\envs\\python_ml\\Lib\\site-packages\\optuna\\integration\\xgboost.py\", line 5, in <module>\n",
            "    from optuna_integration.xgboost import XGBoostPruningCallback\n",
            "ModuleNotFoundError: No module named 'optuna_integration'\n",
            "\n",
            "During handling of the above exception, another exception occurred:\n",
            "\n",
            "Traceback (most recent call last):\n",
            "  File \"c:\\Users\\nasrullah\\.conda\\envs\\python_ml\\Lib\\site-packages\\optuna\\integration\\__init__.py\", line 132, in _get_module\n",
            "    return importlib.import_module(\".\" + module_name, self.__name__)\n",
            "           ^^^^^^^^^^^^^^^^^^^^^^^^^^^^^^^^^^^^^^^^^^^^^^^^^^^^^^^^^\n",
            "  File \"c:\\Users\\nasrullah\\.conda\\envs\\python_ml\\Lib\\importlib\\__init__.py\", line 90, in import_module\n",
            "    return _bootstrap._gcd_import(name[level:], package, level)\n",
            "           ^^^^^^^^^^^^^^^^^^^^^^^^^^^^^^^^^^^^^^^^^^^^^^^^^^^^\n",
            "  File \"<frozen importlib._bootstrap>\", line 1387, in _gcd_import\n",
            "  File \"<frozen importlib._bootstrap>\", line 1360, in _find_and_load\n",
            "  File \"<frozen importlib._bootstrap>\", line 1331, in _find_and_load_unlocked\n",
            "  File \"<frozen importlib._bootstrap>\", line 935, in _load_unlocked\n",
            "  File \"<frozen importlib._bootstrap_external>\", line 995, in exec_module\n",
            "  File \"<frozen importlib._bootstrap>\", line 488, in _call_with_frames_removed\n",
            "  File \"c:\\Users\\nasrullah\\.conda\\envs\\python_ml\\Lib\\site-packages\\optuna\\integration\\xgboost.py\", line 7, in <module>\n",
            "    raise ModuleNotFoundError(_INTEGRATION_IMPORT_ERROR_TEMPLATE.format(\"xgboost\"))\n",
            "ModuleNotFoundError: \n",
            "Could not find `optuna-integration` for `xgboost`.\n",
            "Please run `pip install optuna-integration[xgboost]`.\n",
            "\n",
            "During handling of the above exception, another exception occurred:\n",
            "\n",
            "Traceback (most recent call last):\n",
            "  File \"c:\\Users\\nasrullah\\.conda\\envs\\python_ml\\Lib\\site-packages\\optuna\\study\\_optimize.py\", line 201, in _run_trial\n",
            "    value_or_values = func(trial)\n",
            "                      ^^^^^^^^^^^\n",
            "  File \"C:\\Users\\nasrullah\\AppData\\Local\\Temp\\ipykernel_1232\\3918831170.py\", line 39, in objective\n",
            "    pruning_callback = optuna.integration.XGBoostPruningCallback(trial, \"eval-mlogloss\")  # Match the metric name in the evals list\n",
            "                       ^^^^^^^^^^^^^^^^^^^^^^^^^^^^^^^^^^^^^^^^^\n",
            "  File \"c:\\Users\\nasrullah\\.conda\\envs\\python_ml\\Lib\\site-packages\\optuna\\integration\\__init__.py\", line 120, in __getattr__\n",
            "    module = self._get_module(self._class_to_module[name])\n",
            "             ^^^^^^^^^^^^^^^^^^^^^^^^^^^^^^^^^^^^^^^^^^^^^\n",
            "  File \"c:\\Users\\nasrullah\\.conda\\envs\\python_ml\\Lib\\site-packages\\optuna\\integration\\__init__.py\", line 134, in _get_module\n",
            "    raise ModuleNotFoundError(_INTEGRATION_IMPORT_ERROR_TEMPLATE.format(module_name))\n",
            "ModuleNotFoundError: \n",
            "Could not find `optuna-integration` for `xgboost`.\n",
            "Please run `pip install optuna-integration[xgboost]`.\n",
            "[W 2025-09-14 11:38:22,785] Trial 0 failed with value None.\n"
          ]
        },
        {
          "ename": "ModuleNotFoundError",
          "evalue": "\nCould not find `optuna-integration` for `xgboost`.\nPlease run `pip install optuna-integration[xgboost]`.",
          "output_type": "error",
          "traceback": [
            "\u001b[1;31m---------------------------------------------------------------------------\u001b[0m",
            "\u001b[1;31mModuleNotFoundError\u001b[0m                       Traceback (most recent call last)",
            "File \u001b[1;32mc:\\Users\\nasrullah\\.conda\\envs\\python_ml\\Lib\\site-packages\\optuna\\integration\\xgboost.py:5\u001b[0m\n\u001b[0;32m      4\u001b[0m \u001b[38;5;28;01mtry\u001b[39;00m:\n\u001b[1;32m----> 5\u001b[0m     \u001b[38;5;28;01mfrom\u001b[39;00m \u001b[38;5;21;01moptuna_integration\u001b[39;00m\u001b[38;5;21;01m.\u001b[39;00m\u001b[38;5;21;01mxgboost\u001b[39;00m \u001b[38;5;28;01mimport\u001b[39;00m XGBoostPruningCallback\n\u001b[0;32m      6\u001b[0m \u001b[38;5;28;01mexcept\u001b[39;00m \u001b[38;5;167;01mModuleNotFoundError\u001b[39;00m:\n",
            "\u001b[1;31mModuleNotFoundError\u001b[0m: No module named 'optuna_integration'",
            "\nDuring handling of the above exception, another exception occurred:\n",
            "\u001b[1;31mModuleNotFoundError\u001b[0m                       Traceback (most recent call last)",
            "File \u001b[1;32mc:\\Users\\nasrullah\\.conda\\envs\\python_ml\\Lib\\site-packages\\optuna\\integration\\__init__.py:132\u001b[0m, in \u001b[0;36m_IntegrationModule._get_module\u001b[1;34m(self, module_name)\u001b[0m\n\u001b[0;32m    131\u001b[0m \u001b[38;5;28;01mtry\u001b[39;00m:\n\u001b[1;32m--> 132\u001b[0m     \u001b[38;5;28;01mreturn\u001b[39;00m importlib\u001b[38;5;241m.\u001b[39mimport_module(\u001b[38;5;124m\"\u001b[39m\u001b[38;5;124m.\u001b[39m\u001b[38;5;124m\"\u001b[39m \u001b[38;5;241m+\u001b[39m module_name, \u001b[38;5;28mself\u001b[39m\u001b[38;5;241m.\u001b[39m\u001b[38;5;18m__name__\u001b[39m)\n\u001b[0;32m    133\u001b[0m \u001b[38;5;28;01mexcept\u001b[39;00m \u001b[38;5;167;01mModuleNotFoundError\u001b[39;00m:\n",
            "File \u001b[1;32mc:\\Users\\nasrullah\\.conda\\envs\\python_ml\\Lib\\importlib\\__init__.py:90\u001b[0m, in \u001b[0;36mimport_module\u001b[1;34m(name, package)\u001b[0m\n\u001b[0;32m     89\u001b[0m         level \u001b[38;5;241m+\u001b[39m\u001b[38;5;241m=\u001b[39m \u001b[38;5;241m1\u001b[39m\n\u001b[1;32m---> 90\u001b[0m \u001b[38;5;28;01mreturn\u001b[39;00m _bootstrap\u001b[38;5;241m.\u001b[39m_gcd_import(name[level:], package, level)\n",
            "File \u001b[1;32m<frozen importlib._bootstrap>:1387\u001b[0m, in \u001b[0;36m_gcd_import\u001b[1;34m(name, package, level)\u001b[0m\n",
            "File \u001b[1;32m<frozen importlib._bootstrap>:1360\u001b[0m, in \u001b[0;36m_find_and_load\u001b[1;34m(name, import_)\u001b[0m\n",
            "File \u001b[1;32m<frozen importlib._bootstrap>:1331\u001b[0m, in \u001b[0;36m_find_and_load_unlocked\u001b[1;34m(name, import_)\u001b[0m\n",
            "File \u001b[1;32m<frozen importlib._bootstrap>:935\u001b[0m, in \u001b[0;36m_load_unlocked\u001b[1;34m(spec)\u001b[0m\n",
            "File \u001b[1;32m<frozen importlib._bootstrap_external>:995\u001b[0m, in \u001b[0;36mexec_module\u001b[1;34m(self, module)\u001b[0m\n",
            "File \u001b[1;32m<frozen importlib._bootstrap>:488\u001b[0m, in \u001b[0;36m_call_with_frames_removed\u001b[1;34m(f, *args, **kwds)\u001b[0m\n",
            "File \u001b[1;32mc:\\Users\\nasrullah\\.conda\\envs\\python_ml\\Lib\\site-packages\\optuna\\integration\\xgboost.py:7\u001b[0m\n\u001b[0;32m      6\u001b[0m \u001b[38;5;28;01mexcept\u001b[39;00m \u001b[38;5;167;01mModuleNotFoundError\u001b[39;00m:\n\u001b[1;32m----> 7\u001b[0m     \u001b[38;5;28;01mraise\u001b[39;00m \u001b[38;5;167;01mModuleNotFoundError\u001b[39;00m(_INTEGRATION_IMPORT_ERROR_TEMPLATE\u001b[38;5;241m.\u001b[39mformat(\u001b[38;5;124m\"\u001b[39m\u001b[38;5;124mxgboost\u001b[39m\u001b[38;5;124m\"\u001b[39m))\n\u001b[0;32m     10\u001b[0m __all__ \u001b[38;5;241m=\u001b[39m [\u001b[38;5;124m\"\u001b[39m\u001b[38;5;124mXGBoostPruningCallback\u001b[39m\u001b[38;5;124m\"\u001b[39m]\n",
            "\u001b[1;31mModuleNotFoundError\u001b[0m: \nCould not find `optuna-integration` for `xgboost`.\nPlease run `pip install optuna-integration[xgboost]`.",
            "\nDuring handling of the above exception, another exception occurred:\n",
            "\u001b[1;31mModuleNotFoundError\u001b[0m                       Traceback (most recent call last)",
            "Cell \u001b[1;32mIn[32], line 61\u001b[0m\n\u001b[0;32m     59\u001b[0m \u001b[38;5;66;03m# Create a study with pruning\u001b[39;00m\n\u001b[0;32m     60\u001b[0m study \u001b[38;5;241m=\u001b[39m optuna\u001b[38;5;241m.\u001b[39mcreate_study(direction\u001b[38;5;241m=\u001b[39m\u001b[38;5;124m'\u001b[39m\u001b[38;5;124mmaximize\u001b[39m\u001b[38;5;124m'\u001b[39m, pruner\u001b[38;5;241m=\u001b[39moptuna\u001b[38;5;241m.\u001b[39mpruners\u001b[38;5;241m.\u001b[39mSuccessiveHalvingPruner())\n\u001b[1;32m---> 61\u001b[0m study\u001b[38;5;241m.\u001b[39moptimize(objective, n_trials\u001b[38;5;241m=\u001b[39m\u001b[38;5;241m50\u001b[39m)\n\u001b[0;32m     63\u001b[0m \u001b[38;5;66;03m# Output the best trial\u001b[39;00m\n\u001b[0;32m     64\u001b[0m \u001b[38;5;28mprint\u001b[39m(\u001b[38;5;124mf\u001b[39m\u001b[38;5;124m\"\u001b[39m\u001b[38;5;124mBest trial: \u001b[39m\u001b[38;5;132;01m{\u001b[39;00mstudy\u001b[38;5;241m.\u001b[39mbest_trial\u001b[38;5;241m.\u001b[39mparams\u001b[38;5;132;01m}\u001b[39;00m\u001b[38;5;124m\"\u001b[39m)\n",
            "File \u001b[1;32mc:\\Users\\nasrullah\\.conda\\envs\\python_ml\\Lib\\site-packages\\optuna\\study\\study.py:490\u001b[0m, in \u001b[0;36mStudy.optimize\u001b[1;34m(self, func, n_trials, timeout, n_jobs, catch, callbacks, gc_after_trial, show_progress_bar)\u001b[0m\n\u001b[0;32m    388\u001b[0m \u001b[38;5;28;01mdef\u001b[39;00m \u001b[38;5;21moptimize\u001b[39m(\n\u001b[0;32m    389\u001b[0m     \u001b[38;5;28mself\u001b[39m,\n\u001b[0;32m    390\u001b[0m     func: ObjectiveFuncType,\n\u001b[1;32m   (...)\u001b[0m\n\u001b[0;32m    397\u001b[0m     show_progress_bar: \u001b[38;5;28mbool\u001b[39m \u001b[38;5;241m=\u001b[39m \u001b[38;5;28;01mFalse\u001b[39;00m,\n\u001b[0;32m    398\u001b[0m ) \u001b[38;5;241m-\u001b[39m\u001b[38;5;241m>\u001b[39m \u001b[38;5;28;01mNone\u001b[39;00m:\n\u001b[0;32m    399\u001b[0m \u001b[38;5;250m    \u001b[39m\u001b[38;5;124;03m\"\"\"Optimize an objective function.\u001b[39;00m\n\u001b[0;32m    400\u001b[0m \n\u001b[0;32m    401\u001b[0m \u001b[38;5;124;03m    Optimization is done by choosing a suitable set of hyperparameter values from a given\u001b[39;00m\n\u001b[1;32m   (...)\u001b[0m\n\u001b[0;32m    488\u001b[0m \u001b[38;5;124;03m            If nested invocation of this method occurs.\u001b[39;00m\n\u001b[0;32m    489\u001b[0m \u001b[38;5;124;03m    \"\"\"\u001b[39;00m\n\u001b[1;32m--> 490\u001b[0m     _optimize(\n\u001b[0;32m    491\u001b[0m         study\u001b[38;5;241m=\u001b[39m\u001b[38;5;28mself\u001b[39m,\n\u001b[0;32m    492\u001b[0m         func\u001b[38;5;241m=\u001b[39mfunc,\n\u001b[0;32m    493\u001b[0m         n_trials\u001b[38;5;241m=\u001b[39mn_trials,\n\u001b[0;32m    494\u001b[0m         timeout\u001b[38;5;241m=\u001b[39mtimeout,\n\u001b[0;32m    495\u001b[0m         n_jobs\u001b[38;5;241m=\u001b[39mn_jobs,\n\u001b[0;32m    496\u001b[0m         catch\u001b[38;5;241m=\u001b[39m\u001b[38;5;28mtuple\u001b[39m(catch) \u001b[38;5;28;01mif\u001b[39;00m \u001b[38;5;28misinstance\u001b[39m(catch, Iterable) \u001b[38;5;28;01melse\u001b[39;00m (catch,),\n\u001b[0;32m    497\u001b[0m         callbacks\u001b[38;5;241m=\u001b[39mcallbacks,\n\u001b[0;32m    498\u001b[0m         gc_after_trial\u001b[38;5;241m=\u001b[39mgc_after_trial,\n\u001b[0;32m    499\u001b[0m         show_progress_bar\u001b[38;5;241m=\u001b[39mshow_progress_bar,\n\u001b[0;32m    500\u001b[0m     )\n",
            "File \u001b[1;32mc:\\Users\\nasrullah\\.conda\\envs\\python_ml\\Lib\\site-packages\\optuna\\study\\_optimize.py:63\u001b[0m, in \u001b[0;36m_optimize\u001b[1;34m(study, func, n_trials, timeout, n_jobs, catch, callbacks, gc_after_trial, show_progress_bar)\u001b[0m\n\u001b[0;32m     61\u001b[0m \u001b[38;5;28;01mtry\u001b[39;00m:\n\u001b[0;32m     62\u001b[0m     \u001b[38;5;28;01mif\u001b[39;00m n_jobs \u001b[38;5;241m==\u001b[39m \u001b[38;5;241m1\u001b[39m:\n\u001b[1;32m---> 63\u001b[0m         _optimize_sequential(\n\u001b[0;32m     64\u001b[0m             study,\n\u001b[0;32m     65\u001b[0m             func,\n\u001b[0;32m     66\u001b[0m             n_trials,\n\u001b[0;32m     67\u001b[0m             timeout,\n\u001b[0;32m     68\u001b[0m             catch,\n\u001b[0;32m     69\u001b[0m             callbacks,\n\u001b[0;32m     70\u001b[0m             gc_after_trial,\n\u001b[0;32m     71\u001b[0m             reseed_sampler_rng\u001b[38;5;241m=\u001b[39m\u001b[38;5;28;01mFalse\u001b[39;00m,\n\u001b[0;32m     72\u001b[0m             time_start\u001b[38;5;241m=\u001b[39m\u001b[38;5;28;01mNone\u001b[39;00m,\n\u001b[0;32m     73\u001b[0m             progress_bar\u001b[38;5;241m=\u001b[39mprogress_bar,\n\u001b[0;32m     74\u001b[0m         )\n\u001b[0;32m     75\u001b[0m     \u001b[38;5;28;01melse\u001b[39;00m:\n\u001b[0;32m     76\u001b[0m         \u001b[38;5;28;01mif\u001b[39;00m n_jobs \u001b[38;5;241m==\u001b[39m \u001b[38;5;241m-\u001b[39m\u001b[38;5;241m1\u001b[39m:\n",
            "File \u001b[1;32mc:\\Users\\nasrullah\\.conda\\envs\\python_ml\\Lib\\site-packages\\optuna\\study\\_optimize.py:160\u001b[0m, in \u001b[0;36m_optimize_sequential\u001b[1;34m(study, func, n_trials, timeout, catch, callbacks, gc_after_trial, reseed_sampler_rng, time_start, progress_bar)\u001b[0m\n\u001b[0;32m    157\u001b[0m         \u001b[38;5;28;01mbreak\u001b[39;00m\n\u001b[0;32m    159\u001b[0m \u001b[38;5;28;01mtry\u001b[39;00m:\n\u001b[1;32m--> 160\u001b[0m     frozen_trial_id \u001b[38;5;241m=\u001b[39m _run_trial(study, func, catch)\n\u001b[0;32m    161\u001b[0m \u001b[38;5;28;01mfinally\u001b[39;00m:\n\u001b[0;32m    162\u001b[0m     \u001b[38;5;66;03m# The following line mitigates memory problems that can be occurred in some\u001b[39;00m\n\u001b[0;32m    163\u001b[0m     \u001b[38;5;66;03m# environments (e.g., services that use computing containers such as GitHub Actions).\u001b[39;00m\n\u001b[0;32m    164\u001b[0m     \u001b[38;5;66;03m# Please refer to the following PR for further details:\u001b[39;00m\n\u001b[0;32m    165\u001b[0m     \u001b[38;5;66;03m# https://github.com/optuna/optuna/pull/325.\u001b[39;00m\n\u001b[0;32m    166\u001b[0m     \u001b[38;5;28;01mif\u001b[39;00m gc_after_trial:\n",
            "File \u001b[1;32mc:\\Users\\nasrullah\\.conda\\envs\\python_ml\\Lib\\site-packages\\optuna\\study\\_optimize.py:258\u001b[0m, in \u001b[0;36m_run_trial\u001b[1;34m(study, func, catch)\u001b[0m\n\u001b[0;32m    251\u001b[0m         \u001b[38;5;28;01massert\u001b[39;00m \u001b[38;5;28;01mFalse\u001b[39;00m, \u001b[38;5;124m\"\u001b[39m\u001b[38;5;124mShould not reach.\u001b[39m\u001b[38;5;124m\"\u001b[39m\n\u001b[0;32m    253\u001b[0m \u001b[38;5;28;01mif\u001b[39;00m (\n\u001b[0;32m    254\u001b[0m     updated_state \u001b[38;5;241m==\u001b[39m TrialState\u001b[38;5;241m.\u001b[39mFAIL\n\u001b[0;32m    255\u001b[0m     \u001b[38;5;129;01mand\u001b[39;00m func_err \u001b[38;5;129;01mis\u001b[39;00m \u001b[38;5;129;01mnot\u001b[39;00m \u001b[38;5;28;01mNone\u001b[39;00m\n\u001b[0;32m    256\u001b[0m     \u001b[38;5;129;01mand\u001b[39;00m \u001b[38;5;129;01mnot\u001b[39;00m \u001b[38;5;28misinstance\u001b[39m(func_err, catch)\n\u001b[0;32m    257\u001b[0m ):\n\u001b[1;32m--> 258\u001b[0m     \u001b[38;5;28;01mraise\u001b[39;00m func_err\n\u001b[0;32m    259\u001b[0m \u001b[38;5;28;01mreturn\u001b[39;00m trial\u001b[38;5;241m.\u001b[39m_trial_id\n",
            "File \u001b[1;32mc:\\Users\\nasrullah\\.conda\\envs\\python_ml\\Lib\\site-packages\\optuna\\study\\_optimize.py:201\u001b[0m, in \u001b[0;36m_run_trial\u001b[1;34m(study, func, catch)\u001b[0m\n\u001b[0;32m    199\u001b[0m \u001b[38;5;28;01mwith\u001b[39;00m get_heartbeat_thread(trial\u001b[38;5;241m.\u001b[39m_trial_id, study\u001b[38;5;241m.\u001b[39m_storage):\n\u001b[0;32m    200\u001b[0m     \u001b[38;5;28;01mtry\u001b[39;00m:\n\u001b[1;32m--> 201\u001b[0m         value_or_values \u001b[38;5;241m=\u001b[39m func(trial)\n\u001b[0;32m    202\u001b[0m     \u001b[38;5;28;01mexcept\u001b[39;00m exceptions\u001b[38;5;241m.\u001b[39mTrialPruned \u001b[38;5;28;01mas\u001b[39;00m e:\n\u001b[0;32m    203\u001b[0m         \u001b[38;5;66;03m# TODO(mamu): Handle multi-objective cases.\u001b[39;00m\n\u001b[0;32m    204\u001b[0m         state \u001b[38;5;241m=\u001b[39m TrialState\u001b[38;5;241m.\u001b[39mPRUNED\n",
            "Cell \u001b[1;32mIn[32], line 39\u001b[0m, in \u001b[0;36mobjective\u001b[1;34m(trial)\u001b[0m\n\u001b[0;32m     36\u001b[0m dtest \u001b[38;5;241m=\u001b[39m xgb\u001b[38;5;241m.\u001b[39mDMatrix(X_test, label\u001b[38;5;241m=\u001b[39my_test)\n\u001b[0;32m     38\u001b[0m \u001b[38;5;66;03m# Define a pruning callback based on evaluation metrics\u001b[39;00m\n\u001b[1;32m---> 39\u001b[0m pruning_callback \u001b[38;5;241m=\u001b[39m optuna\u001b[38;5;241m.\u001b[39mintegration\u001b[38;5;241m.\u001b[39mXGBoostPruningCallback(trial, \u001b[38;5;124m\"\u001b[39m\u001b[38;5;124meval-mlogloss\u001b[39m\u001b[38;5;124m\"\u001b[39m)  \u001b[38;5;66;03m# Match the metric name in the evals list\u001b[39;00m\n\u001b[0;32m     41\u001b[0m \u001b[38;5;66;03m# Train the model\u001b[39;00m\n\u001b[0;32m     42\u001b[0m bst \u001b[38;5;241m=\u001b[39m xgb\u001b[38;5;241m.\u001b[39mtrain(\n\u001b[0;32m     43\u001b[0m     param,\n\u001b[0;32m     44\u001b[0m     dtrain,\n\u001b[1;32m   (...)\u001b[0m\n\u001b[0;32m     48\u001b[0m     callbacks\u001b[38;5;241m=\u001b[39m[pruning_callback]\n\u001b[0;32m     49\u001b[0m )\n",
            "File \u001b[1;32mc:\\Users\\nasrullah\\.conda\\envs\\python_ml\\Lib\\site-packages\\optuna\\integration\\__init__.py:120\u001b[0m, in \u001b[0;36m_IntegrationModule.__getattr__\u001b[1;34m(self, name)\u001b[0m\n\u001b[0;32m    118\u001b[0m     value \u001b[38;5;241m=\u001b[39m \u001b[38;5;28mself\u001b[39m\u001b[38;5;241m.\u001b[39m_get_module(name)\n\u001b[0;32m    119\u001b[0m \u001b[38;5;28;01melif\u001b[39;00m name \u001b[38;5;129;01min\u001b[39;00m \u001b[38;5;28mself\u001b[39m\u001b[38;5;241m.\u001b[39m_class_to_module\u001b[38;5;241m.\u001b[39mkeys():\n\u001b[1;32m--> 120\u001b[0m     module \u001b[38;5;241m=\u001b[39m \u001b[38;5;28mself\u001b[39m\u001b[38;5;241m.\u001b[39m_get_module(\u001b[38;5;28mself\u001b[39m\u001b[38;5;241m.\u001b[39m_class_to_module[name])\n\u001b[0;32m    121\u001b[0m     value \u001b[38;5;241m=\u001b[39m \u001b[38;5;28mgetattr\u001b[39m(module, name)\n\u001b[0;32m    122\u001b[0m \u001b[38;5;28;01melse\u001b[39;00m:\n",
            "File \u001b[1;32mc:\\Users\\nasrullah\\.conda\\envs\\python_ml\\Lib\\site-packages\\optuna\\integration\\__init__.py:134\u001b[0m, in \u001b[0;36m_IntegrationModule._get_module\u001b[1;34m(self, module_name)\u001b[0m\n\u001b[0;32m    132\u001b[0m     \u001b[38;5;28;01mreturn\u001b[39;00m importlib\u001b[38;5;241m.\u001b[39mimport_module(\u001b[38;5;124m\"\u001b[39m\u001b[38;5;124m.\u001b[39m\u001b[38;5;124m\"\u001b[39m \u001b[38;5;241m+\u001b[39m module_name, \u001b[38;5;28mself\u001b[39m\u001b[38;5;241m.\u001b[39m\u001b[38;5;18m__name__\u001b[39m)\n\u001b[0;32m    133\u001b[0m \u001b[38;5;28;01mexcept\u001b[39;00m \u001b[38;5;167;01mModuleNotFoundError\u001b[39;00m:\n\u001b[1;32m--> 134\u001b[0m     \u001b[38;5;28;01mraise\u001b[39;00m \u001b[38;5;167;01mModuleNotFoundError\u001b[39;00m(_INTEGRATION_IMPORT_ERROR_TEMPLATE\u001b[38;5;241m.\u001b[39mformat(module_name))\n",
            "\u001b[1;31mModuleNotFoundError\u001b[0m: \nCould not find `optuna-integration` for `xgboost`.\nPlease run `pip install optuna-integration[xgboost]`."
          ]
        }
      ],
      "source": [
        "import optuna\n",
        "import xgboost as xgb\n",
        "from sklearn.model_selection import train_test_split\n",
        "from sklearn.datasets import load_iris\n",
        "from sklearn.metrics import accuracy_score\n",
        "import numpy as np\n",
        "\n",
        "# Load the Iris dataset\n",
        "X, y = load_iris(return_X_y=True)\n",
        "\n",
        "# Split the dataset into training and test sets\n",
        "X_train, X_test, y_train, y_test = train_test_split(X, y, test_size=0.2, random_state=42)\n",
        "\n",
        "# Define the objective function for XGBoost\n",
        "def objective(trial):\n",
        "    # Hyperparameter search space\n",
        "    param = {\n",
        "        'verbosity': 0,\n",
        "        'objective': 'multi:softprob',\n",
        "        'num_class': 3,\n",
        "        'eval_metric': 'mlogloss',  # Ensure that the eval_metric is specified here\n",
        "        'booster': 'gbtree',\n",
        "        'lambda': trial.suggest_float('lambda', 1e-8, 1.0, log=True),\n",
        "        'alpha': trial.suggest_float('alpha', 1e-8, 1.0, log=True),\n",
        "        'eta': trial.suggest_float('eta', 0.01, 0.3),\n",
        "        'gamma': trial.suggest_float('gamma', 1e-8, 1.0, log=True),\n",
        "        'max_depth': trial.suggest_int('max_depth', 3, 9),\n",
        "        'min_child_weight': trial.suggest_int('min_child_weight', 1, 10),\n",
        "        'subsample': trial.suggest_float('subsample', 0.4, 1.0),\n",
        "        'colsample_bytree': trial.suggest_float('colsample_bytree', 0.4, 1.0),\n",
        "        'n_estimators': 300,\n",
        "    }\n",
        "\n",
        "    # Create DMatrix for XGBoost\n",
        "    dtrain = xgb.DMatrix(X_train, label=y_train)\n",
        "    dtest = xgb.DMatrix(X_test, label=y_test)\n",
        "\n",
        "    # Define a pruning callback based on evaluation metrics\n",
        "    pruning_callback = optuna.integration.XGBoostPruningCallback(trial, \"eval-mlogloss\")  # Match the metric name in the evals list\n",
        "\n",
        "    # Train the model\n",
        "    bst = xgb.train(\n",
        "        param,\n",
        "        dtrain,\n",
        "        num_boost_round=300,\n",
        "        evals=[(dtrain, \"train\"), (dtest, \"eval\")],  # Ensure the eval datasets and names are specified\n",
        "        early_stopping_rounds=30,\n",
        "        callbacks=[pruning_callback]\n",
        "    )\n",
        "\n",
        "    # Predict on the test set\n",
        "    preds = bst.predict(dtest)\n",
        "    best_preds = [int(np.argmax(line)) for line in preds]\n",
        "\n",
        "    # Return accuracy as the objective value\n",
        "    accuracy = accuracy_score(y_test, best_preds)\n",
        "    return accuracy\n",
        "\n",
        "# Create a study with pruning\n",
        "study = optuna.create_study(direction='maximize', pruner=optuna.pruners.SuccessiveHalvingPruner())\n",
        "study.optimize(objective, n_trials=50)\n",
        "\n",
        "# Output the best trial\n",
        "print(f\"Best trial: {study.best_trial.params}\")\n",
        "print(f\"Best accuracy: {study.best_value}\")\n"
      ]
    },
    {
      "cell_type": "code",
      "execution_count": null,
      "metadata": {
        "id": "UMLYytFTTRji"
      },
      "outputs": [],
      "source": []
    },
    {
      "cell_type": "code",
      "execution_count": null,
      "metadata": {
        "colab": {
          "base_uri": "https://localhost:8080/"
        },
        "id": "e0mTqXEpSiI_",
        "outputId": "01349f95-c4cf-4d6c-8a99-6300a3c1183e"
      },
      "outputs": [
        {
          "name": "stdout",
          "output_type": "stream",
          "text": [
            "Collecting optuna-integration[xgboost]\n",
            "  Downloading optuna_integration-4.0.0-py3-none-any.whl.metadata (11 kB)\n",
            "Requirement already satisfied: optuna in /usr/local/lib/python3.10/dist-packages (from optuna-integration[xgboost]) (4.0.0)\n",
            "Requirement already satisfied: xgboost in /usr/local/lib/python3.10/dist-packages (from optuna-integration[xgboost]) (2.1.1)\n",
            "Requirement already satisfied: alembic>=1.5.0 in /usr/local/lib/python3.10/dist-packages (from optuna->optuna-integration[xgboost]) (1.13.2)\n",
            "Requirement already satisfied: colorlog in /usr/local/lib/python3.10/dist-packages (from optuna->optuna-integration[xgboost]) (6.8.2)\n",
            "Requirement already satisfied: numpy in /usr/local/lib/python3.10/dist-packages (from optuna->optuna-integration[xgboost]) (1.26.4)\n",
            "Requirement already satisfied: packaging>=20.0 in /usr/local/lib/python3.10/dist-packages (from optuna->optuna-integration[xgboost]) (24.1)\n",
            "Requirement already satisfied: sqlalchemy>=1.3.0 in /usr/local/lib/python3.10/dist-packages (from optuna->optuna-integration[xgboost]) (2.0.35)\n",
            "Requirement already satisfied: tqdm in /usr/local/lib/python3.10/dist-packages (from optuna->optuna-integration[xgboost]) (4.66.5)\n",
            "Requirement already satisfied: PyYAML in /usr/local/lib/python3.10/dist-packages (from optuna->optuna-integration[xgboost]) (6.0.2)\n",
            "Requirement already satisfied: nvidia-nccl-cu12 in /usr/local/lib/python3.10/dist-packages (from xgboost->optuna-integration[xgboost]) (2.23.4)\n",
            "Requirement already satisfied: scipy in /usr/local/lib/python3.10/dist-packages (from xgboost->optuna-integration[xgboost]) (1.13.1)\n",
            "Requirement already satisfied: Mako in /usr/local/lib/python3.10/dist-packages (from alembic>=1.5.0->optuna->optuna-integration[xgboost]) (1.3.5)\n",
            "Requirement already satisfied: typing-extensions>=4 in /usr/local/lib/python3.10/dist-packages (from alembic>=1.5.0->optuna->optuna-integration[xgboost]) (4.12.2)\n",
            "Requirement already satisfied: greenlet!=0.4.17 in /usr/local/lib/python3.10/dist-packages (from sqlalchemy>=1.3.0->optuna->optuna-integration[xgboost]) (3.1.0)\n",
            "Requirement already satisfied: MarkupSafe>=0.9.2 in /usr/local/lib/python3.10/dist-packages (from Mako->alembic>=1.5.0->optuna->optuna-integration[xgboost]) (2.1.5)\n",
            "Downloading optuna_integration-4.0.0-py3-none-any.whl (96 kB)\n",
            "\u001b[2K   \u001b[90m━━━━━━━━━━━━━━━━━━━━━━━━━━━━━━━━━━━━━━━━\u001b[0m \u001b[32m96.9/96.9 kB\u001b[0m \u001b[31m3.1 MB/s\u001b[0m eta \u001b[36m0:00:00\u001b[0m\n",
            "\u001b[?25hInstalling collected packages: optuna-integration\n",
            "Successfully installed optuna-integration-4.0.0\n"
          ]
        }
      ],
      "source": [
        "! pip install optuna-integration[xgboost]"
      ]
    },
    {
      "cell_type": "code",
      "execution_count": null,
      "metadata": {
        "colab": {
          "base_uri": "https://localhost:8080/",
          "height": 542
        },
        "id": "TkIG5Cf6SoZ_",
        "outputId": "c9a5efa3-84a8-4d38-fe48-3a1fd6422f76"
      },
      "outputs": [
        {
          "data": {
            "text/html": [
              "<html>\n",
              "<head><meta charset=\"utf-8\" /></head>\n",
              "<body>\n",
              "    <div>            <script src=\"https://cdnjs.cloudflare.com/ajax/libs/mathjax/2.7.5/MathJax.js?config=TeX-AMS-MML_SVG\"></script><script type=\"text/javascript\">if (window.MathJax && window.MathJax.Hub && window.MathJax.Hub.Config) {window.MathJax.Hub.Config({SVG: {font: \"STIX-Web\"}});}</script>                <script type=\"text/javascript\">window.PlotlyConfig = {MathJaxConfig: 'local'};</script>\n",
              "        <script charset=\"utf-8\" src=\"https://cdn.plot.ly/plotly-2.24.1.min.js\"></script>                <div id=\"5d02729e-b24d-4ce0-aba7-680af9d956c8\" class=\"plotly-graph-div\" style=\"height:525px; width:100%;\"></div>            <script type=\"text/javascript\">                                    window.PLOTLYENV=window.PLOTLYENV || {};                                    if (document.getElementById(\"5d02729e-b24d-4ce0-aba7-680af9d956c8\")) {                    Plotly.newPlot(                        \"5d02729e-b24d-4ce0-aba7-680af9d956c8\",                        [{\"marker\":{\"maxdisplayed\":10},\"mode\":\"lines+markers\",\"name\":\"Trial0\",\"x\":[0,1,2,3,4,5,6,7,8,9,10,11,12,13,14,15,16,17,18,19,20,21,22,23,24,25,26,27,28,29,30,31,32,33,34,35,36,37,38,39,40,41,42,43,44,45,46,47,48,49,50,51,52,53,54,55,56,57,58,59,60,61,62,63,64,65,66,67,68,69,70,71,72,73,74,75,76,77,78,79,80,81,82,83,84,85,86,87,88,89,90,91,92,93,94,95,96,97,98,99,100,101,102,103,104,105,106,107,108,109,110,111,112,113,114,115,116,117,118,119,120,121,122,123,124,125,126,127,128,129,130,131,132,133,134,135,136,137,138,139,140,141,142,143],\"y\":[0.8582049866517385,0.6952502091725667,0.5673511842886607,0.4729136168956757,0.3889406144618988,0.3207863479852676,0.2700830474495888,0.2293690209587415,0.19268263677755992,0.1603933870792389,0.13676382899284362,0.11718239883581798,0.09947195599476497,0.0845627348870039,0.07359027887384097,0.06427370533347129,0.05765310972929001,0.05320150225112836,0.04886806029826403,0.04515789852788051,0.04147726204246283,0.03923958210895459,0.03586110137403011,0.03377166263138254,0.03309352677315473,0.03325012897451719,0.03250595728556315,0.03300224880998334,0.03195982665444414,0.03205711487680674,0.03216244655971726,0.03295128780106703,0.03269548158471783,0.03204589181890091,0.03226451007649302,0.0321068926093479,0.03208379146332542,0.0317070326457421,0.03102766789185504,0.03080022454572221,0.03080209741989771,0.0319836038009574,0.02828860552981496,0.02822674339016279,0.02786451983265579,0.02836626518207292,0.02807867146718005,0.02821828283679982,0.0282577524582545,0.02662389681984981,0.02470275942857067,0.02455857899039984,0.02406599327611426,0.02405965616150449,0.02369484445856263,0.02366677355021238,0.02410022604744881,0.02397171591874212,0.02393891021298866,0.02397558186979343,0.02418316119971375,0.02427647423464805,0.02417040963191539,0.02410999746061861,0.02374218161373089,0.02385644700843841,0.02335619653264681,0.02324390307379266,0.02539291391149163,0.02516606806311756,0.02506270146307846,0.02511909558282544,0.02501772089162841,0.02521359278665235,0.02398939306149259,0.0239768045876796,0.0237981746904552,0.02379393750646462,0.02442934894934297,0.02421708565282946,0.02416820422125359,0.02444809772229443,0.02421216265065596,0.02465042662030707,0.02450638500352701,0.02470933717365066,0.02460485660315802,0.02314965688468268,0.02307807519876709,0.02308930748452743,0.02309767622888709,0.02216577561339363,0.02202306986631205,0.02165395910851657,0.02059465520239125,0.02058100320088367,0.02059893229743466,0.02066302230814472,0.02070205922937021,0.02059704216274743,0.02043240636897584,0.02053923353863259,0.01991729359142482,0.01996557081583887,0.0200688613889118,0.01992899913263197,0.01996228920761496,0.02018129432108253,0.01980285199048619,0.01972933236199121,0.01990000144190466,0.0200637731817551,0.02010395386411498,0.01879428133834153,0.01875947320368141,0.01930791192765658,0.02033565487557401,0.02004512949303413,0.02061744594248012,0.02069751261345421,0.02018394862922529,0.02027521428729718,0.02019037281085427,0.02000761051507046,0.01990353250876069,0.01979027910080428,0.01967856673484979,0.01966926684447875,0.01977638153087658,0.0197270664308841,0.01976465360106279,0.02003146153098593,0.01965036861365661,0.01991697569416525,0.01989987825897212,0.01978657097012426,0.01970904191257432,0.01965255297448797,0.01943868847447448,0.01953712912509218,0.0194556266903722,0.01953160135114255,0.01960936002627326,0.01973449217815263],\"type\":\"scatter\"},{\"marker\":{\"maxdisplayed\":10},\"mode\":\"lines+markers\",\"name\":\"Trial1\",\"x\":[0,1,2,3,4,5,6,7,8,9,10,11,12,13,14,15,16,17,18,19,20,21,22,23,24,25,26,27,28,29,30,31,32,33,34,35,36,37,38,39,40,41,42,43,44,45,46,47,48,49,50,51,52,53,54,55,56,57,58,59,60,61,62,63,64,65,66,67,68,69,70,71,72,73,74,75,76,77,78,79,80,81,82,83,84,85,86,87,88,89,90,91,92,93,94,95,96,97,98,99,100,101,102,103,104,105,106,107,108,109,110,111,112,113,114,115,116,117,118,119,120,121,122,123,124,125,126,127,128,129,130,131,132,133,134,135,136,137,138,139,140,141,142,143,144,145,146,147,148,149,150,151,152,153,154,155,156,157,158,159,160,161,162,163,164,165,166,167,168,169,170,171,172,173,174,175,176,177,178,179,180,181,182,183,184,185,186,187,188,189,190,191,192,193,194,195,196,197,198,199,200,201,202,203,204,205,206,207,208,209,210,211,212,213,214,215,216,217,218,219,220,221,222,223,224,225,226,227,228,229,230,231,232,233,234,235,236,237,238,239,240,241,242,243,244,245,246,247,248,249,250,251,252,253,254,255,256,257,258,259,260,261,262,263,264,265,266,267,268,269,270,271,272,273,274,275,276,277,278,279,280,281,282,283,284,285,286,287,288,289,290,291,292,293,294,295,296,297,298,299],\"y\":[1.0272148847579956,0.9633956710497539,0.8933219333489736,0.8392605602741241,0.7802457531293233,0.7362546881039937,0.68839337627093,0.642353868484497,0.6095614155133565,0.5789526343345642,0.543252843618393,0.5090701599915822,0.4777209053436915,0.44936628043651583,0.42234837313493095,0.4011643926302592,0.3816714107990265,0.3599459002415339,0.3399090707302094,0.320790733397007,0.3090859428048134,0.2945943037668864,0.277704560259978,0.26729879577954613,0.2565466786424319,0.2425695091485977,0.232670263449351,0.22120093554258347,0.21047461430231731,0.20368419835964838,0.1992659792304039,0.1936488392452399,0.18645120561122894,0.17777049988508226,0.1702037754158179,0.1627228523294131,0.15577085490028064,0.1493728995323181,0.144009347508351,0.14035274162888528,0.13463277171055477,0.13063992808262506,0.1279018573462963,0.12314813335736592,0.11905823598305385,0.11860912616054217,0.11843712230523427,0.11662932013471922,0.11468038658301036,0.11250399698813757,0.11133269754548868,0.10968405765791735,0.10773598464826743,0.10591436661779881,0.10429357215762139,0.1025386427839597,0.10148742559055487,0.10029272884130477,0.09902402597169081,0.0979149674375852,0.0963334921747446,0.09520216311017672,0.09409226775169373,0.09306922741234303,0.09201598676542441,0.09122525217632453,0.09040878911813101,0.08932009314497312,0.08860859299699465,0.08875097843507926,0.08796799555420876,0.08696788065135479,0.08609980394442876,0.08622145404418309,0.08533815431098143,0.08560099340975284,0.08489982895553112,0.08505498866240184,0.08500965734322866,0.08492532682915528,0.08406216663618883,0.08324234473208586,0.08257807518045107,0.08223517859975497,0.08199259278674921,0.08185792155563831,0.0817522923151652,0.08113297633826733,0.08109986583391825,0.08128760084509849,0.08121011232336363,0.0811601101110379,0.08107396848499775,0.08106702988346418,0.08039110029737155,0.08029065591593583,0.08026780858635903,0.08023540029923121,0.08021137975156307,0.08010875297089418,0.08006677416463694,0.07995935728152594,0.07987136679391066,0.07979557936390241,0.07971780660251776,0.07966132300595442,0.07964652689794699,0.0797967469940583,0.07975189040104548,0.07967250496149063,0.07962202591200669,0.07897477733592193,0.07891626221438248,0.07882741664846739,0.07878562025725841,0.07877053568760554,0.07870858001212279,0.07863938696682453,0.07881108646591505,0.0785361509770155,0.07825393999616305,0.07799146026372909,0.07795444379250209,0.07790363058447838,0.07809670890371005,0.07802872446676096,0.07778217196464539,0.07765742527941863,0.07741458018620809,0.07708552641173204,0.07698036804795265,0.07693008023003738,0.07686611500879129,0.07672527221341928,0.07668895994623502,0.07664198937515418,0.07653760462999344,0.0764042217284441,0.07636329618593057,0.07632393663128217,0.07627804130315781,0.0762284136066834,0.07617842468122642,0.07604075782001019,0.07599881713589032,0.07599931992590428,0.07594647221267223,0.07582755076388518,0.07555526668826738,0.07551508682469527,0.0754820678383112,0.07531519023080667,0.07525845269362132,0.07503189171353976,0.07497607817252477,0.07494578398764133,0.07490581062932809,0.0748602153112491,0.07483731148143609,0.0746754008034865,0.07463749945163727,0.07467371709644795,0.07466954812407493,0.07464374688764414,0.07444110351304213,0.07445225529372693,0.07443578342596689,0.07436468924085299,0.07432519048452377,0.07426912014683087,0.07422747227052848,0.07418651953339576,0.0741495244204998,0.07413468025624752,0.07412086551388104,0.07406991397341092,0.0740256999929746,0.07399069766203563,0.07394147912661235,0.07390686037639776,0.07388745881617069,0.07387922033667564,0.07383588167528311,0.07380418218672276,0.07378340363502503,0.07376717651883762,0.0738418941696485,0.07382239811122418,0.07377542033791543,0.07324750709036985,0.07321433648467064,0.07323198939363161,0.07326591741293668,0.07323330771178008,0.0731638145322601,0.07315004486590623,0.07312429286539554,0.07308200833698114,0.07305506095290185,0.07301715140541394,0.0729744387169679,0.07295425633589427,0.07291533388197421,0.07285294942557811,0.07283590734004974,0.07280194101234277,0.07277623675763607,0.07274534540871778,0.07267367430031299,0.07265508944789568,0.07264176855484644,0.07252220151325067,0.072515253474315,0.07250655144453048,0.0724510179211696,0.07243316173553467,0.0724294022967418,0.0721122246235609,0.07209353583554427,0.07208155741294225,0.07207578346133232,0.07192349943021933,0.0718739582846562,0.07191472873091698,0.07185850565632185,0.07180777142445247,0.0717514759550492,0.07171110374232133,0.07171628673871358,0.07176642653842767,0.07173566222190857,0.07168431468307972,0.07155023887753487,0.0716368354856968,0.07160178733368715,0.07156679468850295,0.07153551454345385,0.07149302276472251,0.07147299920519193,0.07146002426743507,0.07134463749825955,0.07125125701228778,0.07124068501094977,0.07118961724142234,0.07115501749018828,0.07113160366813341,0.07102991404632727,0.07099421260257562,0.07095925100147724,0.07093402706086635,0.0709227175762256,0.07091981408496698,0.07090378229816754,0.0709091518074274,0.07088860372702281,0.07087524943053722,0.07084351082642873,0.07084591736396154,0.07085180630286535,0.07078396566212178,0.07073469087481499,0.07070396095514297,0.07069286120434602,0.07067912581066291,0.07066492276887099,0.0706666645904382,0.07061207679410776,0.07056379901866118,0.0705393236130476,0.07033608804146449,0.07036276186505953,0.07039041829605898,0.07035766988992691,0.07032594879468282,0.07028204773863157,0.07019505066176256,0.0700614814956983,0.07003797056774298,0.07002182578047117,0.07003399493793647,0.07000391768912474,0.06998107992112637,0.06996735508243243,0.06992313203712304,0.06993167301019033,0.0699532770862182,0.0700595701734225,0.07005210419495901,0.0700629306336244,0.07001432192822298,0.06995931093891462,0.06991564705967904,0.06988933521012465,0.06991538765529791,0.06992700124780336,0.06987530638774236,0.06975434596339862,0.06976748978098234,0.06972842613855998,0.06972865226368109],\"type\":\"scatter\"},{\"marker\":{\"maxdisplayed\":10},\"mode\":\"lines+markers\",\"name\":\"Trial2\",\"x\":[0,1],\"y\":[0.8473874449729919,0.6559242089589437],\"type\":\"scatter\"},{\"marker\":{\"maxdisplayed\":10},\"mode\":\"lines+markers\",\"name\":\"Trial3\",\"x\":[0,1],\"y\":[0.9879094660282135,0.8953135788440705],\"type\":\"scatter\"},{\"marker\":{\"maxdisplayed\":10},\"mode\":\"lines+markers\",\"name\":\"Trial4\",\"x\":[0,1],\"y\":[0.9343037148316701,0.8119988977909088],\"type\":\"scatter\"},{\"marker\":{\"maxdisplayed\":10},\"mode\":\"lines+markers\",\"name\":\"Trial5\",\"x\":[0,1,2,3,4,5,6,7,8,9,10,11,12,13,14,15,16,17,18,19,20,21,22,23,24,25,26,27,28,29,30,31,32,33,34,35,36,37,38,39,40,41,42,43,44,45,46,47,48,49,50,51,52,53,54,55,56,57,58,59,60,61,62,63,64,65,66,67,68,69,70,71,72,73,74,75,76,77,78,79,80,81,82,83,84,85,86,87,88,89,90,91,92,93,94,95,96,97,98,99,100,101,102,103,104,105,106,107,108,109,110,111,112,113,114,115,116,117,118,119,120,121,122,123,124,125,126,127,128,129,130,131,132,133,134,135,136,137,138,139,140,141,142,143,144,145,146,147,148,149,150,151,152,153,154,155,156,157,158,159,160,161,162,163,164,165,166,167,168,169,170,171,172,173,174,175,176,177,178,179,180,181,182,183,184,185,186,187,188,189,190,191,192,193,194,195,196,197,198,199,200,201,202,203,204,205,206,207,208,209,210,211,212,213,214,215,216,217,218,219,220,221,222,223,224,225,226,227,228,229,230,231,232,233,234,235,236,237,238,239,240,241,242,243,244,245,246,247,248,249,250,251,252,253,254,255,256],\"y\":[1.0735879818598428,1.0501797914505004,1.0273190061251323,1.0060360590616861,0.9835756242275238,0.9613381385803222,0.9405324737230937,0.9205504179000854,0.90031298995018,0.8817438364028931,0.8634033064047496,0.8449153304100037,0.8276653826236725,0.8104481955369314,0.7939019044240315,0.7777657747268677,0.7612784425417582,0.7457591950893402,0.7306882540384928,0.7160545309384664,0.7014751652876536,0.6885434448719024,0.6746772607167562,0.6613824685414632,0.6495857854684194,0.6365553955237071,0.6240271170934041,0.612030565738678,0.5999662518501282,0.5892385443051656,0.5781516134738922,0.567019122838974,0.5562534630298615,0.545349125067393,0.5352465152740479,0.5255748798449834,0.5156982084115346,0.5058701465527217,0.49698612491289773,0.4877018709977468,0.4786281983057658,0.4697193632523219,0.4609848290681839,0.4531238853931427,0.44475398063659666,0.4378413071235021,0.42983630299568176,0.42217263678709666,0.4140689790248871,0.40633603036403654,0.399033655722936,0.39238143066565195,0.3849744657675425,0.3778404325246811,0.37117573420206706,0.3642365137736003,0.35817165970802306,0.3517436017592748,0.34535163938999175,0.339973642428716,0.3341415196657181,0.32902382413546244,0.32340107758839926,0.3179431120554606,0.312584180633227,0.30718511044979097,0.3020081877708435,0.297306955854098,0.2923910111188889,0.2875911792119344,0.2826908121506373,0.27831302483876547,0.27398693064848584,0.26997640629609426,0.2652796616156896,0.2615225007136663,0.2572401131192843,0.253103706240654,0.24874603499968848,0.24469408492247263,0.24091074715058008,0.23716217031081518,0.23295140663782757,0.22955344369014105,0.22559999028841654,0.22198184927304584,0.21854734768470127,0.21484892666339875,0.21178333063920338,0.20841502646605173,0.20509938647349676,0.20176546027263006,0.19839674433072407,0.195121863981088,0.1916898161172867,0.18912583241860073,0.18592503716548284,0.18327910403410594,0.1804036368926366,0.1774464726448059,0.17493686030308406,0.17218743711709977,0.16949489961067835,0.16690273384253185,0.1645060529311498,0.16213564922412235,0.15991253554821014,0.15747819418708484,0.15506339247028034,0.15253592953085898,0.14989885141452153,0.14744042679667474,0.14539153600732485,0.14331089854240417,0.14107855384548504,0.13950132230917614,0.1372580034037431,0.13513702899217606,0.13298076291879019,0.13125890493392944,0.12912437890966733,0.12706747477253277,0.12511237040162088,0.12376209100087483,0.12209445908665657,0.12020872309803962,0.11840457618236541,0.11644568492968878,0.11465082690119743,0.11285987744728725,0.11110470741987229,0.10961279744903246,0.10780749842524529,0.1062668077647686,0.10470588654279708,0.10303829461336136,0.10138634319106737,0.10004515573382378,0.09855601439873378,0.09707866708437601,0.09563661540548006,0.0943032627304395,0.09294461061557134,0.09167226105928421,0.0906340830028057,0.08907328968246778,0.08786770639320214,0.08656568800409635,0.08551167783637842,0.0839381502320369,0.08303382446368536,0.08193858799835047,0.08090597403546175,0.07958039157092571,0.07834914835790793,0.07730660152932008,0.0762672225634257,0.07510003646214804,0.07394535417358081,0.07299869147439798,0.07178068322439989,0.07100601469477018,0.07025916402538618,0.06965863717099031,0.06902704611420632,0.06810309626162052,0.06727471897999446,0.0663056518882513,0.06552270750204722,0.06496342656513056,0.06399726507564386,0.06323833391070366,0.0623659194757541,0.06195952370762825,0.06124284751713276,0.06053102699418863,0.05993127052982648,0.05918499603867531,0.05844385189314683,0.05791542877753576,0.05700835138559342,0.05625518995026747,0.05566954811414083,0.05510708913207054,0.0546311783293883,0.05427039470523596,0.05377602900067965,0.05326605799297492,0.05281366625179847,0.05226883105933666,0.05183709803968668,0.05114500882724921,0.05036225082973639,0.04995246374358733,0.04935134469221036,0.04878517991552751,0.04844327873239915,0.04783678607394298,0.04739750803758701,0.04681542615095775,0.04621990186472734,0.0454769553616643,0.04501881723602612,0.04455891114970048,0.04420836977660656,0.04389295217891534,0.04343374092131853,0.04312013381471237,0.04271657181282838,0.04203423193345467,0.04158510491251945,0.04132141011456648,0.04097408168017865,0.04063030797988176,0.04024350785960754,0.03984483641882738,0.03951964229345321,0.03905859248091777,0.03866499767949184,0.03840053714811802,0.03811687560131152,0.03787221262852351,0.03753256481140852,0.03709348483632009,0.03663209105531375,0.03645440184821685,0.03621307605256637,0.03609867480893929,0.03573632696643472,0.03556025577709079,0.03513961148758729,0.03481998384619753,0.03442843537777662,0.03429791557913025,0.03394316338623563,0.03355949344113469,0.03317709897334377,0.03286429004122814,0.03288873191922903,0.03252460956573486,0.03209908412148555,0.03193123961488406,0.03186971852555871,0.03171651465818286,0.03138806655382117,0.03098440111304323,0.0309545062482357,0.03072967454791069,0.03040784802287817,0.03021868557358781,0.03005402327204744,0.02995600293700894,0.02971713499476512,0.02938267840072513,0.02930640385796627,0.0291732301004231,0.0291451387728254],\"type\":\"scatter\"},{\"marker\":{\"maxdisplayed\":10},\"mode\":\"lines+markers\",\"name\":\"Trial6\",\"x\":[0,1],\"y\":[0.971580316623052,0.8597114841143291],\"type\":\"scatter\"},{\"marker\":{\"maxdisplayed\":10},\"mode\":\"lines+markers\",\"name\":\"Trial7\",\"x\":[0,1],\"y\":[0.9918196380138398,0.8947871029376984],\"type\":\"scatter\"},{\"marker\":{\"maxdisplayed\":10},\"mode\":\"lines+markers\",\"name\":\"Trial8\",\"x\":[0,1],\"y\":[0.8765442192554473,0.691441128651301],\"type\":\"scatter\"},{\"marker\":{\"maxdisplayed\":10},\"mode\":\"lines+markers\",\"name\":\"Trial9\",\"x\":[0,1],\"y\":[1.0014513373374938,0.919348027308782],\"type\":\"scatter\"},{\"marker\":{\"maxdisplayed\":10},\"mode\":\"lines+markers\",\"name\":\"Trial10\",\"x\":[0,1],\"y\":[0.8609913468360901,0.69894873102506],\"type\":\"scatter\"},{\"marker\":{\"maxdisplayed\":10},\"mode\":\"lines+markers\",\"name\":\"Trial11\",\"x\":[0,1,2,3,4],\"y\":[1.080776031812032,1.0635648727416993,1.0197908898194632,0.9983252306779226,0.96258997519811],\"type\":\"scatter\"},{\"marker\":{\"maxdisplayed\":10},\"mode\":\"lines+markers\",\"name\":\"Trial12\",\"x\":[0,1],\"y\":[1.0287503838539123,0.9613680402437846],\"type\":\"scatter\"},{\"marker\":{\"maxdisplayed\":10},\"mode\":\"lines+markers\",\"name\":\"Trial13\",\"x\":[0,1],\"y\":[1.0163536290327708,0.9339639763037364],\"type\":\"scatter\"},{\"marker\":{\"maxdisplayed\":10},\"mode\":\"lines+markers\",\"name\":\"Trial14\",\"x\":[0,1],\"y\":[0.8380469818909962,0.6657781859238943],\"type\":\"scatter\"},{\"marker\":{\"maxdisplayed\":10},\"mode\":\"lines+markers\",\"name\":\"Trial15\",\"x\":[0,1],\"y\":[1.0201777537663779,0.9498483200867971],\"type\":\"scatter\"},{\"marker\":{\"maxdisplayed\":10},\"mode\":\"lines+markers\",\"name\":\"Trial16\",\"x\":[0,1],\"y\":[0.928890218337377,0.8013514757156373],\"type\":\"scatter\"},{\"marker\":{\"maxdisplayed\":10},\"mode\":\"lines+markers\",\"name\":\"Trial17\",\"x\":[0,1],\"y\":[0.8064581652482351,0.6197688937187195],\"type\":\"scatter\"},{\"marker\":{\"maxdisplayed\":10},\"mode\":\"lines+markers\",\"name\":\"Trial18\",\"x\":[0,1],\"y\":[0.9543853461742401,0.8407096902529398],\"type\":\"scatter\"},{\"marker\":{\"maxdisplayed\":10},\"mode\":\"lines+markers\",\"name\":\"Trial19\",\"x\":[0,1,2,3,4],\"y\":[1.027107044061025,0.9662461678187052,0.8986997167269389,0.8463060061136881,0.7888654589653015],\"type\":\"scatter\"},{\"marker\":{\"maxdisplayed\":10},\"mode\":\"lines+markers\",\"name\":\"Trial20\",\"x\":[0,1],\"y\":[0.7455201745033264,0.5464297334353129],\"type\":\"scatter\"},{\"marker\":{\"maxdisplayed\":10},\"mode\":\"lines+markers\",\"name\":\"Trial21\",\"x\":[0,1,2,3,4,5,6,7,8,9,10,11,12,13,14,15,16,17,18,19,20,21,22,23,24,25,26,27,28,29,30,31,32,33,34,35,36,37,38,39,40,41,42,43,44,45,46,47,48,49,50,51,52,53,54,55,56,57,58,59,60,61,62,63,64,65,66,67,68,69,70,71,72,73,74,75,76,77,78,79,80,81,82,83,84,85,86,87,88,89,90,91,92,93,94,95,96,97,98,99,100,101,102,103,104,105,106,107,108,109,110,111,112,113,114,115,116,117,118,119,120,121,122,123,124,125,126,127,128,129,130,131,132,133,134,135,136,137,138,139,140,141,142,143,144,145,146,147,148,149,150,151,152,153,154,155,156,157,158,159,160,161,162,163,164,165,166,167,168,169,170,171,172,173,174,175,176,177,178,179,180,181,182,183,184,185,186,187,188,189,190,191,192,193,194,195,196,197,198,199,200,201,202,203,204,205,206,207,208,209,210,211,212,213,214,215,216,217,218,219,220,221,222,223,224,225,226,227,228,229,230,231,232,233,234,235,236,237,238,239,240,241,242,243,244,245,246,247,248,249,250,251,252,253,254,255,256],\"y\":[1.0805929104487102,1.0635797500610351,1.0468331297238669,1.0310532172520956,1.014325233300527,0.9976315716902415,0.9818718274434407,0.9668331960837047,0.9512764493624369,0.9362131834030152,0.921924642721812,0.9076343456904093,0.8939700603485108,0.8802722791830698,0.8670089443524679,0.8539975047111511,0.8406129161516825,0.8279453913370768,0.8155411740144094,0.8034632007280985,0.7912480751673381,0.7804122467835745,0.7685885111490885,0.7575231532255808,0.7474627276261647,0.7366792937119802,0.7258947034676869,0.7155074119567871,0.7049208184083303,0.6953880826632182,0.6857406973838807,0.6760046720504761,0.6663319925467174,0.6566093325614929,0.647544018427531,0.6384013156096141,0.6292989393075307,0.6206202586491902,0.6124215801556905,0.6036095440387725,0.5951901137828827,0.5870040456453959,0.5788399974505106,0.5713896850744883,0.5635378281275432,0.5567643841107687,0.5491242388884227,0.5414570490519206,0.5336259146531422,0.5262649575869243,0.5190007756153743,0.5122411876916886,0.5050275494654973,0.4980439434448878,0.49144670565923054,0.48460984925429024,0.4790926684935888,0.47264777521292367,0.46653857131799065,0.4609445403019587,0.4549564361572266,0.449692436059316,0.4438489635785421,0.4381155838569005,0.4323592851559321,0.42627233962217964,0.42118594646453855,0.416166032354037,0.4108727604150772,0.4057821840047836,0.4005634655555089,0.3957384457190832,0.39088384906450907,0.3862911194562912,0.3812609483798345,0.3770935982465744,0.3725564698378245,0.36830016076564787,0.3634215652942657,0.3588573137919108,0.35448333422342937,0.35000185867150624,0.3453520953655243,0.3414815862973531,0.33705934882164,0.3329506148894628,0.32904956440130867,0.3248891015847524,0.3212522069613139,0.3175603151321411,0.31371997694174447,0.3096693684657415,0.3057766189177831,0.30181496143341063,0.2978543798128764,0.2947139124075572,0.29104477961858116,0.2877189785242081,0.28394155551989875,0.28044285674889885,0.27698410699764886,0.2736435145139694,0.2703559751311938,0.2668860167264938,0.2637968132893244,0.26077791849772136,0.2576462840040525,0.254464228451252,0.2512336865067482,0.24839336574077606,0.24510991374651592,0.24207400182882946,0.23931121875842412,0.2366425280769666,0.2338066856066386,0.23164102882146836,0.22903568198283514,0.22634092718362808,0.22351076900959016,0.2210459977388382,0.2182661275068919,0.21552108575900394,0.21292094588279725,0.21083870381116868,0.20847463309764863,0.20600056946277617,0.2036120131611824,0.20112312336762747,0.19878634611765544,0.19641637802124023,0.19408435374498367,0.1919660563270251,0.1895984450976054,0.18747936735550563,0.18532442649205524,0.18308615883191426,0.18079034785429637,0.17868771155675253,0.1766296550631523,0.17461157739162445,0.17244505683581035,0.17037128061056137,0.16848662346601487,0.16663155158360798,0.16507754723230997,0.16298183252414067,0.161056312918663,0.1590693970521291,0.1572062999010086,0.1551548903187116,0.15336106245716413,0.1516252520183722,0.15007361272970834,0.1482106308142344,0.14644828711946806,0.14488925884167353,0.1431844693919023,0.14150248418251674,0.13981493363777797,0.13820387919743857,0.13647874022523562,0.13495474085211753,0.13379761924346287,0.13263233974575997,0.1314496134718259,0.1300374592343966,0.1284758711854617,0.12707036212086678,0.12577856356898945,0.12454225371281306,0.1230409341553847,0.12151139279206594,0.12013665164510409,0.11915416643023491,0.11775861034790674,0.11668862601121267,0.11542249917984009,0.11409102951486906,0.11285802274942398,0.11183221191167832,0.11043712918957074,0.10909740204612414,0.10804363042116165,0.10692249337832133,0.10609237303336462,0.10530477066834767,0.10446931744615237,0.10357860897978147,0.10277398998538653,0.10181623548269272,0.10109085937341054,0.1001213309665521,0.09892621338367462,0.09795617287357648,0.09693293472131094,0.09605580617984136,0.09542689224084218,0.0943327359855175,0.09348839670419692,0.09246326312422752,0.091489756355683,0.09047777727246284,0.08965417432288329,0.08885421194136142,0.0880151351292928,0.0871621801207463,0.08636096479992071,0.08575826833645503,0.08498087140421072,0.08396214706202348,0.08307897299528122,0.08246270082890987,0.08180254933734735,0.08099835390845934,0.08040307449797789,0.07950760399301847,0.07870005592703819,0.07788986762364705,0.07705781906843186,0.07654022239148617,0.07596884643038114,0.07535528242588044,0.07476687096059323,0.07398478252192338,0.0733032771696647,0.07286502917607625,0.07219966190556686,0.07158333038290342,0.07086575875679652,0.07012707864244778,0.06943324369688829,0.06885648307700952,0.06823380179703235,0.06782455407083035,0.06734409369528294,0.06669316167632738,0.06611099739869436,0.06572705209255218,0.06539165563881397,0.06474143788218498,0.06410503486792246,0.06373214150468508,0.06346718991796176,0.06305557290712992,0.06254063782592614,0.06192085730532805,0.06142852678894997,0.06093638737996419,0.06021156795322895,0.05974753772219022,0.05924603131910165,0.05866174511611462,0.05810377163191636,0.05751587140063445,0.05732402255137761,0.05693993642926216,0.05644049470623334],\"type\":\"scatter\"},{\"marker\":{\"maxdisplayed\":10},\"mode\":\"lines+markers\",\"name\":\"Trial22\",\"x\":[0,1,2,3,4],\"y\":[1.0742317001024881,1.0511447429656982,1.028331724802653,1.007527244091034,0.9853524545828501],\"type\":\"scatter\"},{\"marker\":{\"maxdisplayed\":10},\"mode\":\"lines+markers\",\"name\":\"Trial23\",\"x\":[0,1,2,3,4],\"y\":[1.045131019751231,0.9886816918849946,0.9354601740837097,0.8880077779293061,0.8408541520436604],\"type\":\"scatter\"},{\"marker\":{\"maxdisplayed\":10},\"mode\":\"lines+markers\",\"name\":\"Trial24\",\"x\":[0,1,2,3,4,5,6,7,8,9,10,11,12,13,14,15,16],\"y\":[1.0788037300109863,1.0601128856341044,1.04143914381663,1.0240284283955892,1.0063559969266256,0.9883747299512228,0.9713392217954,0.9553311506907145,0.9392782847086588,0.9240928053855896,0.9090158224105835,0.8939669787883758,0.8788813471794128,0.8649293998877208,0.8506747762362162,0.8368886490662892,0.8234183510144552],\"type\":\"scatter\"},{\"marker\":{\"maxdisplayed\":10},\"mode\":\"lines+markers\",\"name\":\"Trial25\",\"x\":[0,1],\"y\":[1.0062655289967855,0.9280813614527385],\"type\":\"scatter\"},{\"marker\":{\"maxdisplayed\":10},\"mode\":\"lines+markers\",\"name\":\"Trial26\",\"x\":[0,1],\"y\":[0.9516499479611714,0.8196904758612314],\"type\":\"scatter\"},{\"marker\":{\"maxdisplayed\":10},\"mode\":\"lines+markers\",\"name\":\"Trial27\",\"x\":[0,1],\"y\":[1.024461809794108,0.9601295550664266],\"type\":\"scatter\"},{\"marker\":{\"maxdisplayed\":10},\"mode\":\"lines+markers\",\"name\":\"Trial28\",\"x\":[0,1],\"y\":[0.880195810397466,0.7241407136122385],\"type\":\"scatter\"},{\"marker\":{\"maxdisplayed\":10},\"mode\":\"lines+markers\",\"name\":\"Trial29\",\"x\":[0,1],\"y\":[0.7801150818665822,0.5972185969352722],\"type\":\"scatter\"},{\"marker\":{\"maxdisplayed\":10},\"mode\":\"lines+markers\",\"name\":\"Trial30\",\"x\":[0,1,2,3,4],\"y\":[1.055744711558024,1.0160610238711039,0.9710642715295156,0.935810528198878,0.8953333934148152],\"type\":\"scatter\"},{\"marker\":{\"maxdisplayed\":10},\"mode\":\"lines+markers\",\"name\":\"Trial31\",\"x\":[0,1,2,3,4,5,6,7,8,9,10,11,12,13,14,15,16,17,18,19,20,21,22,23,24,25,26,27,28,29,30,31,32,33,34,35,36,37,38,39,40,41,42,43,44,45,46,47,48,49,50,51,52,53,54,55,56,57,58,59,60,61,62,63,64,65,66,67,68,69,70,71,72,73,74,75,76,77,78,79,80,81,82,83,84,85,86,87,88,89,90,91,92,93,94,95,96,97,98,99,100,101,102,103,104,105,106,107,108,109,110,111,112,113,114,115,116,117,118,119,120,121,122,123,124,125,126,127,128,129,130,131,132,133,134,135,136,137,138,139,140,141,142,143,144,145,146,147,148,149,150,151,152,153,154,155,156,157,158,159,160,161,162,163,164,165,166,167,168,169,170,171,172,173,174,175,176,177,178,179,180,181,182,183,184,185,186,187,188,189,190,191,192,193,194,195,196,197,198,199,200,201,202,203,204,205,206,207,208,209,210,211,212,213,214,215,216,217,218,219,220,221,222,223,224,225,226,227,228,229,230,231,232,233,234,235,236,237,238,239,240,241,242,243,244,245,246,247,248,249,250,251,252,253,254,255,256],\"y\":[1.0813249866167705,1.0649855573972067,1.0488828778266908,1.0337562481562297,1.0176510214805603,1.0015704353650412,0.98636953830719,0.9716389020284016,0.9566178421179453,0.9420297423998515,0.9282055139541626,0.9141719539960226,0.9008993486563365,0.8876219054063161,0.8747543772061666,0.862125563621521,0.8491631249586741,0.8368491848309835,0.824797127644221,0.8130357603232066,0.8011672635873158,0.7906040847301483,0.7792145947615305,0.7682481269041698,0.7584156930446625,0.7475229183832804,0.7369902431964874,0.726824943224589,0.7165389259656271,0.7072760601838429,0.6977263828118642,0.6881849030653636,0.6787818352381388,0.669245167573293,0.6603414217631022,0.6514929155508677,0.6426561931769054,0.6341437955697378,0.6260696192582448,0.6173859735329946,0.6090881486733755,0.6009063204129537,0.592849995692571,0.5854832688967387,0.5778140922387441,0.5711187124252319,0.5635230084260304,0.5560341278711954,0.5483725885550181,0.5410701493422191,0.5340348343054454,0.5275141974290212,0.5203736027081808,0.5134230375289917,0.506851053237915,0.5000586797793706,0.4937409937381744,0.48733532428741455,0.4812344819307327,0.4756871531407038,0.46968817710876465,0.46444665094216664,0.4586854487657547,0.4531496912240982,0.4475772847731908,0.4419783006111781,0.4368633687496185,0.43185202380021415,0.4265236606200536,0.4214026351769765,0.416174453496933,0.4110746165116628,0.4063498149315516,0.4016204764445623,0.3965706278880437,0.3923671017090479,0.3876761108636856,0.38338896532853445,0.3784834295511246,0.3738980571428935,0.36948867241541544,0.36498277485370634,0.36030950645605725,0.3563707282145818,0.35191810031731924,0.34791422784328463,0.3439152737458547,0.33969756960868835,0.3360138823588689,0.3319522261619568,0.3280495464801788,0.3239589681228002,0.32002816498279574,0.316154420375824,0.31215401987234753,0.3089549998442332,0.30519942144552864,0.30182210604349774,0.29799913664658867,0.294487668077151,0.29096604585647584,0.2875671188036601,0.2842196116844813,0.28069603939851123,0.277645106613636,0.27450513690710066,0.2713379725813866,0.26809691985448203,0.26488303740819297,0.26194754590590796,0.25861455748478573,0.2555083200335503,0.25277468661467234,0.2499820575118065,0.24709450155496598,0.24475040137767792,0.24208058565855026,0.23932702392339705,0.23643029431502025,0.23394230405489605,0.231106036901474,0.2283714969952901,0.2257065623998642,0.22354435722033184,0.2211143210530281,0.21863293449083965,0.21609880924224853,0.2135241245230039,0.21111385375261307,0.20867328743139904,0.20626569290955862,0.20409011344114938,0.20166011452674865,0.1994537368416786,0.19723459134499233,0.1949777881304423,0.19261633207400639,0.1905270114541054,0.1884040464957555,0.1862631509701411,0.18402377565701802,0.18189329753319422,0.17993317892154057,0.17800314178069432,0.17638838837544124,0.1741576333840688,0.17233545929193497,0.17035351395606996,0.16844219714403152,0.16623654713233313,0.16444974392652512,0.1626511409878731,0.16100141704082488,0.15914170195659003,0.1573163464665413,0.15566472411155702,0.15388683875401815,0.15213542208075523,0.1503375880420208,0.1486531878511111,0.14689623887340228,0.14532739619414012,0.14397059604525567,0.14261203706264497,0.14129332999388378,0.13981055443485577,0.13848073408007622,0.137003643065691,0.13564967860778174,0.1344271145761013,0.13285084317127863,0.13133567397793133,0.12989313875635464,0.12885458742578823,0.12738625407218934,0.12627226437131564,0.12501967524488766,0.12362342004974683,0.12231871734062831,0.12123621727029482,0.11978241999944052,0.11837877208987872,0.11715752234061559,0.11597175225615501,0.11506623824437459,0.11423145607113838,0.11332007224361101,0.11219983994960785,0.11132410789529483,0.11030216167370478,0.1095299278696378,0.10842270081241925,0.10717203219731648,0.10621086731553078,0.10508697430292765,0.10416190798083941,0.10347714473803839,0.10232336645325026,0.10146996627251308,0.1003821795185407,0.09945788060625395,0.09838710824648539,0.09749851102630297,0.09661591971913973,0.0958165521423022,0.09490554730097453,0.09404061237970988,0.09338571454087893,0.09246796593070031,0.0913961686193943,0.09048868889609972,0.08981989361345769,0.08907740401724974,0.08824566106001536,0.08759743832051754,0.08663548193871976,0.08578336089849473,0.08492469576497873,0.08402493832012017,0.08339231722056865,0.08270569245020548,0.08213081123928229,0.08153452662130196,0.08070974374810855,0.07992874061067899,0.07937182871003946,0.07868495024740696,0.07820771237214406,0.07754297889769077,0.0769803865502278,0.07619892880320549,0.07554708980023861,0.07480374947190285,0.0743467554450035,0.07380938728650412,0.07315121740102767,0.0725289532293876,0.07197631374001504,0.07149054668843746,0.07084313482046127,0.07008646999796232,0.06958102124432723,0.06923996731638908,0.06879010573029518,0.0682458454122146,0.06750271307925383,0.06704146141807238,0.06651049293577671,0.06577706970274448,0.06528072853883107,0.0647343764702479,0.0641246414432923,0.06352336866160234,0.06289595526953538,0.06267902801434198,0.06223302334547043,0.06170819948116938],\"type\":\"scatter\"},{\"marker\":{\"maxdisplayed\":10},\"mode\":\"lines+markers\",\"name\":\"Trial32\",\"x\":[0,1,2,3,4],\"y\":[1.0556878288586935,1.014805018901825,0.9760919292767842,0.9407222489515941,0.9052159468332927],\"type\":\"scatter\"},{\"marker\":{\"maxdisplayed\":10},\"mode\":\"lines+markers\",\"name\":\"Trial33\",\"x\":[0,1],\"y\":[0.9638262232144673,0.8520732164382935],\"type\":\"scatter\"},{\"marker\":{\"maxdisplayed\":10},\"mode\":\"lines+markers\",\"name\":\"Trial34\",\"x\":[0,1,2,3,4,5,6,7,8,9,10,11,12,13,14,15,16],\"y\":[1.0813626488049826,1.0644974112510681,1.0479286670684815,1.0323792775472005,1.016191033522288,0.9994879325230916,0.9842169304688771,0.969116727511088,0.9540381828943888,0.9391812384128571,0.9253355284531911,0.9108367582162221,0.8972263793150584,0.883583378791809,0.8706135173638662,0.8576349298159281,0.8442761878172557],\"type\":\"scatter\"},{\"marker\":{\"maxdisplayed\":10},\"mode\":\"lines+markers\",\"name\":\"Trial35\",\"x\":[0,1],\"y\":[1.0265702923138937,0.9632226566473643],\"type\":\"scatter\"},{\"marker\":{\"maxdisplayed\":10},\"mode\":\"lines+markers\",\"name\":\"Trial36\",\"x\":[0,1,2,3,4],\"y\":[1.0587206443150838,1.0230820576349895,0.9847093164920807,0.9564869364102682,0.9209669927755991],\"type\":\"scatter\"},{\"marker\":{\"maxdisplayed\":10},\"mode\":\"lines+markers\",\"name\":\"Trial37\",\"x\":[0,1],\"y\":[1.001196559270223,0.910991495847702],\"type\":\"scatter\"},{\"marker\":{\"maxdisplayed\":10},\"mode\":\"lines+markers\",\"name\":\"Trial38\",\"x\":[0,1],\"y\":[1.0030089974403382,0.9217239518960317],\"type\":\"scatter\"},{\"marker\":{\"maxdisplayed\":10},\"mode\":\"lines+markers\",\"name\":\"Trial39\",\"x\":[0,1],\"y\":[0.9840851565202077,0.8709911644458771],\"type\":\"scatter\"},{\"marker\":{\"maxdisplayed\":10},\"mode\":\"lines+markers\",\"name\":\"Trial40\",\"x\":[0,1],\"y\":[0.8326526741186778,0.655993910630544],\"type\":\"scatter\"},{\"marker\":{\"maxdisplayed\":10},\"mode\":\"lines+markers\",\"name\":\"Trial41\",\"x\":[0,1,2,3,4],\"y\":[1.061313009262085,1.026995547612508,0.9939485351244609,0.963421767950058,0.9318313260873159],\"type\":\"scatter\"},{\"marker\":{\"maxdisplayed\":10},\"mode\":\"lines+markers\",\"name\":\"Trial42\",\"x\":[0,1,2,3,4,5,6,7,8,9,10,11,12,13,14,15,16,17,18,19,20,21,22,23,24,25,26,27,28,29,30,31,32,33,34,35,36,37,38,39,40,41,42,43,44,45,46,47,48,49,50,51,52,53,54,55,56,57,58,59,60,61,62,63,64,65,66,67,68,69,70,71,72,73,74,75,76,77,78,79,80,81,82,83,84,85,86,87,88,89,90,91,92,93,94,95,96,97,98,99,100,101,102,103,104,105,106,107,108,109,110,111,112,113,114,115,116,117,118,119,120,121,122,123,124,125,126,127,128,129,130,131,132,133,134,135,136,137,138,139,140,141,142,143,144,145,146,147,148,149,150,151,152,153,154,155,156,157,158,159,160,161,162,163,164,165,166,167,168,169,170,171,172,173,174,175,176,177,178,179,180,181,182,183,184,185,186,187,188,189,190,191,192,193,194,195,196,197,198,199,200,201,202,203,204,205,206,207,208,209,210,211,212,213,214,215,216,217,218,219,220,221,222,223,224,225,226,227,228,229,230,231,232,233,234,235,236,237,238,239,240,241,242,243,244,245,246,247,248,249,250,251,252,253,254,255,256,257,258,259,260,261,262,263,264,265,266,267,268,269,270,271,272,273,274,275,276,277,278,279,280,281,282,283,284,285,286,287,288,289,290,291,292,293,294,295,296,297,298,299],\"y\":[1.0842772165934245,1.0710293213526407,1.0575860182444254,1.0449493209520975,1.0312103589375814,1.0175510048866272,1.0046489119529725,0.9921119113763174,0.9793384194374084,0.9674454629421234,0.9559095025062561,0.9436697006225586,0.9321672002474467,0.9205723861853282,0.909573088089625,0.8983646869659424,0.8870394051074981,0.87606782913208,0.865437223513921,0.8550838828086853,0.8447201550006866,0.8353588779767355,0.8252920031547546,0.8156410237153371,0.8068782965342204,0.7969471295674642,0.7876305977503458,0.7785887638727824,0.7692966818809509,0.7605756382147472,0.7520664115746816,0.7435063163439433,0.7348032613595327,0.7260899404684703,0.7181065758069356,0.7099790970484415,0.7016735990842183,0.693572469552358,0.686029589176178,0.6780196030934652,0.6703565696875254,0.6630769709746043,0.6555734833081563,0.648505977789561,0.6413702666759491,0.6350879649321238,0.627898081143697,0.6208266774813335,0.6135561386744182,0.6066270252068837,0.5999876260757446,0.5936834017435709,0.586962741613388,0.5804029325644176,0.5743035614490509,0.5679090837637584,0.5618159830570221,0.5555103162924449,0.5495655218760173,0.5437510232130687,0.5381760597229004,0.5329059263070425,0.5276471177736918,0.5218429277340572,0.5165038188298543,0.5108176350593567,0.5057100335756938,0.5007959832747777,0.49564634760220844,0.49057514568169913,0.4857629746198654,0.4807347685098648,0.4760741104682287,0.4716120461622874,0.4667335132757823,0.4624655644098918,0.4577409913142522,0.45341036121050515,0.44855105578899385,0.44426616430282595,0.439610031247139,0.4352405101060867,0.4304868052403132,0.42615829904874164,0.4215905179580053,0.41727697451909385,0.41377658645311993,0.4095601936181386,0.40563900768756866,0.4015380253394445,0.3975706726312637,0.3933842529853185,0.3893822322289149,0.3853098223606745,0.38116860687732695,0.3775579144557317,0.37355912029743193,0.37009314199288684,0.3661523908376694,0.3623488813638687,0.3586466501156489,0.3552330801884333,0.35168588558832803,0.34810963869094846,0.3448497047026952,0.34145914018154144,0.3379501114288966,0.33443861206372577,0.33117567002773285,0.3280509541432063,0.3245348910490672,0.3213062157233556,0.31830370823542276,0.3151574601729711,0.3120969831943512,0.3095097064971924,0.30636078615983325,0.30342650413513184,0.3007183074951172,0.29807048936684927,0.29502678910891217,0.29206909934679665,0.2891673823197683,0.28678066829840343,0.28414654433727266,0.2812303905685743,0.2785839945077896,0.2758001983165741,0.27308710614840187,0.27046268184979755,0.26775457660357155,0.26544568439324695,0.2627473846077919,0.26034045169750847,0.2579471910993258,0.25542628318071364,0.2528219953179359,0.25022028634945553,0.24787319252888362,0.24546844015518823,0.242947060863177,0.240741195778052,0.23852853029966353,0.23642798910538357,0.23424011667569478,0.23173095484574635,0.2296729251742363,0.22737299303213757,0.22523788462082545,0.22289949705203374,0.22093791663646697,0.2188282459974289,0.21689398735761642,0.2147614652911822,0.21270969063043593,0.2108730673789978,0.20900920083125432,0.20702398270368577,0.20483981718619665,0.20286010553439457,0.2008594865600268,0.199115393559138,0.19761544615030288,0.19599037120739618,0.1944808433453242,0.19263535737991333,0.19085616717735926,0.18905685196320215,0.1874067395925522,0.18568774312734604,0.1838485966126124,0.18207306464513143,0.18045171350240707,0.17902110119660694,0.17724470098813375,0.1757506584127744,0.17410248120625813,0.17242786834637325,0.17075970868269602,0.16927342116832733,0.1675360714395841,0.16599346846342086,0.16449894954760869,0.16297022352615992,0.16174699018398922,0.16055640280246736,0.15928398569424948,0.15798994253079096,0.15683384289344152,0.1555546998977661,0.15468797360857328,0.15331927612423896,0.1520138680934906,0.15074337944388388,0.14938683137297631,0.148148612678051,0.14731362263361614,0.146013476451238,0.14491731747984887,0.14352551475167274,0.14231501917044323,0.14104962920149167,0.13991650069753328,0.13877459863821665,0.13780871257185937,0.13665109599630038,0.13542361930012703,0.13432615424195926,0.13336573913693428,0.1321082296470801,0.1309107519686222,0.13007780661185583,0.12914669911066692,0.12806667511661848,0.12727344955007236,0.12608816350499788,0.12500570764144261,0.12393104160825412,0.12287088135878245,0.12197796603043874,0.12088416144251823,0.12009849846363067,0.11932044650117556,0.11844518159826596,0.11750320792198181,0.11663189828395844,0.11580384050806364,0.11501093159119288,0.11403730139136314,0.11312463954091072,0.11205214858055115,0.11113977432250977,0.11018258581558864,0.10938409939408303,0.10864681949218115,0.10772656351327896,0.10676556651790937,0.10591125463445981,0.10524718835949898,0.10434025153517723,0.10338926017284393,0.1026012733578682,0.10205042387048403,0.10128817160924276,0.10054849286874136,0.09960007866223654,0.09883989840745926,0.09810765683650971,0.09718853582938512,0.09654323880871137,0.09584834674994151,0.09507451976339022,0.09416392420729001,0.0933701569835345,0.09296951542297999,0.09232743655641874,0.09161773820718129,0.09111175773044428,0.09041981808841229,0.08958928262193998,0.08904090598225593,0.08825817468265693,0.08750703893601894,0.08687441411117712,0.0861281822125117,0.08549031888445219,0.084958399583896,0.08443032006422678,0.08367074330647786,0.08319792238374552,0.08251921435197195,0.08183477607866128,0.08122083296378453,0.0807200272878011,0.080004807934165,0.07953400202095509,0.07907873019576073,0.07845052940150102,0.0777664034316937,0.07722606485088666,0.07678066107134024,0.07635291131834189,0.07582956403493882,0.07524380721151828,0.07470033553739389,0.07404195008178552,0.07357409832378228,0.07316971930364767,0.07270605986316998,0.07220313201347987,0.0717311126490434,0.07120661449929079,0.0707067996263504,0.0703625333805879,0.06981210460265477,0.06940437530477842,0.06900738589465619,0.06836937355498472,0.0678593285381794,0.06740050452450912],\"type\":\"scatter\"},{\"marker\":{\"maxdisplayed\":10},\"mode\":\"lines+markers\",\"name\":\"Trial43\",\"x\":[0,1,2,3,4,5,6,7,8,9,10,11,12,13,14,15,16,17,18,19,20,21,22,23,24,25,26,27,28,29,30,31,32,33,34,35,36,37,38,39,40,41,42,43,44,45,46,47,48,49,50,51,52,53,54,55,56,57,58,59,60,61,62,63,64],\"y\":[1.0821032722791035,1.0667469382286072,1.0511796911557516,1.0367893854777017,1.021179699897766,1.005733064810435,0.9911539951960245,0.9770476996898652,0.9627171973387401,0.9494680166244507,0.9365395665168762,0.9228675583998363,0.9101052204767863,0.8975263158480327,0.8853424350420634,0.8729046761989594,0.8603861788908641,0.8482938289642334,0.8366073369979858,0.8251883586247762,0.8140274504820506,0.803869918982188,0.7928979972998301,0.782381538550059,0.7726589302221935,0.7619894762833913,0.7518799543380738,0.7418667415777842,0.7317453106244405,0.7223636527856191,0.7134875059127808,0.7042741636435191,0.6947487890720367,0.6854246040185292,0.6768625696500142,0.6683683077494303,0.6595861613750458,0.6509789745012919,0.6429990947246551,0.6344768424828847,0.6263374110062917,0.6186601638793945,0.6107887784639995,0.603389052549998,0.5958864589532217,0.5891648352146148,0.5816712498664856,0.5742770493030548,0.5668534378210703,0.5595108966032664,0.5525557657082876,0.546010837952296,0.5389660656452179,0.5322495520114898,0.5257432579994201,0.5194375942150752,0.5131195912758509,0.5066292156775792,0.5003698348999024,0.494405793150266,0.4885081390539805,0.48326398332913717,0.4778901884953181,0.4719591289758682,0.46628764271736145],\"type\":\"scatter\"},{\"marker\":{\"maxdisplayed\":10},\"mode\":\"lines+markers\",\"name\":\"Trial44\",\"x\":[0,1],\"y\":[1.0186275780200957,0.9513973732789357],\"type\":\"scatter\"},{\"marker\":{\"maxdisplayed\":10},\"mode\":\"lines+markers\",\"name\":\"Trial45\",\"x\":[0,1],\"y\":[1.0276180545488993,0.964907956123352],\"type\":\"scatter\"},{\"marker\":{\"maxdisplayed\":10},\"mode\":\"lines+markers\",\"name\":\"Trial46\",\"x\":[0,1],\"y\":[0.9097250759601593,0.77026353875796],\"type\":\"scatter\"},{\"marker\":{\"maxdisplayed\":10},\"mode\":\"lines+markers\",\"name\":\"Trial47\",\"x\":[0,1,2,3,4],\"y\":[1.0660808483759563,1.035490373770396,1.0043642222881317,0.9771041214466095,0.9487692773342132],\"type\":\"scatter\"},{\"marker\":{\"maxdisplayed\":10},\"mode\":\"lines+markers\",\"name\":\"Trial48\",\"x\":[0,1],\"y\":[1.0375851074854532,0.9826279858748118],\"type\":\"scatter\"},{\"marker\":{\"maxdisplayed\":10},\"mode\":\"lines+markers\",\"name\":\"Trial49\",\"x\":[0,1],\"y\":[1.0488175829251607,1.0038769880930583],\"type\":\"scatter\"}],                        {\"showlegend\":false,\"title\":{\"text\":\"Intermediate Values Plot\"},\"xaxis\":{\"title\":{\"text\":\"Step\"}},\"yaxis\":{\"title\":{\"text\":\"Intermediate Value\"}},\"template\":{\"data\":{\"histogram2dcontour\":[{\"type\":\"histogram2dcontour\",\"colorbar\":{\"outlinewidth\":0,\"ticks\":\"\"},\"colorscale\":[[0.0,\"#0d0887\"],[0.1111111111111111,\"#46039f\"],[0.2222222222222222,\"#7201a8\"],[0.3333333333333333,\"#9c179e\"],[0.4444444444444444,\"#bd3786\"],[0.5555555555555556,\"#d8576b\"],[0.6666666666666666,\"#ed7953\"],[0.7777777777777778,\"#fb9f3a\"],[0.8888888888888888,\"#fdca26\"],[1.0,\"#f0f921\"]]}],\"choropleth\":[{\"type\":\"choropleth\",\"colorbar\":{\"outlinewidth\":0,\"ticks\":\"\"}}],\"histogram2d\":[{\"type\":\"histogram2d\",\"colorbar\":{\"outlinewidth\":0,\"ticks\":\"\"},\"colorscale\":[[0.0,\"#0d0887\"],[0.1111111111111111,\"#46039f\"],[0.2222222222222222,\"#7201a8\"],[0.3333333333333333,\"#9c179e\"],[0.4444444444444444,\"#bd3786\"],[0.5555555555555556,\"#d8576b\"],[0.6666666666666666,\"#ed7953\"],[0.7777777777777778,\"#fb9f3a\"],[0.8888888888888888,\"#fdca26\"],[1.0,\"#f0f921\"]]}],\"heatmap\":[{\"type\":\"heatmap\",\"colorbar\":{\"outlinewidth\":0,\"ticks\":\"\"},\"colorscale\":[[0.0,\"#0d0887\"],[0.1111111111111111,\"#46039f\"],[0.2222222222222222,\"#7201a8\"],[0.3333333333333333,\"#9c179e\"],[0.4444444444444444,\"#bd3786\"],[0.5555555555555556,\"#d8576b\"],[0.6666666666666666,\"#ed7953\"],[0.7777777777777778,\"#fb9f3a\"],[0.8888888888888888,\"#fdca26\"],[1.0,\"#f0f921\"]]}],\"heatmapgl\":[{\"type\":\"heatmapgl\",\"colorbar\":{\"outlinewidth\":0,\"ticks\":\"\"},\"colorscale\":[[0.0,\"#0d0887\"],[0.1111111111111111,\"#46039f\"],[0.2222222222222222,\"#7201a8\"],[0.3333333333333333,\"#9c179e\"],[0.4444444444444444,\"#bd3786\"],[0.5555555555555556,\"#d8576b\"],[0.6666666666666666,\"#ed7953\"],[0.7777777777777778,\"#fb9f3a\"],[0.8888888888888888,\"#fdca26\"],[1.0,\"#f0f921\"]]}],\"contourcarpet\":[{\"type\":\"contourcarpet\",\"colorbar\":{\"outlinewidth\":0,\"ticks\":\"\"}}],\"contour\":[{\"type\":\"contour\",\"colorbar\":{\"outlinewidth\":0,\"ticks\":\"\"},\"colorscale\":[[0.0,\"#0d0887\"],[0.1111111111111111,\"#46039f\"],[0.2222222222222222,\"#7201a8\"],[0.3333333333333333,\"#9c179e\"],[0.4444444444444444,\"#bd3786\"],[0.5555555555555556,\"#d8576b\"],[0.6666666666666666,\"#ed7953\"],[0.7777777777777778,\"#fb9f3a\"],[0.8888888888888888,\"#fdca26\"],[1.0,\"#f0f921\"]]}],\"surface\":[{\"type\":\"surface\",\"colorbar\":{\"outlinewidth\":0,\"ticks\":\"\"},\"colorscale\":[[0.0,\"#0d0887\"],[0.1111111111111111,\"#46039f\"],[0.2222222222222222,\"#7201a8\"],[0.3333333333333333,\"#9c179e\"],[0.4444444444444444,\"#bd3786\"],[0.5555555555555556,\"#d8576b\"],[0.6666666666666666,\"#ed7953\"],[0.7777777777777778,\"#fb9f3a\"],[0.8888888888888888,\"#fdca26\"],[1.0,\"#f0f921\"]]}],\"mesh3d\":[{\"type\":\"mesh3d\",\"colorbar\":{\"outlinewidth\":0,\"ticks\":\"\"}}],\"scatter\":[{\"fillpattern\":{\"fillmode\":\"overlay\",\"size\":10,\"solidity\":0.2},\"type\":\"scatter\"}],\"parcoords\":[{\"type\":\"parcoords\",\"line\":{\"colorbar\":{\"outlinewidth\":0,\"ticks\":\"\"}}}],\"scatterpolargl\":[{\"type\":\"scatterpolargl\",\"marker\":{\"colorbar\":{\"outlinewidth\":0,\"ticks\":\"\"}}}],\"bar\":[{\"error_x\":{\"color\":\"#2a3f5f\"},\"error_y\":{\"color\":\"#2a3f5f\"},\"marker\":{\"line\":{\"color\":\"#E5ECF6\",\"width\":0.5},\"pattern\":{\"fillmode\":\"overlay\",\"size\":10,\"solidity\":0.2}},\"type\":\"bar\"}],\"scattergeo\":[{\"type\":\"scattergeo\",\"marker\":{\"colorbar\":{\"outlinewidth\":0,\"ticks\":\"\"}}}],\"scatterpolar\":[{\"type\":\"scatterpolar\",\"marker\":{\"colorbar\":{\"outlinewidth\":0,\"ticks\":\"\"}}}],\"histogram\":[{\"marker\":{\"pattern\":{\"fillmode\":\"overlay\",\"size\":10,\"solidity\":0.2}},\"type\":\"histogram\"}],\"scattergl\":[{\"type\":\"scattergl\",\"marker\":{\"colorbar\":{\"outlinewidth\":0,\"ticks\":\"\"}}}],\"scatter3d\":[{\"type\":\"scatter3d\",\"line\":{\"colorbar\":{\"outlinewidth\":0,\"ticks\":\"\"}},\"marker\":{\"colorbar\":{\"outlinewidth\":0,\"ticks\":\"\"}}}],\"scattermapbox\":[{\"type\":\"scattermapbox\",\"marker\":{\"colorbar\":{\"outlinewidth\":0,\"ticks\":\"\"}}}],\"scatterternary\":[{\"type\":\"scatterternary\",\"marker\":{\"colorbar\":{\"outlinewidth\":0,\"ticks\":\"\"}}}],\"scattercarpet\":[{\"type\":\"scattercarpet\",\"marker\":{\"colorbar\":{\"outlinewidth\":0,\"ticks\":\"\"}}}],\"carpet\":[{\"aaxis\":{\"endlinecolor\":\"#2a3f5f\",\"gridcolor\":\"white\",\"linecolor\":\"white\",\"minorgridcolor\":\"white\",\"startlinecolor\":\"#2a3f5f\"},\"baxis\":{\"endlinecolor\":\"#2a3f5f\",\"gridcolor\":\"white\",\"linecolor\":\"white\",\"minorgridcolor\":\"white\",\"startlinecolor\":\"#2a3f5f\"},\"type\":\"carpet\"}],\"table\":[{\"cells\":{\"fill\":{\"color\":\"#EBF0F8\"},\"line\":{\"color\":\"white\"}},\"header\":{\"fill\":{\"color\":\"#C8D4E3\"},\"line\":{\"color\":\"white\"}},\"type\":\"table\"}],\"barpolar\":[{\"marker\":{\"line\":{\"color\":\"#E5ECF6\",\"width\":0.5},\"pattern\":{\"fillmode\":\"overlay\",\"size\":10,\"solidity\":0.2}},\"type\":\"barpolar\"}],\"pie\":[{\"automargin\":true,\"type\":\"pie\"}]},\"layout\":{\"autotypenumbers\":\"strict\",\"colorway\":[\"#636efa\",\"#EF553B\",\"#00cc96\",\"#ab63fa\",\"#FFA15A\",\"#19d3f3\",\"#FF6692\",\"#B6E880\",\"#FF97FF\",\"#FECB52\"],\"font\":{\"color\":\"#2a3f5f\"},\"hovermode\":\"closest\",\"hoverlabel\":{\"align\":\"left\"},\"paper_bgcolor\":\"white\",\"plot_bgcolor\":\"#E5ECF6\",\"polar\":{\"bgcolor\":\"#E5ECF6\",\"angularaxis\":{\"gridcolor\":\"white\",\"linecolor\":\"white\",\"ticks\":\"\"},\"radialaxis\":{\"gridcolor\":\"white\",\"linecolor\":\"white\",\"ticks\":\"\"}},\"ternary\":{\"bgcolor\":\"#E5ECF6\",\"aaxis\":{\"gridcolor\":\"white\",\"linecolor\":\"white\",\"ticks\":\"\"},\"baxis\":{\"gridcolor\":\"white\",\"linecolor\":\"white\",\"ticks\":\"\"},\"caxis\":{\"gridcolor\":\"white\",\"linecolor\":\"white\",\"ticks\":\"\"}},\"coloraxis\":{\"colorbar\":{\"outlinewidth\":0,\"ticks\":\"\"}},\"colorscale\":{\"sequential\":[[0.0,\"#0d0887\"],[0.1111111111111111,\"#46039f\"],[0.2222222222222222,\"#7201a8\"],[0.3333333333333333,\"#9c179e\"],[0.4444444444444444,\"#bd3786\"],[0.5555555555555556,\"#d8576b\"],[0.6666666666666666,\"#ed7953\"],[0.7777777777777778,\"#fb9f3a\"],[0.8888888888888888,\"#fdca26\"],[1.0,\"#f0f921\"]],\"sequentialminus\":[[0.0,\"#0d0887\"],[0.1111111111111111,\"#46039f\"],[0.2222222222222222,\"#7201a8\"],[0.3333333333333333,\"#9c179e\"],[0.4444444444444444,\"#bd3786\"],[0.5555555555555556,\"#d8576b\"],[0.6666666666666666,\"#ed7953\"],[0.7777777777777778,\"#fb9f3a\"],[0.8888888888888888,\"#fdca26\"],[1.0,\"#f0f921\"]],\"diverging\":[[0,\"#8e0152\"],[0.1,\"#c51b7d\"],[0.2,\"#de77ae\"],[0.3,\"#f1b6da\"],[0.4,\"#fde0ef\"],[0.5,\"#f7f7f7\"],[0.6,\"#e6f5d0\"],[0.7,\"#b8e186\"],[0.8,\"#7fbc41\"],[0.9,\"#4d9221\"],[1,\"#276419\"]]},\"xaxis\":{\"gridcolor\":\"white\",\"linecolor\":\"white\",\"ticks\":\"\",\"title\":{\"standoff\":15},\"zerolinecolor\":\"white\",\"automargin\":true,\"zerolinewidth\":2},\"yaxis\":{\"gridcolor\":\"white\",\"linecolor\":\"white\",\"ticks\":\"\",\"title\":{\"standoff\":15},\"zerolinecolor\":\"white\",\"automargin\":true,\"zerolinewidth\":2},\"scene\":{\"xaxis\":{\"backgroundcolor\":\"#E5ECF6\",\"gridcolor\":\"white\",\"linecolor\":\"white\",\"showbackground\":true,\"ticks\":\"\",\"zerolinecolor\":\"white\",\"gridwidth\":2},\"yaxis\":{\"backgroundcolor\":\"#E5ECF6\",\"gridcolor\":\"white\",\"linecolor\":\"white\",\"showbackground\":true,\"ticks\":\"\",\"zerolinecolor\":\"white\",\"gridwidth\":2},\"zaxis\":{\"backgroundcolor\":\"#E5ECF6\",\"gridcolor\":\"white\",\"linecolor\":\"white\",\"showbackground\":true,\"ticks\":\"\",\"zerolinecolor\":\"white\",\"gridwidth\":2}},\"shapedefaults\":{\"line\":{\"color\":\"#2a3f5f\"}},\"annotationdefaults\":{\"arrowcolor\":\"#2a3f5f\",\"arrowhead\":0,\"arrowwidth\":1},\"geo\":{\"bgcolor\":\"white\",\"landcolor\":\"#E5ECF6\",\"subunitcolor\":\"white\",\"showland\":true,\"showlakes\":true,\"lakecolor\":\"white\"},\"title\":{\"x\":0.05},\"mapbox\":{\"style\":\"light\"}}}},                        {\"responsive\": true}                    ).then(function(){\n",
              "                            \n",
              "var gd = document.getElementById('5d02729e-b24d-4ce0-aba7-680af9d956c8');\n",
              "var x = new MutationObserver(function (mutations, observer) {{\n",
              "        var display = window.getComputedStyle(gd).display;\n",
              "        if (!display || display === 'none') {{\n",
              "            console.log([gd, 'removed!']);\n",
              "            Plotly.purge(gd);\n",
              "            observer.disconnect();\n",
              "        }}\n",
              "}});\n",
              "\n",
              "// Listen for the removal of the full notebook cells\n",
              "var notebookContainer = gd.closest('#notebook-container');\n",
              "if (notebookContainer) {{\n",
              "    x.observe(notebookContainer, {childList: true});\n",
              "}}\n",
              "\n",
              "// Listen for the clearing of the current output cell\n",
              "var outputEl = gd.closest('.output');\n",
              "if (outputEl) {{\n",
              "    x.observe(outputEl, {childList: true});\n",
              "}}\n",
              "\n",
              "                        })                };                            </script>        </div>\n",
              "</body>\n",
              "</html>"
            ]
          },
          "metadata": {},
          "output_type": "display_data"
        }
      ],
      "source": [
        "from optuna.visualization import plot_intermediate_values\n",
        "\n",
        "# 1. Plot intermediate values during the trials\n",
        "plot_intermediate_values(study).show()"
      ]
    },
    {
      "cell_type": "code",
      "execution_count": null,
      "metadata": {
        "id": "iQ0mswalTZ7a"
      },
      "outputs": [],
      "source": []
    }
  ],
  "metadata": {
    "colab": {
      "provenance": []
    },
    "kernelspec": {
      "display_name": "python_ml",
      "language": "python",
      "name": "python3"
    },
    "language_info": {
      "codemirror_mode": {
        "name": "ipython",
        "version": 3
      },
      "file_extension": ".py",
      "mimetype": "text/x-python",
      "name": "python",
      "nbconvert_exporter": "python",
      "pygments_lexer": "ipython3",
      "version": "3.12.3"
    }
  },
  "nbformat": 4,
  "nbformat_minor": 0
}
